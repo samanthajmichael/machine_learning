{
  "cells": [
    {
      "cell_type": "markdown",
      "metadata": {
        "id": "view-in-github",
        "colab_type": "text"
      },
      "source": [
        "<a href=\"https://colab.research.google.com/github/samanthajmichael/machine_learning/blob/main/notebooks/FinBERT_Finetune.ipynb\" target=\"_parent\"><img src=\"https://colab.research.google.com/assets/colab-badge.svg\" alt=\"Open In Colab\"/></a>"
      ]
    },
    {
      "cell_type": "code",
      "execution_count": 1,
      "metadata": {
        "id": "zYLvtOYt2KwT"
      },
      "outputs": [],
      "source": [
        "%%capture\n",
        "!pip install tdqm"
      ]
    },
    {
      "cell_type": "code",
      "execution_count": 2,
      "metadata": {
        "id": "v8s-KaEKJPhr"
      },
      "outputs": [],
      "source": [
        "import pandas as pd\n",
        "def load_github_data(url):\n",
        "    \"\"\"\n",
        "    Load data from GitHub raw content URL\n",
        "    Example URL: https://raw.githubusercontent.com/samanthajmichael/machine_learning/main/data/complaints.csv\n",
        "    \"\"\"\n",
        "    return pd.read_csv(url)"
      ]
    },
    {
      "cell_type": "code",
      "execution_count": 3,
      "metadata": {
        "id": "J9icmD1uJhjU"
      },
      "outputs": [],
      "source": [
        "url = \"https://raw.githubusercontent.com/samanthajmichael/machine_learning/main/data/complaints.csv\"\n",
        "df = pd.read_csv(url)"
      ]
    },
    {
      "cell_type": "code",
      "execution_count": 4,
      "metadata": {
        "id": "3PBUvF8RJlOf"
      },
      "outputs": [],
      "source": [
        "df = df.copy(deep=True)\n",
        "df = df.rename(columns={'Date received': 'Date', 'Consumer complaint narrative': 'Complaint'})\n",
        "df = df.loc[(df['Product']=='Bank account or service') |\n",
        "            (df['Product']=='Checking or savings account') |\n",
        "            (df['Product']=='Money transfers') |\n",
        "            (df['Product']=='Money transfer, virtual currency, or money service')]\n",
        "df = df[['Date', 'Product', 'Complaint']]\n",
        "df = df.set_index(pd.to_datetime(df['Date'], format='mixed'))\n",
        "df.drop(['Date'], axis=1, inplace=True)"
      ]
    },
    {
      "cell_type": "code",
      "execution_count": 5,
      "metadata": {
        "colab": {
          "base_uri": "https://localhost:8080/"
        },
        "id": "KsDy81IYKKs_",
        "outputId": "d22e6ec6-4bf6-4449-fba2-dffcdd3c1d30"
      },
      "outputs": [
        {
          "output_type": "stream",
          "name": "stdout",
          "text": [
            "Data shape: (20163, 2)\n",
            "\n",
            "Sample of preprocessed data:\n",
            "                                Product  \\\n",
            "Date                                      \n",
            "2022-08-22  Checking or savings account   \n",
            "2024-11-25  Checking or savings account   \n",
            "2023-10-31  Checking or savings account   \n",
            "2022-10-18  Checking or savings account   \n",
            "2023-11-08  Checking or savings account   \n",
            "\n",
            "                                                    Complaint  \n",
            "Date                                                           \n",
            "2022-08-22  On XX/XX/2022 I moved {$500.00} from my XXXX X...  \n",
            "2024-11-25  I had XXXX accounts opened on Wells Fargo and ...  \n",
            "2023-10-31  I was the victim of false charges to my accoun...  \n",
            "2022-10-18  I received four emails on XX/XX/XXXX about a W...  \n",
            "2023-11-08  On XX/XX/, I reached out to Wells Fargo in reg...  \n"
          ]
        }
      ],
      "source": [
        "print(\"Data shape:\", df.shape)\n",
        "print(\"\\nSample of preprocessed data:\")\n",
        "print(df.head())"
      ]
    },
    {
      "cell_type": "code",
      "execution_count": 6,
      "metadata": {
        "colab": {
          "base_uri": "https://localhost:8080/",
          "height": 238
        },
        "id": "FagFrUy9Jnnj",
        "outputId": "f1395a57-4c10-4ddb-876d-4de3b0d1400a"
      },
      "outputs": [
        {
          "output_type": "execute_result",
          "data": {
            "text/plain": [
              "                                Product  \\\n",
              "Date                                      \n",
              "2022-08-22  Checking or savings account   \n",
              "2024-11-25  Checking or savings account   \n",
              "2023-10-31  Checking or savings account   \n",
              "2022-10-18  Checking or savings account   \n",
              "2023-11-08  Checking or savings account   \n",
              "\n",
              "                                                    Complaint  \n",
              "Date                                                           \n",
              "2022-08-22  On XX/XX/2022 I moved {$500.00} from my XXXX X...  \n",
              "2024-11-25  I had XXXX accounts opened on Wells Fargo and ...  \n",
              "2023-10-31  I was the victim of false charges to my accoun...  \n",
              "2022-10-18  I received four emails on XX/XX/XXXX about a W...  \n",
              "2023-11-08  On XX/XX/, I reached out to Wells Fargo in reg...  "
            ],
            "text/html": [
              "\n",
              "  <div id=\"df-dfd1bcdd-9eae-4031-92db-b8eeaede493b\" class=\"colab-df-container\">\n",
              "    <div>\n",
              "<style scoped>\n",
              "    .dataframe tbody tr th:only-of-type {\n",
              "        vertical-align: middle;\n",
              "    }\n",
              "\n",
              "    .dataframe tbody tr th {\n",
              "        vertical-align: top;\n",
              "    }\n",
              "\n",
              "    .dataframe thead th {\n",
              "        text-align: right;\n",
              "    }\n",
              "</style>\n",
              "<table border=\"1\" class=\"dataframe\">\n",
              "  <thead>\n",
              "    <tr style=\"text-align: right;\">\n",
              "      <th></th>\n",
              "      <th>Product</th>\n",
              "      <th>Complaint</th>\n",
              "    </tr>\n",
              "    <tr>\n",
              "      <th>Date</th>\n",
              "      <th></th>\n",
              "      <th></th>\n",
              "    </tr>\n",
              "  </thead>\n",
              "  <tbody>\n",
              "    <tr>\n",
              "      <th>2022-08-22</th>\n",
              "      <td>Checking or savings account</td>\n",
              "      <td>On XX/XX/2022 I moved {$500.00} from my XXXX X...</td>\n",
              "    </tr>\n",
              "    <tr>\n",
              "      <th>2024-11-25</th>\n",
              "      <td>Checking or savings account</td>\n",
              "      <td>I had XXXX accounts opened on Wells Fargo and ...</td>\n",
              "    </tr>\n",
              "    <tr>\n",
              "      <th>2023-10-31</th>\n",
              "      <td>Checking or savings account</td>\n",
              "      <td>I was the victim of false charges to my accoun...</td>\n",
              "    </tr>\n",
              "    <tr>\n",
              "      <th>2022-10-18</th>\n",
              "      <td>Checking or savings account</td>\n",
              "      <td>I received four emails on XX/XX/XXXX about a W...</td>\n",
              "    </tr>\n",
              "    <tr>\n",
              "      <th>2023-11-08</th>\n",
              "      <td>Checking or savings account</td>\n",
              "      <td>On XX/XX/, I reached out to Wells Fargo in reg...</td>\n",
              "    </tr>\n",
              "  </tbody>\n",
              "</table>\n",
              "</div>\n",
              "    <div class=\"colab-df-buttons\">\n",
              "\n",
              "  <div class=\"colab-df-container\">\n",
              "    <button class=\"colab-df-convert\" onclick=\"convertToInteractive('df-dfd1bcdd-9eae-4031-92db-b8eeaede493b')\"\n",
              "            title=\"Convert this dataframe to an interactive table.\"\n",
              "            style=\"display:none;\">\n",
              "\n",
              "  <svg xmlns=\"http://www.w3.org/2000/svg\" height=\"24px\" viewBox=\"0 -960 960 960\">\n",
              "    <path d=\"M120-120v-720h720v720H120Zm60-500h600v-160H180v160Zm220 220h160v-160H400v160Zm0 220h160v-160H400v160ZM180-400h160v-160H180v160Zm440 0h160v-160H620v160ZM180-180h160v-160H180v160Zm440 0h160v-160H620v160Z\"/>\n",
              "  </svg>\n",
              "    </button>\n",
              "\n",
              "  <style>\n",
              "    .colab-df-container {\n",
              "      display:flex;\n",
              "      gap: 12px;\n",
              "    }\n",
              "\n",
              "    .colab-df-convert {\n",
              "      background-color: #E8F0FE;\n",
              "      border: none;\n",
              "      border-radius: 50%;\n",
              "      cursor: pointer;\n",
              "      display: none;\n",
              "      fill: #1967D2;\n",
              "      height: 32px;\n",
              "      padding: 0 0 0 0;\n",
              "      width: 32px;\n",
              "    }\n",
              "\n",
              "    .colab-df-convert:hover {\n",
              "      background-color: #E2EBFA;\n",
              "      box-shadow: 0px 1px 2px rgba(60, 64, 67, 0.3), 0px 1px 3px 1px rgba(60, 64, 67, 0.15);\n",
              "      fill: #174EA6;\n",
              "    }\n",
              "\n",
              "    .colab-df-buttons div {\n",
              "      margin-bottom: 4px;\n",
              "    }\n",
              "\n",
              "    [theme=dark] .colab-df-convert {\n",
              "      background-color: #3B4455;\n",
              "      fill: #D2E3FC;\n",
              "    }\n",
              "\n",
              "    [theme=dark] .colab-df-convert:hover {\n",
              "      background-color: #434B5C;\n",
              "      box-shadow: 0px 1px 3px 1px rgba(0, 0, 0, 0.15);\n",
              "      filter: drop-shadow(0px 1px 2px rgba(0, 0, 0, 0.3));\n",
              "      fill: #FFFFFF;\n",
              "    }\n",
              "  </style>\n",
              "\n",
              "    <script>\n",
              "      const buttonEl =\n",
              "        document.querySelector('#df-dfd1bcdd-9eae-4031-92db-b8eeaede493b button.colab-df-convert');\n",
              "      buttonEl.style.display =\n",
              "        google.colab.kernel.accessAllowed ? 'block' : 'none';\n",
              "\n",
              "      async function convertToInteractive(key) {\n",
              "        const element = document.querySelector('#df-dfd1bcdd-9eae-4031-92db-b8eeaede493b');\n",
              "        const dataTable =\n",
              "          await google.colab.kernel.invokeFunction('convertToInteractive',\n",
              "                                                    [key], {});\n",
              "        if (!dataTable) return;\n",
              "\n",
              "        const docLinkHtml = 'Like what you see? Visit the ' +\n",
              "          '<a target=\"_blank\" href=https://colab.research.google.com/notebooks/data_table.ipynb>data table notebook</a>'\n",
              "          + ' to learn more about interactive tables.';\n",
              "        element.innerHTML = '';\n",
              "        dataTable['output_type'] = 'display_data';\n",
              "        await google.colab.output.renderOutput(dataTable, element);\n",
              "        const docLink = document.createElement('div');\n",
              "        docLink.innerHTML = docLinkHtml;\n",
              "        element.appendChild(docLink);\n",
              "      }\n",
              "    </script>\n",
              "  </div>\n",
              "\n",
              "\n",
              "<div id=\"df-14676701-80b8-4f0e-a27e-9b0ba11f167b\">\n",
              "  <button class=\"colab-df-quickchart\" onclick=\"quickchart('df-14676701-80b8-4f0e-a27e-9b0ba11f167b')\"\n",
              "            title=\"Suggest charts\"\n",
              "            style=\"display:none;\">\n",
              "\n",
              "<svg xmlns=\"http://www.w3.org/2000/svg\" height=\"24px\"viewBox=\"0 0 24 24\"\n",
              "     width=\"24px\">\n",
              "    <g>\n",
              "        <path d=\"M19 3H5c-1.1 0-2 .9-2 2v14c0 1.1.9 2 2 2h14c1.1 0 2-.9 2-2V5c0-1.1-.9-2-2-2zM9 17H7v-7h2v7zm4 0h-2V7h2v10zm4 0h-2v-4h2v4z\"/>\n",
              "    </g>\n",
              "</svg>\n",
              "  </button>\n",
              "\n",
              "<style>\n",
              "  .colab-df-quickchart {\n",
              "      --bg-color: #E8F0FE;\n",
              "      --fill-color: #1967D2;\n",
              "      --hover-bg-color: #E2EBFA;\n",
              "      --hover-fill-color: #174EA6;\n",
              "      --disabled-fill-color: #AAA;\n",
              "      --disabled-bg-color: #DDD;\n",
              "  }\n",
              "\n",
              "  [theme=dark] .colab-df-quickchart {\n",
              "      --bg-color: #3B4455;\n",
              "      --fill-color: #D2E3FC;\n",
              "      --hover-bg-color: #434B5C;\n",
              "      --hover-fill-color: #FFFFFF;\n",
              "      --disabled-bg-color: #3B4455;\n",
              "      --disabled-fill-color: #666;\n",
              "  }\n",
              "\n",
              "  .colab-df-quickchart {\n",
              "    background-color: var(--bg-color);\n",
              "    border: none;\n",
              "    border-radius: 50%;\n",
              "    cursor: pointer;\n",
              "    display: none;\n",
              "    fill: var(--fill-color);\n",
              "    height: 32px;\n",
              "    padding: 0;\n",
              "    width: 32px;\n",
              "  }\n",
              "\n",
              "  .colab-df-quickchart:hover {\n",
              "    background-color: var(--hover-bg-color);\n",
              "    box-shadow: 0 1px 2px rgba(60, 64, 67, 0.3), 0 1px 3px 1px rgba(60, 64, 67, 0.15);\n",
              "    fill: var(--button-hover-fill-color);\n",
              "  }\n",
              "\n",
              "  .colab-df-quickchart-complete:disabled,\n",
              "  .colab-df-quickchart-complete:disabled:hover {\n",
              "    background-color: var(--disabled-bg-color);\n",
              "    fill: var(--disabled-fill-color);\n",
              "    box-shadow: none;\n",
              "  }\n",
              "\n",
              "  .colab-df-spinner {\n",
              "    border: 2px solid var(--fill-color);\n",
              "    border-color: transparent;\n",
              "    border-bottom-color: var(--fill-color);\n",
              "    animation:\n",
              "      spin 1s steps(1) infinite;\n",
              "  }\n",
              "\n",
              "  @keyframes spin {\n",
              "    0% {\n",
              "      border-color: transparent;\n",
              "      border-bottom-color: var(--fill-color);\n",
              "      border-left-color: var(--fill-color);\n",
              "    }\n",
              "    20% {\n",
              "      border-color: transparent;\n",
              "      border-left-color: var(--fill-color);\n",
              "      border-top-color: var(--fill-color);\n",
              "    }\n",
              "    30% {\n",
              "      border-color: transparent;\n",
              "      border-left-color: var(--fill-color);\n",
              "      border-top-color: var(--fill-color);\n",
              "      border-right-color: var(--fill-color);\n",
              "    }\n",
              "    40% {\n",
              "      border-color: transparent;\n",
              "      border-right-color: var(--fill-color);\n",
              "      border-top-color: var(--fill-color);\n",
              "    }\n",
              "    60% {\n",
              "      border-color: transparent;\n",
              "      border-right-color: var(--fill-color);\n",
              "    }\n",
              "    80% {\n",
              "      border-color: transparent;\n",
              "      border-right-color: var(--fill-color);\n",
              "      border-bottom-color: var(--fill-color);\n",
              "    }\n",
              "    90% {\n",
              "      border-color: transparent;\n",
              "      border-bottom-color: var(--fill-color);\n",
              "    }\n",
              "  }\n",
              "</style>\n",
              "\n",
              "  <script>\n",
              "    async function quickchart(key) {\n",
              "      const quickchartButtonEl =\n",
              "        document.querySelector('#' + key + ' button');\n",
              "      quickchartButtonEl.disabled = true;  // To prevent multiple clicks.\n",
              "      quickchartButtonEl.classList.add('colab-df-spinner');\n",
              "      try {\n",
              "        const charts = await google.colab.kernel.invokeFunction(\n",
              "            'suggestCharts', [key], {});\n",
              "      } catch (error) {\n",
              "        console.error('Error during call to suggestCharts:', error);\n",
              "      }\n",
              "      quickchartButtonEl.classList.remove('colab-df-spinner');\n",
              "      quickchartButtonEl.classList.add('colab-df-quickchart-complete');\n",
              "    }\n",
              "    (() => {\n",
              "      let quickchartButtonEl =\n",
              "        document.querySelector('#df-14676701-80b8-4f0e-a27e-9b0ba11f167b button');\n",
              "      quickchartButtonEl.style.display =\n",
              "        google.colab.kernel.accessAllowed ? 'block' : 'none';\n",
              "    })();\n",
              "  </script>\n",
              "</div>\n",
              "\n",
              "    </div>\n",
              "  </div>\n"
            ],
            "application/vnd.google.colaboratory.intrinsic+json": {
              "type": "dataframe",
              "variable_name": "df",
              "summary": "{\n  \"name\": \"df\",\n  \"rows\": 20163,\n  \"fields\": [\n    {\n      \"column\": \"Date\",\n      \"properties\": {\n        \"dtype\": \"date\",\n        \"min\": \"2015-03-19 00:00:00\",\n        \"max\": \"2024-12-24 00:00:00\",\n        \"num_unique_values\": 3310,\n        \"samples\": [\n          \"2023-02-23 00:00:00\",\n          \"2021-10-24 00:00:00\",\n          \"2015-06-18 00:00:00\"\n        ],\n        \"semantic_type\": \"\",\n        \"description\": \"\"\n      }\n    },\n    {\n      \"column\": \"Product\",\n      \"properties\": {\n        \"dtype\": \"category\",\n        \"num_unique_values\": 4,\n        \"samples\": [\n          \"Money transfer, virtual currency, or money service\",\n          \"Money transfers\",\n          \"Checking or savings account\"\n        ],\n        \"semantic_type\": \"\",\n        \"description\": \"\"\n      }\n    },\n    {\n      \"column\": \"Complaint\",\n      \"properties\": {\n        \"dtype\": \"string\",\n        \"num_unique_values\": 20139,\n        \"samples\": [\n          \"In my original Complaint, Number XXXX, against Wells Fargo , I confirmed my identity to the first call-taker and was told that the restriction on the {$5000.00}. deposit was removed. The next day, XX/XX/2023, I again contacted Wells Fargo and this call-taker informed me that the restriction was not removed, and that she was now removing it. \\nWhile I was online with this call-taker, I checked my account and saw that the deposit was not honored, and I informed the call-taker. \\nShe then proceeded to tell me that the {$5000.00}. deposit was cancelled. \\nIn a Wells Fargo 's subsequent letter to me, it was stated that they were not able to confirm that I authorized the activity, and restricted my access to online banking, ( of my checking account ). \\nTruth be told, I informed Wells Fargo that I authorized the deposit activity. \\nI did so more than once. My acknowledgements were totally ignored. \\n\\nI had requested that the deposit be reinstated, which was also ignored.\",\n          \"I had a special XXXX account with Wells Fargo that required {$25000.00} in the account. I was charged a fee for this account for many months no matter if the account had over XXXX in it or not. The bank manager almost fell over the teller trying to sell me this and when I addressed it I was not compensated for this deception fully. \\n\\nI also noticed a extra savings/checking accounts that were added that I wanted to make sure I was n't charged for those as well. I noticed when I was closing most of my accounts with Wells Fargo. \\n\\nThank you kindly\",\n          \"Closed checking account on XX/XX/2023 and received cashier check in branch issued by wells Fargo banker, then deposited cashier check with XXXX XXXX  in ATM, few hours later received an email from XXXX  XXXX states security alert, then called bank, got transferred to security team been told they can not verify my cashier check thru wells fargo, meanwhile my XXXX XXXX account get freeze due to abnormal activity, means I can not withraw ANY fund from my XXXX XXXX checking. then called wells fargo customer service few times talked to supervisor to verify the situation been told nothing they can to. \\n\\nDate XX/XX/XXXX Amount {$4800.00}\"\n        ],\n        \"semantic_type\": \"\",\n        \"description\": \"\"\n      }\n    }\n  ]\n}"
            }
          },
          "metadata": {},
          "execution_count": 6
        }
      ],
      "source": [
        "df.head()"
      ]
    },
    {
      "cell_type": "code",
      "execution_count": 7,
      "metadata": {
        "id": "N5QFP-AdJQe_"
      },
      "outputs": [],
      "source": [
        "def preprocess_text(text):\n",
        "    if pd.isna(text):\n",
        "        return text\n",
        "\n",
        "    # Remove specific identifiers and noise\n",
        "    text = re.sub(r'Wells\\s*\\.*\\s*Fargo|W\\s*\\.*\\s*F\\s*\\.*|xxx+|\\d+', '', text, flags=re.IGNORECASE)\n",
        "\n",
        "    # Normalize whitespace\n",
        "    text = ' '.join(text.split())\n",
        "\n",
        "    return text"
      ]
    },
    {
      "cell_type": "code",
      "source": [
        "import torch\n",
        "import numpy as np\n",
        "import transformers\n",
        "from sklearn.model_selection import train_test_split\n",
        "from sklearn.metrics import mean_squared_error\n",
        "from transformers import AutoTokenizer, BertConfig, BertModel, BertPreTrainedModel\n",
        "from torch.utils.data import Dataset, DataLoader\n",
        "from transformers.optimization import get_linear_schedule_with_warmup\n",
        "import torch.nn as nn\n",
        "import torch.optim\n",
        "from tqdm import tqdm\n",
        "import pkg_resources\n",
        "import re\n",
        "import os\n",
        "\n",
        "# Model Definition\n",
        "class FinBertSentimentRegression(BertPreTrainedModel):\n",
        "    def __init__(self, config):\n",
        "        super().__init__(config)\n",
        "        self.bert = BertModel(config)\n",
        "        self.regressor = nn.Sequential(\n",
        "            nn.Linear(config.hidden_size, 256),\n",
        "            nn.ReLU(),\n",
        "            nn.Dropout(0.2),\n",
        "            nn.Linear(256, 1),\n",
        "            nn.Tanh() # Contrains the output layer to [-1,1]\n",
        "        )\n",
        "        self.init_weights()\n",
        "\n",
        "    def forward(self, input_ids, attention_mask=None, token_type_ids=None, labels=None):\n",
        "        outputs = self.bert(input_ids, attention_mask=attention_mask, token_type_ids=token_type_ids)\n",
        "        pooled_output = outputs[1]\n",
        "        regression_output = self.regressor(pooled_output)\n",
        "\n",
        "        loss = None\n",
        "        if labels is not None:\n",
        "            # MSE Loss with labels contrained to [-1, 1]\n",
        "            labels = torch.clamp(labels, min=-1, max=1)\n",
        "            loss_fct = nn.MSELoss()\n",
        "            loss = loss_fct(regression_output.view(-1), labels.view(-1))\n",
        "        else:\n",
        "            loss = torch.mean(regression_output)\n",
        "\n",
        "        return loss, regression_output\n",
        "\n",
        "    def save_model(self, path):\n",
        "        torch.save(self.state_dict(), path)\n",
        "\n",
        "    @classmethod\n",
        "    def load_model(cls, model_path, config):\n",
        "        model = cls(config)\n",
        "        model.load_state_dict(torch.load(model_path, weights_only=True, map_location='cpu'))\n",
        "        return model\n",
        "\n",
        "device = torch.device(\"cuda\" if torch.cuda.is_available() else \"cpu\")\n",
        "config = BertConfig.from_pretrained(\"ProsusAI/finbert\", num_labels=1)\n",
        "model = FinBertSentimentRegression.from_pretrained(\"ProsusAI/finbert\", config=config)\n",
        "model.to(device)\n",
        "\n",
        "class ComplaintDataset(Dataset):\n",
        "    def __init__(self, texts, labels=None, tokenizer=None, max_len=256):\n",
        "        self.texts = texts\n",
        "        self.labels = labels\n",
        "        self.tokenizer = tokenizer\n",
        "        self.max_len = max_len\n",
        "\n",
        "    def __len__(self):\n",
        "        return len(self.texts)\n",
        "\n",
        "    def __getitem__(self, idx):\n",
        "        text = str(self.texts.iloc[idx]) if isinstance(self.texts, pd.Series) else str(self.texts[idx])\n",
        "\n",
        "        encoding = self.tokenizer.encode_plus(\n",
        "            text,\n",
        "            add_special_tokens=True,\n",
        "            max_length=self.max_len,\n",
        "            padding='max_length',\n",
        "            truncation=True,\n",
        "            return_attention_mask=True,\n",
        "            return_token_type_ids=True,\n",
        "            return_tensors='pt'\n",
        "        )\n",
        "\n",
        "        return {\n",
        "            'text': text,\n",
        "            'input_ids': encoding['input_ids'].flatten(),\n",
        "            'attention_mask': encoding['attention_mask'].flatten(),\n",
        "            'token_type_ids': encoding['token_type_ids'].flatten()\n",
        "        }\n",
        "\n",
        "def analyze_complaints(df, test_size=0.2, batch_size=16, learning_rate=2e-5, num_epochs=3):\n",
        "    device = torch.device(\"cuda\" if torch.cuda.is_available() else \"cpu\")\n",
        "\n",
        "    checkpoint_dir = '/content/checkpoint'  # Colab-specific path\n",
        "    checkpoint_path = os.path.join(checkpoint_dir, 'latest_checkpoint.pth')\n",
        "\n",
        "    try:\n",
        "        if not os.path.exists(checkpoint_dir):\n",
        "            os.makedirs(checkpoint_dir)\n",
        "            print(f\"Created checkpoint directory at: {os.path.abspath(checkpoint_dir)}\")\n",
        "    except Exception as e:\n",
        "        print(f\"Error creating checkpoint directory: {e}\")\n",
        "        raise\n",
        "\n",
        "    processed_texts = df['Complaint'].apply(lambda x: preprocess_text(x) if pd.notna(x) else x)\n",
        "    valid_mask = processed_texts.notna() & (processed_texts != '')\n",
        "    processed_texts = processed_texts[valid_mask]\n",
        "\n",
        "    dates = df[valid_mask].index\n",
        "    texts = processed_texts\n",
        "\n",
        "    tokenizer = AutoTokenizer.from_pretrained(\"ProsusAI/finbert\")\n",
        "    config = BertConfig.from_pretrained(\"ProsusAI/finbert\", num_labels=1)\n",
        "    model = FinBertSentimentRegression.from_pretrained(\"ProsusAI/finbert\", config=config)\n",
        "    model.to(device)\n",
        "\n",
        "    texts_train, texts_test, dates_train, dates_test = train_test_split(\n",
        "        texts, dates, test_size=test_size, random_state=42\n",
        "    )\n",
        "\n",
        "    train_dataset = ComplaintDataset(texts_train, tokenizer=tokenizer)\n",
        "    test_dataset = ComplaintDataset(texts_test, tokenizer=tokenizer)\n",
        "\n",
        "    train_loader = DataLoader(train_dataset, batch_size=batch_size, shuffle=True)\n",
        "    test_loader = DataLoader(test_dataset, batch_size=batch_size)\n",
        "\n",
        "    optimizer = torch.optim.AdamW(model.parameters(), lr=learning_rate)\n",
        "    scheduler = get_linear_schedule_with_warmup(\n",
        "        optimizer,\n",
        "        num_warmup_steps=0,\n",
        "        num_training_steps=len(train_loader) * num_epochs\n",
        "    )\n",
        "    start_epoch = 0\n",
        "    if os.path.exists(checkpoint_path):\n",
        "        checkpoint = torch.load(checkpoint_path)\n",
        "        model.load_state_dict(checkpoint['model_state_dict'])\n",
        "        optimizer.load_state_dict(checkpoint['optimizer_state_dict'])\n",
        "        start_epoch = checkpoint.get('epoch', 0) + 1\n",
        "        print(f\"Resuming from epoch {start_epoch}\")\n",
        "\n",
        "    model.train()\n",
        "    for epoch in range(start_epoch, num_epochs):\n",
        "        total_loss = 0\n",
        "        for batch in tqdm(train_loader, desc=f\"Epoch {epoch+1}/{num_epochs}\"):\n",
        "            optimizer.zero_grad()\n",
        "\n",
        "            input_ids = batch['input_ids'].to(device)\n",
        "            attention_mask = batch['attention_mask'].to(device)\n",
        "            token_type_ids = batch['token_type_ids'].to(device)\n",
        "\n",
        "            loss, _ = model(\n",
        "                input_ids=input_ids,\n",
        "                attention_mask=attention_mask,\n",
        "                token_type_ids=token_type_ids\n",
        "            )\n",
        "\n",
        "            loss.backward()\n",
        "            torch.nn.utils.clip_grad_norm_(model.parameters(), 1.0)\n",
        "\n",
        "            optimizer.step()\n",
        "            scheduler.step()\n",
        "\n",
        "            total_loss += loss.item()\n",
        "\n",
        "        avg_loss = total_loss / len(train_loader)\n",
        "        print(f\"Average Loss: {avg_loss:.4f}\")\n",
        "\n",
        "    def process_dataloader(loader, dates):\n",
        "        predictions = []\n",
        "        texts_processed = []\n",
        "        losses = []\n",
        "\n",
        "        model.eval()\n",
        "        with torch.no_grad():\n",
        "            for batch in tqdm(loader, desc=\"Processing\"):\n",
        "                input_ids = batch['input_ids'].to(device)\n",
        "                attention_mask = batch['attention_mask'].to(device)\n",
        "                token_type_ids = batch['token_type_ids'].to(device)\n",
        "\n",
        "                loss, outputs = model(\n",
        "                    input_ids=input_ids,\n",
        "                    attention_mask=attention_mask,\n",
        "                    token_type_ids=token_type_ids\n",
        "                )\n",
        "\n",
        "                predictions.extend(outputs.cpu().numpy().flatten())\n",
        "                texts_processed.extend(batch['text'])\n",
        "                if loss is not None:\n",
        "                    losses.append(loss.item())\n",
        "\n",
        "        results_df = pd.DataFrame({\n",
        "            'processed_text': texts_processed,\n",
        "            'sentiment_score': predictions,\n",
        "        }, index=dates)\n",
        "\n",
        "        results_df['severity'] = pd.cut(\n",
        "            results_df['sentiment_score'],\n",
        "            bins=5,\n",
        "            labels=['Very Low', 'Low', 'Medium', 'High', 'Very High']\n",
        "        )\n",
        "\n",
        "        return results_df, np.mean(losses) if losses else 0\n",
        "\n",
        "    train_results, train_loss = process_dataloader(train_loader, dates_train)\n",
        "    test_results, test_loss = process_dataloader(test_loader, dates_test)\n",
        "\n",
        "    monthly_metrics = pd.concat([\n",
        "      train_results.groupby(pd.Grouper(freq='M'))['sentiment_score'].agg(['mean', 'std', 'count']),\n",
        "      test_results.groupby(pd.Grouper(freq='M'))['sentiment_score'].agg(['mean', 'std', 'count'])\n",
        "    ]).sort_index()\n",
        "\n",
        "    metrics = {\n",
        "    'train_loss': train_loss,\n",
        "    'test_loss': test_loss,\n",
        "    'train_mse': mean_squared_error(train_results['sentiment_score'], [0] * len(train_results)),\n",
        "    'test_mse': mean_squared_error(test_results['sentiment_score'], [0] * len(test_results))\n",
        "    }\n",
        "\n",
        "    # Save most recent epoch\n",
        "    torch.save({\n",
        "        'epoch': epoch,\n",
        "        'model_state_dict': model.state_dict(),\n",
        "        'optimizer_state_dict': optimizer.state_dict(),\n",
        "        'loss': avg_loss,\n",
        "        'train_loss': train_loss,\n",
        "        'test_loss': test_loss,\n",
        "        'train_mse': metrics['train_mse'],\n",
        "        'test_mse': metrics['test_mse']\n",
        "    }, checkpoint_path)\n",
        "\n",
        "    return train_results, test_results, monthly_metrics, metrics"
      ],
      "metadata": {
        "colab": {
          "base_uri": "https://localhost:8080/"
        },
        "id": "Wj6um9KQbYyj",
        "outputId": "323a0b29-1c5c-4996-b6b7-c446329cb129"
      },
      "execution_count": 18,
      "outputs": [
        {
          "output_type": "stream",
          "name": "stderr",
          "text": [
            "Some weights of FinBertSentimentRegression were not initialized from the model checkpoint at ProsusAI/finbert and are newly initialized: ['regressor.0.bias', 'regressor.0.weight', 'regressor.3.bias', 'regressor.3.weight']\n",
            "You should probably TRAIN this model on a down-stream task to be able to use it for predictions and inference.\n"
          ]
        }
      ]
    },
    {
      "cell_type": "code",
      "execution_count": 24,
      "metadata": {
        "id": "xeKCNwEQ8r8s"
      },
      "outputs": [],
      "source": [
        "# # For Colab to local Windows\n",
        "from google.colab import files\n",
        "\n",
        "# # Save temporarily in Colab\n",
        "temp_path = '/content/finbert_sentiment_regression_model'\n",
        "model.save_model(temp_path)\n",
        "\n",
        "# # # Download to local machine\n",
        "# files.download('finbert_sentiment_regression_model')\n",
        "\n",
        "# print(\"Model downloaded - please move file to:\")\n",
        "# print(r\"C:\\Users\\saman\\Documents\\WF Project\\finbert_sentiment_regression_model\")"
      ]
    },
    {
      "cell_type": "code",
      "execution_count": null,
      "metadata": {
        "id": "ex_T_9R8Gh-H"
      },
      "outputs": [],
      "source": [
        "# # Load - must move model to the colab environment first\n",
        "# loaded_model = FinBertSentimentRegression.load_model('/content/finbert_sentiment_regression_model', config)"
      ]
    },
    {
      "cell_type": "code",
      "execution_count": 19,
      "metadata": {
        "colab": {
          "base_uri": "https://localhost:8080/"
        },
        "id": "u-plQXcCJl5Q",
        "outputId": "faabe5ee-368f-4fda-8be1-bd2ba5329a8d"
      },
      "outputs": [
        {
          "output_type": "stream",
          "name": "stderr",
          "text": [
            "Some weights of FinBertSentimentRegression were not initialized from the model checkpoint at ProsusAI/finbert and are newly initialized: ['regressor.0.bias', 'regressor.0.weight', 'regressor.3.bias', 'regressor.3.weight']\n",
            "You should probably TRAIN this model on a down-stream task to be able to use it for predictions and inference.\n",
            "Epoch 1/3: 100%|██████████| 1009/1009 [11:54<00:00,  1.41it/s]\n"
          ]
        },
        {
          "output_type": "stream",
          "name": "stdout",
          "text": [
            "Average Loss: -0.9749\n"
          ]
        },
        {
          "output_type": "stream",
          "name": "stderr",
          "text": [
            "Epoch 2/3: 100%|██████████| 1009/1009 [11:52<00:00,  1.42it/s]\n"
          ]
        },
        {
          "output_type": "stream",
          "name": "stdout",
          "text": [
            "Average Loss: -0.9999\n"
          ]
        },
        {
          "output_type": "stream",
          "name": "stderr",
          "text": [
            "Epoch 3/3: 100%|██████████| 1009/1009 [11:53<00:00,  1.41it/s]\n"
          ]
        },
        {
          "output_type": "stream",
          "name": "stdout",
          "text": [
            "Average Loss: -1.0000\n"
          ]
        },
        {
          "output_type": "stream",
          "name": "stderr",
          "text": [
            "Processing: 100%|██████████| 1009/1009 [03:48<00:00,  4.42it/s]\n",
            "Processing: 100%|██████████| 253/253 [00:57<00:00,  4.41it/s]\n",
            "<ipython-input-18-8693c1bdf633>:208: FutureWarning: 'M' is deprecated and will be removed in a future version, please use 'ME' instead.\n",
            "  train_results.groupby(pd.Grouper(freq='M'))['sentiment_score'].agg(['mean', 'std', 'count']),\n",
            "<ipython-input-18-8693c1bdf633>:209: FutureWarning: 'M' is deprecated and will be removed in a future version, please use 'ME' instead.\n",
            "  test_results.groupby(pd.Grouper(freq='M'))['sentiment_score'].agg(['mean', 'std', 'count'])\n"
          ]
        },
        {
          "output_type": "stream",
          "name": "stdout",
          "text": [
            "\n",
            "Model Metrics:\n",
            "train_loss: -1.0000\n",
            "test_loss: -1.0000\n",
            "train_mse: 1.0000\n",
            "test_mse: 1.0000\n",
            "\n",
            "Monthly Metrics Sample:\n",
            "                mean           std  count\n",
            "Date                                     \n",
            "2015-03-31 -0.999986  5.937844e-08     12\n",
            "2015-03-31 -0.999986  3.441276e-08      4\n",
            "2015-04-30 -0.999986  7.699040e-08     34\n",
            "2015-04-30 -0.999986  0.000000e+00     13\n",
            "2015-05-31 -0.999986  6.813023e-08     50\n"
          ]
        }
      ],
      "source": [
        "# Run analysis\n",
        "train_results, test_results, monthly_metrics, metrics = analyze_complaints(df)\n",
        "\n",
        "# Save results to CSV\n",
        "train_results.to_csv('train_results.csv')\n",
        "test_results.to_csv('test_results.csv')\n",
        "monthly_metrics.to_csv('monthly_metrics.csv')\n",
        "\n",
        "# Save metrics to CSV\n",
        "pd.DataFrame.from_dict(metrics, orient='index', columns=['value']).to_csv('model_metrics.csv')\n",
        "\n",
        "# Print summary statistics\n",
        "print(\"\\nModel Metrics:\")\n",
        "for metric, value in metrics.items():\n",
        "    print(f\"{metric}: {value:.4f}\")\n",
        "\n",
        "print(\"\\nMonthly Metrics Sample:\")\n",
        "print(monthly_metrics.head())"
      ]
    },
    {
      "cell_type": "code",
      "execution_count": 21,
      "metadata": {
        "id": "sktaK4wM5_zw"
      },
      "outputs": [],
      "source": [
        "import torch\n",
        "import numpy as np\n",
        "import transformers\n",
        "from sklearn.model_selection import train_test_split\n",
        "from sklearn.metrics import mean_squared_error\n",
        "from transformers import AutoTokenizer, BertConfig, BertModel, BertPreTrainedModel\n",
        "from torch.utils.data import Dataset, DataLoader\n",
        "from transformers.optimization import get_linear_schedule_with_warmup\n",
        "import torch.nn as nn\n",
        "import torch.optim\n",
        "from tqdm import tqdm\n",
        "import pkg_resources\n",
        "import re\n",
        "import os\n",
        "\n",
        "def analyze_full_dataset(df):\n",
        "    device = torch.device(\"cuda\" if torch.cuda.is_available() else \"cpu\")\n",
        "\n",
        "    # Checkpointing setup with error handling\n",
        "    try:\n",
        "        checkpoint_dir = '/content/checkpoint_full_dataset'\n",
        "        checkpoint_path = os.path.join(checkpoint_dir, 'latest_checkpoint.pth')\n",
        "\n",
        "        if not os.path.exists(checkpoint_dir):\n",
        "            os.makedirs(checkpoint_dir)\n",
        "            print(f\"Created checkpoint directory at: {os.path.abspath(checkpoint_dir)}\")\n",
        "    except Exception as e:\n",
        "        print(f\"Error creating checkpoint directory: {e}\")\n",
        "        raise\n",
        "\n",
        "    # Data preprocessing\n",
        "    processed_texts = df['Complaint'].apply(lambda x: preprocess_text(x) if pd.notna(x) else x)\n",
        "    valid_mask = processed_texts.notna() & (processed_texts != '')\n",
        "    dates = df[valid_mask].index\n",
        "    texts = processed_texts[valid_mask]\n",
        "\n",
        "    # Model setup\n",
        "    tokenizer = AutoTokenizer.from_pretrained(\"ProsusAI/finbert\")\n",
        "    config = BertConfig.from_pretrained(\"ProsusAI/finbert\", num_labels=1)\n",
        "    model = FinBertSentimentRegression.from_pretrained(\"ProsusAI/finbert\", config=config)\n",
        "    model.to(device)\n",
        "\n",
        "    # Dataset and dataloader setup\n",
        "    dataset = ComplaintDataset(texts, tokenizer=tokenizer)\n",
        "    dataloader = DataLoader(dataset, batch_size=16)\n",
        "\n",
        "    # Initialize or load checkpoint\n",
        "    predictions = []\n",
        "    texts_processed = []\n",
        "    start_batch = 0\n",
        "\n",
        "    if os.path.exists(checkpoint_path):\n",
        "        try:\n",
        "            print(f\"Loading checkpoint from: {checkpoint_path}\")\n",
        "            checkpoint = torch.load(checkpoint_path)\n",
        "            predictions = checkpoint.get('predictions', [])\n",
        "            texts_processed = checkpoint.get('texts_processed', [])\n",
        "            start_batch = checkpoint.get('batch', 0)\n",
        "            print(f\"Resuming from batch {start_batch} with {len(predictions)} predictions\")\n",
        "        except Exception as e:\n",
        "            print(f\"Error loading checkpoint: {e}\")\n",
        "            print(\"Starting from beginning...\")\n",
        "\n",
        "    # Process batches\n",
        "    model.eval()\n",
        "    with torch.no_grad():\n",
        "        for batch_idx, batch in enumerate(tqdm(dataloader, desc=\"Processing\")):\n",
        "            # Skip already processed batches\n",
        "            if batch_idx < start_batch:\n",
        "                continue\n",
        "\n",
        "            try:\n",
        "                input_ids = batch['input_ids'].to(device)\n",
        "                attention_mask = batch['attention_mask'].to(device)\n",
        "                token_type_ids = batch['token_type_ids'].to(device)\n",
        "\n",
        "                _, outputs = model(\n",
        "                    input_ids=input_ids,\n",
        "                    attention_mask=attention_mask,\n",
        "                    token_type_ids=token_type_ids\n",
        "                )\n",
        "\n",
        "                batch_predictions = outputs.cpu().numpy().flatten()\n",
        "                batch_texts = batch['text']\n",
        "\n",
        "                predictions.extend(batch_predictions)\n",
        "                texts_processed.extend(batch_texts)\n",
        "\n",
        "                # Save checkpoint every 10 batches\n",
        "                if (batch_idx + 1) % 10 == 0:\n",
        "                    try:\n",
        "                        print(f\"\\nSaving checkpoint at batch {batch_idx}\")\n",
        "                        torch.save({\n",
        "                            'batch': batch_idx + 1,\n",
        "                            'predictions': predictions,\n",
        "                            'texts_processed': texts_processed\n",
        "                        }, checkpoint_path)\n",
        "                        print(f\"Successfully saved checkpoint. Processed {len(predictions)} samples so far\")\n",
        "                    except Exception as e:\n",
        "                        print(f\"Error saving checkpoint at batch {batch_idx}: {e}\")\n",
        "\n",
        "            except Exception as e:\n",
        "                print(f\"Error processing batch {batch_idx}: {e}\")\n",
        "                continue\n",
        "\n",
        "    # Create final results\n",
        "    try:\n",
        "        results_df = pd.DataFrame({\n",
        "            'processed_text': texts_processed,\n",
        "            'sentiment_score': predictions,\n",
        "        }, index=dates[:len(predictions)])  # Ensure index matches data length\n",
        "\n",
        "        results_df['severity'] = pd.cut(\n",
        "            results_df['sentiment_score'],\n",
        "            bins=5,\n",
        "            labels=['Very Low', 'Low', 'Medium', 'High', 'Very High']\n",
        "        )\n",
        "\n",
        "        # Save final results\n",
        "        results_path = os.path.join(checkpoint_dir, 'full_dataset_results.csv')\n",
        "        results_df.to_csv(results_path)\n",
        "        print(f\"\\nSaved final results to: {results_path}\")\n",
        "\n",
        "        # Save final checkpoint\n",
        "        torch.save({\n",
        "            'batch': len(dataloader),\n",
        "            'predictions': predictions,\n",
        "            'texts_processed': texts_processed,\n",
        "            'completed': True\n",
        "        }, checkpoint_path)\n",
        "        print(\"Saved final checkpoint\")\n",
        "\n",
        "        return results_df\n",
        "\n",
        "    except Exception as e:\n",
        "        print(f\"Error creating final results: {e}\")\n",
        "        raise"
      ]
    },
    {
      "cell_type": "code",
      "execution_count": 22,
      "metadata": {
        "id": "G4bVAr1k0YRc",
        "colab": {
          "base_uri": "https://localhost:8080/"
        },
        "outputId": "ccf5e1f4-dda6-4c4e-cabc-749a1731a5bc"
      },
      "outputs": [
        {
          "output_type": "stream",
          "name": "stdout",
          "text": [
            "Created checkpoint directory at: /content/checkpoint_full_dataset\n"
          ]
        },
        {
          "output_type": "stream",
          "name": "stderr",
          "text": [
            "Some weights of FinBertSentimentRegression were not initialized from the model checkpoint at ProsusAI/finbert and are newly initialized: ['regressor.0.bias', 'regressor.0.weight', 'regressor.3.bias', 'regressor.3.weight']\n",
            "You should probably TRAIN this model on a down-stream task to be able to use it for predictions and inference.\n",
            "Processing:   1%|          | 10/1261 [00:02<04:15,  4.90it/s]"
          ]
        },
        {
          "output_type": "stream",
          "name": "stdout",
          "text": [
            "\n",
            "Saving checkpoint at batch 9\n",
            "Successfully saved checkpoint. Processed 160 samples so far\n"
          ]
        },
        {
          "output_type": "stream",
          "name": "stderr",
          "text": [
            "Processing:   2%|▏         | 20/1261 [00:04<04:15,  4.86it/s]"
          ]
        },
        {
          "output_type": "stream",
          "name": "stdout",
          "text": [
            "\n",
            "Saving checkpoint at batch 19\n",
            "Successfully saved checkpoint. Processed 320 samples so far\n"
          ]
        },
        {
          "output_type": "stream",
          "name": "stderr",
          "text": [
            "Processing:   2%|▏         | 31/1261 [00:06<04:09,  4.93it/s]"
          ]
        },
        {
          "output_type": "stream",
          "name": "stdout",
          "text": [
            "\n",
            "Saving checkpoint at batch 29\n",
            "Successfully saved checkpoint. Processed 480 samples so far\n"
          ]
        },
        {
          "output_type": "stream",
          "name": "stderr",
          "text": [
            "Processing:   3%|▎         | 40/1261 [00:08<04:09,  4.89it/s]"
          ]
        },
        {
          "output_type": "stream",
          "name": "stdout",
          "text": [
            "\n",
            "Saving checkpoint at batch 39\n",
            "Successfully saved checkpoint. Processed 640 samples so far\n"
          ]
        },
        {
          "output_type": "stream",
          "name": "stderr",
          "text": [
            "Processing:   4%|▍         | 50/1261 [00:10<04:15,  4.75it/s]"
          ]
        },
        {
          "output_type": "stream",
          "name": "stdout",
          "text": [
            "\n",
            "Saving checkpoint at batch 49\n",
            "Successfully saved checkpoint. Processed 800 samples so far\n"
          ]
        },
        {
          "output_type": "stream",
          "name": "stderr",
          "text": [
            "Processing:   5%|▍         | 60/1261 [00:12<04:26,  4.51it/s]"
          ]
        },
        {
          "output_type": "stream",
          "name": "stdout",
          "text": [
            "\n",
            "Saving checkpoint at batch 59\n",
            "Successfully saved checkpoint. Processed 960 samples so far\n"
          ]
        },
        {
          "output_type": "stream",
          "name": "stderr",
          "text": [
            "Processing:   6%|▌         | 70/1261 [00:14<04:06,  4.84it/s]"
          ]
        },
        {
          "output_type": "stream",
          "name": "stdout",
          "text": [
            "\n",
            "Saving checkpoint at batch 69\n",
            "Successfully saved checkpoint. Processed 1120 samples so far\n"
          ]
        },
        {
          "output_type": "stream",
          "name": "stderr",
          "text": [
            "Processing:   6%|▋         | 80/1261 [00:16<04:05,  4.80it/s]"
          ]
        },
        {
          "output_type": "stream",
          "name": "stdout",
          "text": [
            "\n",
            "Saving checkpoint at batch 79\n",
            "Successfully saved checkpoint. Processed 1280 samples so far\n"
          ]
        },
        {
          "output_type": "stream",
          "name": "stderr",
          "text": [
            "Processing:   7%|▋         | 90/1261 [00:18<04:03,  4.81it/s]"
          ]
        },
        {
          "output_type": "stream",
          "name": "stdout",
          "text": [
            "\n",
            "Saving checkpoint at batch 89\n",
            "Successfully saved checkpoint. Processed 1440 samples so far\n"
          ]
        },
        {
          "output_type": "stream",
          "name": "stderr",
          "text": [
            "Processing:   8%|▊         | 100/1261 [00:20<04:03,  4.77it/s]"
          ]
        },
        {
          "output_type": "stream",
          "name": "stdout",
          "text": [
            "\n",
            "Saving checkpoint at batch 99\n",
            "Successfully saved checkpoint. Processed 1600 samples so far\n"
          ]
        },
        {
          "output_type": "stream",
          "name": "stderr",
          "text": [
            "Processing:   9%|▊         | 110/1261 [00:22<04:02,  4.75it/s]"
          ]
        },
        {
          "output_type": "stream",
          "name": "stdout",
          "text": [
            "\n",
            "Saving checkpoint at batch 109\n",
            "Successfully saved checkpoint. Processed 1760 samples so far\n"
          ]
        },
        {
          "output_type": "stream",
          "name": "stderr",
          "text": [
            "Processing:  10%|▉         | 120/1261 [00:24<04:09,  4.58it/s]"
          ]
        },
        {
          "output_type": "stream",
          "name": "stdout",
          "text": [
            "\n",
            "Saving checkpoint at batch 119\n",
            "Successfully saved checkpoint. Processed 1920 samples so far\n"
          ]
        },
        {
          "output_type": "stream",
          "name": "stderr",
          "text": [
            "Processing:  10%|█         | 130/1261 [00:26<04:09,  4.53it/s]"
          ]
        },
        {
          "output_type": "stream",
          "name": "stdout",
          "text": [
            "\n",
            "Saving checkpoint at batch 129\n",
            "Successfully saved checkpoint. Processed 2080 samples so far\n"
          ]
        },
        {
          "output_type": "stream",
          "name": "stderr",
          "text": [
            "Processing:  11%|█         | 140/1261 [00:29<03:56,  4.74it/s]"
          ]
        },
        {
          "output_type": "stream",
          "name": "stdout",
          "text": [
            "\n",
            "Saving checkpoint at batch 139\n",
            "Successfully saved checkpoint. Processed 2240 samples so far\n"
          ]
        },
        {
          "output_type": "stream",
          "name": "stderr",
          "text": [
            "Processing:  12%|█▏        | 150/1261 [00:31<03:56,  4.70it/s]"
          ]
        },
        {
          "output_type": "stream",
          "name": "stdout",
          "text": [
            "\n",
            "Saving checkpoint at batch 149\n",
            "Successfully saved checkpoint. Processed 2400 samples so far\n"
          ]
        },
        {
          "output_type": "stream",
          "name": "stderr",
          "text": [
            "Processing:  13%|█▎        | 160/1261 [00:33<03:55,  4.68it/s]"
          ]
        },
        {
          "output_type": "stream",
          "name": "stdout",
          "text": [
            "\n",
            "Saving checkpoint at batch 159\n",
            "Successfully saved checkpoint. Processed 2560 samples so far\n"
          ]
        },
        {
          "output_type": "stream",
          "name": "stderr",
          "text": [
            "Processing:  13%|█▎        | 170/1261 [00:35<03:53,  4.68it/s]"
          ]
        },
        {
          "output_type": "stream",
          "name": "stdout",
          "text": [
            "\n",
            "Saving checkpoint at batch 169\n",
            "Successfully saved checkpoint. Processed 2720 samples so far\n"
          ]
        },
        {
          "output_type": "stream",
          "name": "stderr",
          "text": [
            "Processing:  14%|█▍        | 180/1261 [00:37<04:00,  4.50it/s]"
          ]
        },
        {
          "output_type": "stream",
          "name": "stdout",
          "text": [
            "\n",
            "Saving checkpoint at batch 179\n",
            "Successfully saved checkpoint. Processed 2880 samples so far\n"
          ]
        },
        {
          "output_type": "stream",
          "name": "stderr",
          "text": [
            "Processing:  15%|█▌        | 190/1261 [00:39<04:12,  4.25it/s]"
          ]
        },
        {
          "output_type": "stream",
          "name": "stdout",
          "text": [
            "\n",
            "Saving checkpoint at batch 189\n",
            "Successfully saved checkpoint. Processed 3040 samples so far\n"
          ]
        },
        {
          "output_type": "stream",
          "name": "stderr",
          "text": [
            "Processing:  16%|█▌        | 200/1261 [00:41<03:51,  4.58it/s]"
          ]
        },
        {
          "output_type": "stream",
          "name": "stdout",
          "text": [
            "\n",
            "Saving checkpoint at batch 199\n",
            "Successfully saved checkpoint. Processed 3200 samples so far\n"
          ]
        },
        {
          "output_type": "stream",
          "name": "stderr",
          "text": [
            "Processing:  17%|█▋        | 210/1261 [00:43<03:47,  4.62it/s]"
          ]
        },
        {
          "output_type": "stream",
          "name": "stdout",
          "text": [
            "\n",
            "Saving checkpoint at batch 209\n",
            "Successfully saved checkpoint. Processed 3360 samples so far\n"
          ]
        },
        {
          "output_type": "stream",
          "name": "stderr",
          "text": [
            "Processing:  17%|█▋        | 220/1261 [00:45<03:47,  4.58it/s]"
          ]
        },
        {
          "output_type": "stream",
          "name": "stdout",
          "text": [
            "\n",
            "Saving checkpoint at batch 219\n",
            "Successfully saved checkpoint. Processed 3520 samples so far\n"
          ]
        },
        {
          "output_type": "stream",
          "name": "stderr",
          "text": [
            "Processing:  18%|█▊        | 230/1261 [00:48<03:48,  4.51it/s]"
          ]
        },
        {
          "output_type": "stream",
          "name": "stdout",
          "text": [
            "\n",
            "Saving checkpoint at batch 229\n",
            "Successfully saved checkpoint. Processed 3680 samples so far\n"
          ]
        },
        {
          "output_type": "stream",
          "name": "stderr",
          "text": [
            "Processing:  19%|█▉        | 240/1261 [00:50<03:53,  4.38it/s]"
          ]
        },
        {
          "output_type": "stream",
          "name": "stdout",
          "text": [
            "\n",
            "Saving checkpoint at batch 239\n",
            "Successfully saved checkpoint. Processed 3840 samples so far\n"
          ]
        },
        {
          "output_type": "stream",
          "name": "stderr",
          "text": [
            "Processing:  20%|█▉        | 250/1261 [00:52<04:02,  4.16it/s]"
          ]
        },
        {
          "output_type": "stream",
          "name": "stdout",
          "text": [
            "\n",
            "Saving checkpoint at batch 249\n",
            "Successfully saved checkpoint. Processed 4000 samples so far\n"
          ]
        },
        {
          "output_type": "stream",
          "name": "stderr",
          "text": [
            "Processing:  21%|██        | 260/1261 [00:54<03:41,  4.52it/s]"
          ]
        },
        {
          "output_type": "stream",
          "name": "stdout",
          "text": [
            "\n",
            "Saving checkpoint at batch 259\n",
            "Successfully saved checkpoint. Processed 4160 samples so far\n"
          ]
        },
        {
          "output_type": "stream",
          "name": "stderr",
          "text": [
            "Processing:  21%|██▏       | 270/1261 [00:56<03:41,  4.47it/s]"
          ]
        },
        {
          "output_type": "stream",
          "name": "stdout",
          "text": [
            "\n",
            "Saving checkpoint at batch 269\n",
            "Successfully saved checkpoint. Processed 4320 samples so far\n"
          ]
        },
        {
          "output_type": "stream",
          "name": "stderr",
          "text": [
            "Processing:  22%|██▏       | 280/1261 [00:58<03:40,  4.44it/s]"
          ]
        },
        {
          "output_type": "stream",
          "name": "stdout",
          "text": [
            "\n",
            "Saving checkpoint at batch 279\n",
            "Successfully saved checkpoint. Processed 4480 samples so far\n"
          ]
        },
        {
          "output_type": "stream",
          "name": "stderr",
          "text": [
            "Processing:  23%|██▎       | 290/1261 [01:01<03:42,  4.37it/s]"
          ]
        },
        {
          "output_type": "stream",
          "name": "stdout",
          "text": [
            "\n",
            "Saving checkpoint at batch 289\n",
            "Successfully saved checkpoint. Processed 4640 samples so far\n"
          ]
        },
        {
          "output_type": "stream",
          "name": "stderr",
          "text": [
            "Processing:  24%|██▍       | 300/1261 [01:03<03:46,  4.24it/s]"
          ]
        },
        {
          "output_type": "stream",
          "name": "stdout",
          "text": [
            "\n",
            "Saving checkpoint at batch 299\n",
            "Successfully saved checkpoint. Processed 4800 samples so far\n"
          ]
        },
        {
          "output_type": "stream",
          "name": "stderr",
          "text": [
            "Processing:  25%|██▍       | 310/1261 [01:05<04:01,  3.94it/s]"
          ]
        },
        {
          "output_type": "stream",
          "name": "stdout",
          "text": [
            "\n",
            "Saving checkpoint at batch 309\n",
            "Successfully saved checkpoint. Processed 4960 samples so far\n"
          ]
        },
        {
          "output_type": "stream",
          "name": "stderr",
          "text": [
            "Processing:  25%|██▌       | 320/1261 [01:07<03:34,  4.40it/s]"
          ]
        },
        {
          "output_type": "stream",
          "name": "stdout",
          "text": [
            "\n",
            "Saving checkpoint at batch 319\n",
            "Successfully saved checkpoint. Processed 5120 samples so far\n"
          ]
        },
        {
          "output_type": "stream",
          "name": "stderr",
          "text": [
            "Processing:  26%|██▌       | 330/1261 [01:09<03:30,  4.43it/s]"
          ]
        },
        {
          "output_type": "stream",
          "name": "stdout",
          "text": [
            "\n",
            "Saving checkpoint at batch 329\n",
            "Successfully saved checkpoint. Processed 5280 samples so far\n"
          ]
        },
        {
          "output_type": "stream",
          "name": "stderr",
          "text": [
            "Processing:  27%|██▋       | 340/1261 [01:12<03:28,  4.42it/s]"
          ]
        },
        {
          "output_type": "stream",
          "name": "stdout",
          "text": [
            "\n",
            "Saving checkpoint at batch 339\n",
            "Successfully saved checkpoint. Processed 5440 samples so far\n"
          ]
        },
        {
          "output_type": "stream",
          "name": "stderr",
          "text": [
            "Processing:  28%|██▊       | 350/1261 [01:14<03:28,  4.36it/s]"
          ]
        },
        {
          "output_type": "stream",
          "name": "stdout",
          "text": [
            "\n",
            "Saving checkpoint at batch 349\n",
            "Successfully saved checkpoint. Processed 5600 samples so far\n"
          ]
        },
        {
          "output_type": "stream",
          "name": "stderr",
          "text": [
            "Processing:  29%|██▊       | 360/1261 [01:16<03:39,  4.11it/s]"
          ]
        },
        {
          "output_type": "stream",
          "name": "stdout",
          "text": [
            "\n",
            "Saving checkpoint at batch 359\n",
            "Successfully saved checkpoint. Processed 5760 samples so far\n"
          ]
        },
        {
          "output_type": "stream",
          "name": "stderr",
          "text": [
            "Processing:  29%|██▉       | 370/1261 [01:18<03:41,  4.02it/s]"
          ]
        },
        {
          "output_type": "stream",
          "name": "stdout",
          "text": [
            "\n",
            "Saving checkpoint at batch 369\n",
            "Successfully saved checkpoint. Processed 5920 samples so far\n"
          ]
        },
        {
          "output_type": "stream",
          "name": "stderr",
          "text": [
            "Processing:  30%|███       | 380/1261 [01:20<03:23,  4.34it/s]"
          ]
        },
        {
          "output_type": "stream",
          "name": "stdout",
          "text": [
            "\n",
            "Saving checkpoint at batch 379\n",
            "Successfully saved checkpoint. Processed 6080 samples so far\n"
          ]
        },
        {
          "output_type": "stream",
          "name": "stderr",
          "text": [
            "Processing:  31%|███       | 390/1261 [01:23<03:23,  4.28it/s]"
          ]
        },
        {
          "output_type": "stream",
          "name": "stdout",
          "text": [
            "\n",
            "Saving checkpoint at batch 389\n",
            "Successfully saved checkpoint. Processed 6240 samples so far\n"
          ]
        },
        {
          "output_type": "stream",
          "name": "stderr",
          "text": [
            "Processing:  32%|███▏      | 400/1261 [01:25<03:20,  4.29it/s]"
          ]
        },
        {
          "output_type": "stream",
          "name": "stdout",
          "text": [
            "\n",
            "Saving checkpoint at batch 399\n",
            "Successfully saved checkpoint. Processed 6400 samples so far\n"
          ]
        },
        {
          "output_type": "stream",
          "name": "stderr",
          "text": [
            "Processing:  33%|███▎      | 410/1261 [01:27<03:18,  4.30it/s]"
          ]
        },
        {
          "output_type": "stream",
          "name": "stdout",
          "text": [
            "\n",
            "Saving checkpoint at batch 409\n",
            "Successfully saved checkpoint. Processed 6560 samples so far\n"
          ]
        },
        {
          "output_type": "stream",
          "name": "stderr",
          "text": [
            "Processing:  33%|███▎      | 420/1261 [01:29<03:28,  4.04it/s]"
          ]
        },
        {
          "output_type": "stream",
          "name": "stdout",
          "text": [
            "\n",
            "Saving checkpoint at batch 419\n",
            "Successfully saved checkpoint. Processed 6720 samples so far\n"
          ]
        },
        {
          "output_type": "stream",
          "name": "stderr",
          "text": [
            "Processing:  34%|███▍      | 430/1261 [01:32<03:39,  3.79it/s]"
          ]
        },
        {
          "output_type": "stream",
          "name": "stdout",
          "text": [
            "\n",
            "Saving checkpoint at batch 429\n",
            "Successfully saved checkpoint. Processed 6880 samples so far\n"
          ]
        },
        {
          "output_type": "stream",
          "name": "stderr",
          "text": [
            "Processing:  35%|███▍      | 440/1261 [01:34<03:12,  4.27it/s]"
          ]
        },
        {
          "output_type": "stream",
          "name": "stdout",
          "text": [
            "\n",
            "Saving checkpoint at batch 439\n",
            "Successfully saved checkpoint. Processed 7040 samples so far\n"
          ]
        },
        {
          "output_type": "stream",
          "name": "stderr",
          "text": [
            "Processing:  36%|███▌      | 450/1261 [01:36<03:08,  4.29it/s]"
          ]
        },
        {
          "output_type": "stream",
          "name": "stdout",
          "text": [
            "\n",
            "Saving checkpoint at batch 449\n",
            "Successfully saved checkpoint. Processed 7200 samples so far\n"
          ]
        },
        {
          "output_type": "stream",
          "name": "stderr",
          "text": [
            "Processing:  36%|███▋      | 460/1261 [01:38<03:07,  4.27it/s]"
          ]
        },
        {
          "output_type": "stream",
          "name": "stdout",
          "text": [
            "\n",
            "Saving checkpoint at batch 459\n",
            "Successfully saved checkpoint. Processed 7360 samples so far\n"
          ]
        },
        {
          "output_type": "stream",
          "name": "stderr",
          "text": [
            "Processing:  37%|███▋      | 470/1261 [01:40<03:06,  4.25it/s]"
          ]
        },
        {
          "output_type": "stream",
          "name": "stdout",
          "text": [
            "\n",
            "Saving checkpoint at batch 469\n",
            "Successfully saved checkpoint. Processed 7520 samples so far\n"
          ]
        },
        {
          "output_type": "stream",
          "name": "stderr",
          "text": [
            "Processing:  38%|███▊      | 480/1261 [01:43<03:17,  3.96it/s]"
          ]
        },
        {
          "output_type": "stream",
          "name": "stdout",
          "text": [
            "\n",
            "Saving checkpoint at batch 479\n",
            "Successfully saved checkpoint. Processed 7680 samples so far\n"
          ]
        },
        {
          "output_type": "stream",
          "name": "stderr",
          "text": [
            "Processing:  39%|███▉      | 490/1261 [01:45<03:24,  3.78it/s]"
          ]
        },
        {
          "output_type": "stream",
          "name": "stdout",
          "text": [
            "\n",
            "Saving checkpoint at batch 489\n",
            "Successfully saved checkpoint. Processed 7840 samples so far\n"
          ]
        },
        {
          "output_type": "stream",
          "name": "stderr",
          "text": [
            "Processing:  40%|███▉      | 500/1261 [01:47<03:02,  4.18it/s]"
          ]
        },
        {
          "output_type": "stream",
          "name": "stdout",
          "text": [
            "\n",
            "Saving checkpoint at batch 499\n",
            "Successfully saved checkpoint. Processed 8000 samples so far\n"
          ]
        },
        {
          "output_type": "stream",
          "name": "stderr",
          "text": [
            "Processing:  40%|████      | 510/1261 [01:49<03:04,  4.06it/s]"
          ]
        },
        {
          "output_type": "stream",
          "name": "stdout",
          "text": [
            "\n",
            "Saving checkpoint at batch 509\n",
            "Successfully saved checkpoint. Processed 8160 samples so far\n"
          ]
        },
        {
          "output_type": "stream",
          "name": "stderr",
          "text": [
            "Processing:  41%|████      | 520/1261 [01:52<03:00,  4.11it/s]"
          ]
        },
        {
          "output_type": "stream",
          "name": "stdout",
          "text": [
            "\n",
            "Saving checkpoint at batch 519\n",
            "Successfully saved checkpoint. Processed 8320 samples so far\n"
          ]
        },
        {
          "output_type": "stream",
          "name": "stderr",
          "text": [
            "Processing:  42%|████▏     | 530/1261 [01:54<02:58,  4.10it/s]"
          ]
        },
        {
          "output_type": "stream",
          "name": "stdout",
          "text": [
            "\n",
            "Saving checkpoint at batch 529\n",
            "Successfully saved checkpoint. Processed 8480 samples so far\n"
          ]
        },
        {
          "output_type": "stream",
          "name": "stderr",
          "text": [
            "Processing:  43%|████▎     | 540/1261 [01:56<03:11,  3.76it/s]"
          ]
        },
        {
          "output_type": "stream",
          "name": "stdout",
          "text": [
            "\n",
            "Saving checkpoint at batch 539\n",
            "Successfully saved checkpoint. Processed 8640 samples so far\n"
          ]
        },
        {
          "output_type": "stream",
          "name": "stderr",
          "text": [
            "Processing:  44%|████▎     | 550/1261 [01:59<02:59,  3.96it/s]"
          ]
        },
        {
          "output_type": "stream",
          "name": "stdout",
          "text": [
            "\n",
            "Saving checkpoint at batch 549\n",
            "Successfully saved checkpoint. Processed 8800 samples so far\n"
          ]
        },
        {
          "output_type": "stream",
          "name": "stderr",
          "text": [
            "Processing:  44%|████▍     | 560/1261 [02:01<02:51,  4.08it/s]"
          ]
        },
        {
          "output_type": "stream",
          "name": "stdout",
          "text": [
            "\n",
            "Saving checkpoint at batch 559\n",
            "Successfully saved checkpoint. Processed 8960 samples so far\n"
          ]
        },
        {
          "output_type": "stream",
          "name": "stderr",
          "text": [
            "Processing:  45%|████▌     | 570/1261 [02:03<02:49,  4.08it/s]"
          ]
        },
        {
          "output_type": "stream",
          "name": "stdout",
          "text": [
            "\n",
            "Saving checkpoint at batch 569\n",
            "Successfully saved checkpoint. Processed 9120 samples so far\n"
          ]
        },
        {
          "output_type": "stream",
          "name": "stderr",
          "text": [
            "Processing:  46%|████▌     | 580/1261 [02:05<02:48,  4.04it/s]"
          ]
        },
        {
          "output_type": "stream",
          "name": "stdout",
          "text": [
            "\n",
            "Saving checkpoint at batch 579\n",
            "Successfully saved checkpoint. Processed 9280 samples so far\n"
          ]
        },
        {
          "output_type": "stream",
          "name": "stderr",
          "text": [
            "Processing:  47%|████▋     | 590/1261 [02:08<02:47,  4.01it/s]"
          ]
        },
        {
          "output_type": "stream",
          "name": "stdout",
          "text": [
            "\n",
            "Saving checkpoint at batch 589\n",
            "Successfully saved checkpoint. Processed 9440 samples so far\n"
          ]
        },
        {
          "output_type": "stream",
          "name": "stderr",
          "text": [
            "Processing:  48%|████▊     | 600/1261 [02:10<03:02,  3.62it/s]"
          ]
        },
        {
          "output_type": "stream",
          "name": "stdout",
          "text": [
            "\n",
            "Saving checkpoint at batch 599\n",
            "Successfully saved checkpoint. Processed 9600 samples so far\n"
          ]
        },
        {
          "output_type": "stream",
          "name": "stderr",
          "text": [
            "Processing:  48%|████▊     | 610/1261 [02:12<02:47,  3.88it/s]"
          ]
        },
        {
          "output_type": "stream",
          "name": "stdout",
          "text": [
            "\n",
            "Saving checkpoint at batch 609\n",
            "Successfully saved checkpoint. Processed 9760 samples so far\n"
          ]
        },
        {
          "output_type": "stream",
          "name": "stderr",
          "text": [
            "Processing:  49%|████▉     | 620/1261 [02:15<02:39,  4.01it/s]"
          ]
        },
        {
          "output_type": "stream",
          "name": "stdout",
          "text": [
            "\n",
            "Saving checkpoint at batch 619\n",
            "Successfully saved checkpoint. Processed 9920 samples so far\n"
          ]
        },
        {
          "output_type": "stream",
          "name": "stderr",
          "text": [
            "Processing:  50%|████▉     | 630/1261 [02:17<02:39,  3.96it/s]"
          ]
        },
        {
          "output_type": "stream",
          "name": "stdout",
          "text": [
            "\n",
            "Saving checkpoint at batch 629\n",
            "Successfully saved checkpoint. Processed 10080 samples so far\n"
          ]
        },
        {
          "output_type": "stream",
          "name": "stderr",
          "text": [
            "Processing:  51%|█████     | 640/1261 [02:19<02:34,  4.01it/s]"
          ]
        },
        {
          "output_type": "stream",
          "name": "stdout",
          "text": [
            "\n",
            "Saving checkpoint at batch 639\n",
            "Successfully saved checkpoint. Processed 10240 samples so far\n"
          ]
        },
        {
          "output_type": "stream",
          "name": "stderr",
          "text": [
            "Processing:  52%|█████▏    | 650/1261 [02:22<02:34,  3.95it/s]"
          ]
        },
        {
          "output_type": "stream",
          "name": "stdout",
          "text": [
            "\n",
            "Saving checkpoint at batch 649\n",
            "Successfully saved checkpoint. Processed 10400 samples so far\n"
          ]
        },
        {
          "output_type": "stream",
          "name": "stderr",
          "text": [
            "Processing:  52%|█████▏    | 660/1261 [02:24<02:53,  3.46it/s]"
          ]
        },
        {
          "output_type": "stream",
          "name": "stdout",
          "text": [
            "\n",
            "Saving checkpoint at batch 659\n",
            "Successfully saved checkpoint. Processed 10560 samples so far\n"
          ]
        },
        {
          "output_type": "stream",
          "name": "stderr",
          "text": [
            "Processing:  53%|█████▎    | 670/1261 [02:26<02:31,  3.91it/s]"
          ]
        },
        {
          "output_type": "stream",
          "name": "stdout",
          "text": [
            "\n",
            "Saving checkpoint at batch 669\n",
            "Successfully saved checkpoint. Processed 10720 samples so far\n"
          ]
        },
        {
          "output_type": "stream",
          "name": "stderr",
          "text": [
            "Processing:  54%|█████▍    | 680/1261 [02:29<02:29,  3.89it/s]"
          ]
        },
        {
          "output_type": "stream",
          "name": "stdout",
          "text": [
            "\n",
            "Saving checkpoint at batch 679\n",
            "Successfully saved checkpoint. Processed 10880 samples so far\n"
          ]
        },
        {
          "output_type": "stream",
          "name": "stderr",
          "text": [
            "Processing:  55%|█████▍    | 689/1261 [02:31<02:04,  4.60it/s]"
          ]
        },
        {
          "output_type": "stream",
          "name": "stdout",
          "text": [
            "\n",
            "Saving checkpoint at batch 689\n"
          ]
        },
        {
          "output_type": "stream",
          "name": "stderr",
          "text": [
            "\rProcessing:  55%|█████▍    | 690/1261 [02:31<02:44,  3.47it/s]"
          ]
        },
        {
          "output_type": "stream",
          "name": "stdout",
          "text": [
            "Successfully saved checkpoint. Processed 11040 samples so far\n"
          ]
        },
        {
          "output_type": "stream",
          "name": "stderr",
          "text": [
            "Processing:  56%|█████▌    | 700/1261 [02:33<02:37,  3.55it/s]"
          ]
        },
        {
          "output_type": "stream",
          "name": "stdout",
          "text": [
            "\n",
            "Saving checkpoint at batch 699\n",
            "Successfully saved checkpoint. Processed 11200 samples so far\n"
          ]
        },
        {
          "output_type": "stream",
          "name": "stderr",
          "text": [
            "Processing:  56%|█████▌    | 709/1261 [02:35<02:05,  4.40it/s]"
          ]
        },
        {
          "output_type": "stream",
          "name": "stdout",
          "text": [
            "\n",
            "Saving checkpoint at batch 709\n"
          ]
        },
        {
          "output_type": "stream",
          "name": "stderr",
          "text": [
            "\rProcessing:  56%|█████▋    | 710/1261 [02:36<02:39,  3.45it/s]"
          ]
        },
        {
          "output_type": "stream",
          "name": "stdout",
          "text": [
            "Successfully saved checkpoint. Processed 11360 samples so far\n"
          ]
        },
        {
          "output_type": "stream",
          "name": "stderr",
          "text": [
            "Processing:  57%|█████▋    | 720/1261 [02:38<02:21,  3.82it/s]"
          ]
        },
        {
          "output_type": "stream",
          "name": "stdout",
          "text": [
            "\n",
            "Saving checkpoint at batch 719\n",
            "Successfully saved checkpoint. Processed 11520 samples so far\n"
          ]
        },
        {
          "output_type": "stream",
          "name": "stderr",
          "text": [
            "Processing:  58%|█████▊    | 730/1261 [02:40<02:17,  3.88it/s]"
          ]
        },
        {
          "output_type": "stream",
          "name": "stdout",
          "text": [
            "\n",
            "Saving checkpoint at batch 729\n",
            "Successfully saved checkpoint. Processed 11680 samples so far\n"
          ]
        },
        {
          "output_type": "stream",
          "name": "stderr",
          "text": [
            "Processing:  59%|█████▊    | 740/1261 [02:43<02:14,  3.86it/s]"
          ]
        },
        {
          "output_type": "stream",
          "name": "stdout",
          "text": [
            "\n",
            "Saving checkpoint at batch 739\n",
            "Successfully saved checkpoint. Processed 11840 samples so far\n"
          ]
        },
        {
          "output_type": "stream",
          "name": "stderr",
          "text": [
            "Processing:  59%|█████▉    | 750/1261 [02:45<02:13,  3.83it/s]"
          ]
        },
        {
          "output_type": "stream",
          "name": "stdout",
          "text": [
            "\n",
            "Saving checkpoint at batch 749\n",
            "Successfully saved checkpoint. Processed 12000 samples so far\n"
          ]
        },
        {
          "output_type": "stream",
          "name": "stderr",
          "text": [
            "Processing:  60%|██████    | 760/1261 [02:47<02:10,  3.85it/s]"
          ]
        },
        {
          "output_type": "stream",
          "name": "stdout",
          "text": [
            "\n",
            "Saving checkpoint at batch 759\n",
            "Successfully saved checkpoint. Processed 12160 samples so far\n"
          ]
        },
        {
          "output_type": "stream",
          "name": "stderr",
          "text": [
            "Processing:  61%|██████    | 769/1261 [02:49<01:49,  4.51it/s]"
          ]
        },
        {
          "output_type": "stream",
          "name": "stdout",
          "text": [
            "\n",
            "Saving checkpoint at batch 769\n"
          ]
        },
        {
          "output_type": "stream",
          "name": "stderr",
          "text": [
            "\rProcessing:  61%|██████    | 770/1261 [02:50<02:23,  3.43it/s]"
          ]
        },
        {
          "output_type": "stream",
          "name": "stdout",
          "text": [
            "Successfully saved checkpoint. Processed 12320 samples so far\n"
          ]
        },
        {
          "output_type": "stream",
          "name": "stderr",
          "text": [
            "Processing:  62%|██████▏   | 780/1261 [02:52<02:05,  3.82it/s]"
          ]
        },
        {
          "output_type": "stream",
          "name": "stdout",
          "text": [
            "\n",
            "Saving checkpoint at batch 779\n",
            "Successfully saved checkpoint. Processed 12480 samples so far\n"
          ]
        },
        {
          "output_type": "stream",
          "name": "stderr",
          "text": [
            "Processing:  63%|██████▎   | 790/1261 [02:54<02:02,  3.84it/s]"
          ]
        },
        {
          "output_type": "stream",
          "name": "stdout",
          "text": [
            "\n",
            "Saving checkpoint at batch 789\n",
            "Successfully saved checkpoint. Processed 12640 samples so far\n"
          ]
        },
        {
          "output_type": "stream",
          "name": "stderr",
          "text": [
            "Processing:  63%|██████▎   | 800/1261 [02:57<02:00,  3.83it/s]"
          ]
        },
        {
          "output_type": "stream",
          "name": "stdout",
          "text": [
            "\n",
            "Saving checkpoint at batch 799\n",
            "Successfully saved checkpoint. Processed 12800 samples so far\n"
          ]
        },
        {
          "output_type": "stream",
          "name": "stderr",
          "text": [
            "Processing:  64%|██████▍   | 810/1261 [02:59<01:57,  3.84it/s]"
          ]
        },
        {
          "output_type": "stream",
          "name": "stdout",
          "text": [
            "\n",
            "Saving checkpoint at batch 809\n",
            "Successfully saved checkpoint. Processed 12960 samples so far\n"
          ]
        },
        {
          "output_type": "stream",
          "name": "stderr",
          "text": [
            "Processing:  65%|██████▍   | 819/1261 [03:01<01:37,  4.55it/s]"
          ]
        },
        {
          "output_type": "stream",
          "name": "stdout",
          "text": [
            "\n",
            "Saving checkpoint at batch 819\n"
          ]
        },
        {
          "output_type": "stream",
          "name": "stderr",
          "text": [
            "\rProcessing:  65%|██████▌   | 820/1261 [03:01<02:09,  3.41it/s]"
          ]
        },
        {
          "output_type": "stream",
          "name": "stdout",
          "text": [
            "Successfully saved checkpoint. Processed 13120 samples so far\n"
          ]
        },
        {
          "output_type": "stream",
          "name": "stderr",
          "text": [
            "Processing:  66%|██████▌   | 829/1261 [03:04<01:38,  4.40it/s]"
          ]
        },
        {
          "output_type": "stream",
          "name": "stdout",
          "text": [
            "\n",
            "Saving checkpoint at batch 829\n"
          ]
        },
        {
          "output_type": "stream",
          "name": "stderr",
          "text": [
            "\rProcessing:  66%|██████▌   | 830/1261 [03:04<02:09,  3.34it/s]"
          ]
        },
        {
          "output_type": "stream",
          "name": "stdout",
          "text": [
            "Successfully saved checkpoint. Processed 13280 samples so far\n"
          ]
        },
        {
          "output_type": "stream",
          "name": "stderr",
          "text": [
            "Processing:  67%|██████▋   | 840/1261 [03:06<01:51,  3.78it/s]"
          ]
        },
        {
          "output_type": "stream",
          "name": "stdout",
          "text": [
            "\n",
            "Saving checkpoint at batch 839\n",
            "Successfully saved checkpoint. Processed 13440 samples so far\n"
          ]
        },
        {
          "output_type": "stream",
          "name": "stderr",
          "text": [
            "Processing:  67%|██████▋   | 850/1261 [03:09<01:48,  3.78it/s]"
          ]
        },
        {
          "output_type": "stream",
          "name": "stdout",
          "text": [
            "\n",
            "Saving checkpoint at batch 849\n",
            "Successfully saved checkpoint. Processed 13600 samples so far\n"
          ]
        },
        {
          "output_type": "stream",
          "name": "stderr",
          "text": [
            "Processing:  68%|██████▊   | 860/1261 [03:11<01:47,  3.72it/s]"
          ]
        },
        {
          "output_type": "stream",
          "name": "stdout",
          "text": [
            "\n",
            "Saving checkpoint at batch 859\n",
            "Successfully saved checkpoint. Processed 13760 samples so far\n"
          ]
        },
        {
          "output_type": "stream",
          "name": "stderr",
          "text": [
            "Processing:  69%|██████▉   | 870/1261 [03:13<01:43,  3.78it/s]"
          ]
        },
        {
          "output_type": "stream",
          "name": "stdout",
          "text": [
            "\n",
            "Saving checkpoint at batch 869\n",
            "Successfully saved checkpoint. Processed 13920 samples so far\n"
          ]
        },
        {
          "output_type": "stream",
          "name": "stderr",
          "text": [
            "Processing:  70%|██████▉   | 879/1261 [03:15<01:25,  4.48it/s]"
          ]
        },
        {
          "output_type": "stream",
          "name": "stdout",
          "text": [
            "\n",
            "Saving checkpoint at batch 879\n"
          ]
        },
        {
          "output_type": "stream",
          "name": "stderr",
          "text": [
            "\rProcessing:  70%|██████▉   | 880/1261 [03:16<01:54,  3.32it/s]"
          ]
        },
        {
          "output_type": "stream",
          "name": "stdout",
          "text": [
            "Successfully saved checkpoint. Processed 14080 samples so far\n"
          ]
        },
        {
          "output_type": "stream",
          "name": "stderr",
          "text": [
            "Processing:  71%|███████   | 890/1261 [03:18<01:42,  3.61it/s]"
          ]
        },
        {
          "output_type": "stream",
          "name": "stdout",
          "text": [
            "\n",
            "Saving checkpoint at batch 889\n",
            "Successfully saved checkpoint. Processed 14240 samples so far\n"
          ]
        },
        {
          "output_type": "stream",
          "name": "stderr",
          "text": [
            "Processing:  71%|███████▏  | 900/1261 [03:21<01:36,  3.73it/s]"
          ]
        },
        {
          "output_type": "stream",
          "name": "stdout",
          "text": [
            "\n",
            "Saving checkpoint at batch 899\n",
            "Successfully saved checkpoint. Processed 14400 samples so far\n"
          ]
        },
        {
          "output_type": "stream",
          "name": "stderr",
          "text": [
            "Processing:  72%|███████▏  | 910/1261 [03:23<01:34,  3.70it/s]"
          ]
        },
        {
          "output_type": "stream",
          "name": "stdout",
          "text": [
            "\n",
            "Saving checkpoint at batch 909\n",
            "Successfully saved checkpoint. Processed 14560 samples so far\n"
          ]
        },
        {
          "output_type": "stream",
          "name": "stderr",
          "text": [
            "Processing:  73%|███████▎  | 920/1261 [03:25<01:33,  3.64it/s]"
          ]
        },
        {
          "output_type": "stream",
          "name": "stdout",
          "text": [
            "\n",
            "Saving checkpoint at batch 919\n",
            "Successfully saved checkpoint. Processed 14720 samples so far\n"
          ]
        },
        {
          "output_type": "stream",
          "name": "stderr",
          "text": [
            "Processing:  74%|███████▍  | 930/1261 [03:28<01:33,  3.56it/s]"
          ]
        },
        {
          "output_type": "stream",
          "name": "stdout",
          "text": [
            "\n",
            "Saving checkpoint at batch 929\n",
            "Successfully saved checkpoint. Processed 14880 samples so far\n"
          ]
        },
        {
          "output_type": "stream",
          "name": "stderr",
          "text": [
            "Processing:  74%|███████▍  | 939/1261 [03:30<01:15,  4.27it/s]"
          ]
        },
        {
          "output_type": "stream",
          "name": "stdout",
          "text": [
            "\n",
            "Saving checkpoint at batch 939\n"
          ]
        },
        {
          "output_type": "stream",
          "name": "stderr",
          "text": [
            "\rProcessing:  75%|███████▍  | 940/1261 [03:30<01:42,  3.14it/s]"
          ]
        },
        {
          "output_type": "stream",
          "name": "stdout",
          "text": [
            "Successfully saved checkpoint. Processed 15040 samples so far\n"
          ]
        },
        {
          "output_type": "stream",
          "name": "stderr",
          "text": [
            "Processing:  75%|███████▌  | 950/1261 [03:33<01:26,  3.61it/s]"
          ]
        },
        {
          "output_type": "stream",
          "name": "stdout",
          "text": [
            "\n",
            "Saving checkpoint at batch 949\n",
            "Successfully saved checkpoint. Processed 15200 samples so far\n"
          ]
        },
        {
          "output_type": "stream",
          "name": "stderr",
          "text": [
            "Processing:  76%|███████▌  | 960/1261 [03:35<01:23,  3.59it/s]"
          ]
        },
        {
          "output_type": "stream",
          "name": "stdout",
          "text": [
            "\n",
            "Saving checkpoint at batch 959\n",
            "Successfully saved checkpoint. Processed 15360 samples so far\n"
          ]
        },
        {
          "output_type": "stream",
          "name": "stderr",
          "text": [
            "Processing:  77%|███████▋  | 970/1261 [03:37<01:19,  3.66it/s]"
          ]
        },
        {
          "output_type": "stream",
          "name": "stdout",
          "text": [
            "\n",
            "Saving checkpoint at batch 969\n",
            "Successfully saved checkpoint. Processed 15520 samples so far\n"
          ]
        },
        {
          "output_type": "stream",
          "name": "stderr",
          "text": [
            "Processing:  78%|███████▊  | 980/1261 [03:40<01:17,  3.63it/s]"
          ]
        },
        {
          "output_type": "stream",
          "name": "stdout",
          "text": [
            "\n",
            "Saving checkpoint at batch 979\n",
            "Successfully saved checkpoint. Processed 15680 samples so far\n"
          ]
        },
        {
          "output_type": "stream",
          "name": "stderr",
          "text": [
            "Processing:  78%|███████▊  | 989/1261 [03:42<01:02,  4.35it/s]"
          ]
        },
        {
          "output_type": "stream",
          "name": "stdout",
          "text": [
            "\n",
            "Saving checkpoint at batch 989\n"
          ]
        },
        {
          "output_type": "stream",
          "name": "stderr",
          "text": [
            "\rProcessing:  79%|███████▊  | 990/1261 [03:42<01:25,  3.15it/s]"
          ]
        },
        {
          "output_type": "stream",
          "name": "stdout",
          "text": [
            "Successfully saved checkpoint. Processed 15840 samples so far\n"
          ]
        },
        {
          "output_type": "stream",
          "name": "stderr",
          "text": [
            "Processing:  79%|███████▉  | 1000/1261 [03:45<01:13,  3.56it/s]"
          ]
        },
        {
          "output_type": "stream",
          "name": "stdout",
          "text": [
            "\n",
            "Saving checkpoint at batch 999\n",
            "Successfully saved checkpoint. Processed 16000 samples so far\n"
          ]
        },
        {
          "output_type": "stream",
          "name": "stderr",
          "text": [
            "Processing:  80%|████████  | 1010/1261 [03:47<01:10,  3.57it/s]"
          ]
        },
        {
          "output_type": "stream",
          "name": "stdout",
          "text": [
            "\n",
            "Saving checkpoint at batch 1009\n",
            "Successfully saved checkpoint. Processed 16160 samples so far\n"
          ]
        },
        {
          "output_type": "stream",
          "name": "stderr",
          "text": [
            "Processing:  81%|████████  | 1020/1261 [03:50<01:06,  3.63it/s]"
          ]
        },
        {
          "output_type": "stream",
          "name": "stdout",
          "text": [
            "\n",
            "Saving checkpoint at batch 1019\n",
            "Successfully saved checkpoint. Processed 16320 samples so far\n"
          ]
        },
        {
          "output_type": "stream",
          "name": "stderr",
          "text": [
            "Processing:  82%|████████▏ | 1030/1261 [03:52<01:04,  3.59it/s]"
          ]
        },
        {
          "output_type": "stream",
          "name": "stdout",
          "text": [
            "\n",
            "Saving checkpoint at batch 1029\n",
            "Successfully saved checkpoint. Processed 16480 samples so far\n"
          ]
        },
        {
          "output_type": "stream",
          "name": "stderr",
          "text": [
            "Processing:  82%|████████▏ | 1039/1261 [03:54<00:49,  4.48it/s]"
          ]
        },
        {
          "output_type": "stream",
          "name": "stdout",
          "text": [
            "\n",
            "Saving checkpoint at batch 1039\n"
          ]
        },
        {
          "output_type": "stream",
          "name": "stderr",
          "text": [
            "\rProcessing:  82%|████████▏ | 1040/1261 [03:54<01:10,  3.15it/s]"
          ]
        },
        {
          "output_type": "stream",
          "name": "stdout",
          "text": [
            "Successfully saved checkpoint. Processed 16640 samples so far\n"
          ]
        },
        {
          "output_type": "stream",
          "name": "stderr",
          "text": [
            "Processing:  83%|████████▎ | 1049/1261 [03:57<00:49,  4.32it/s]"
          ]
        },
        {
          "output_type": "stream",
          "name": "stdout",
          "text": [
            "\n",
            "Saving checkpoint at batch 1049\n"
          ]
        },
        {
          "output_type": "stream",
          "name": "stderr",
          "text": [
            "\rProcessing:  83%|████████▎ | 1050/1261 [03:57<01:07,  3.15it/s]"
          ]
        },
        {
          "output_type": "stream",
          "name": "stdout",
          "text": [
            "Successfully saved checkpoint. Processed 16800 samples so far\n"
          ]
        },
        {
          "output_type": "stream",
          "name": "stderr",
          "text": [
            "Processing:  84%|████████▍ | 1059/1261 [03:59<00:45,  4.47it/s]"
          ]
        },
        {
          "output_type": "stream",
          "name": "stdout",
          "text": [
            "\n",
            "Saving checkpoint at batch 1059\n"
          ]
        },
        {
          "output_type": "stream",
          "name": "stderr",
          "text": [
            "\rProcessing:  84%|████████▍ | 1060/1261 [03:59<00:57,  3.50it/s]"
          ]
        },
        {
          "output_type": "stream",
          "name": "stdout",
          "text": [
            "Successfully saved checkpoint. Processed 16960 samples so far\n"
          ]
        },
        {
          "output_type": "stream",
          "name": "stderr",
          "text": [
            "Processing:  85%|████████▍ | 1070/1261 [04:02<00:54,  3.53it/s]"
          ]
        },
        {
          "output_type": "stream",
          "name": "stdout",
          "text": [
            "\n",
            "Saving checkpoint at batch 1069\n",
            "Successfully saved checkpoint. Processed 17120 samples so far\n"
          ]
        },
        {
          "output_type": "stream",
          "name": "stderr",
          "text": [
            "Processing:  86%|████████▌ | 1080/1261 [04:04<00:51,  3.55it/s]"
          ]
        },
        {
          "output_type": "stream",
          "name": "stdout",
          "text": [
            "\n",
            "Saving checkpoint at batch 1079\n",
            "Successfully saved checkpoint. Processed 17280 samples so far\n"
          ]
        },
        {
          "output_type": "stream",
          "name": "stderr",
          "text": [
            "Processing:  86%|████████▋ | 1089/1261 [04:06<00:38,  4.47it/s]"
          ]
        },
        {
          "output_type": "stream",
          "name": "stdout",
          "text": [
            "\n",
            "Saving checkpoint at batch 1089\n"
          ]
        },
        {
          "output_type": "stream",
          "name": "stderr",
          "text": [
            "\rProcessing:  86%|████████▋ | 1090/1261 [04:07<00:49,  3.42it/s]"
          ]
        },
        {
          "output_type": "stream",
          "name": "stdout",
          "text": [
            "Successfully saved checkpoint. Processed 17440 samples so far\n"
          ]
        },
        {
          "output_type": "stream",
          "name": "stderr",
          "text": [
            "Processing:  87%|████████▋ | 1099/1261 [04:09<00:37,  4.34it/s]"
          ]
        },
        {
          "output_type": "stream",
          "name": "stdout",
          "text": [
            "\n",
            "Saving checkpoint at batch 1099\n"
          ]
        },
        {
          "output_type": "stream",
          "name": "stderr",
          "text": [
            "\rProcessing:  87%|████████▋ | 1100/1261 [04:09<00:53,  3.00it/s]"
          ]
        },
        {
          "output_type": "stream",
          "name": "stdout",
          "text": [
            "Successfully saved checkpoint. Processed 17600 samples so far\n"
          ]
        },
        {
          "output_type": "stream",
          "name": "stderr",
          "text": [
            "Processing:  88%|████████▊ | 1109/1261 [04:11<00:34,  4.35it/s]"
          ]
        },
        {
          "output_type": "stream",
          "name": "stdout",
          "text": [
            "\n",
            "Saving checkpoint at batch 1109\n"
          ]
        },
        {
          "output_type": "stream",
          "name": "stderr",
          "text": [
            "\rProcessing:  88%|████████▊ | 1110/1261 [04:12<00:43,  3.44it/s]"
          ]
        },
        {
          "output_type": "stream",
          "name": "stdout",
          "text": [
            "Successfully saved checkpoint. Processed 17760 samples so far\n"
          ]
        },
        {
          "output_type": "stream",
          "name": "stderr",
          "text": [
            "Processing:  89%|████████▉ | 1120/1261 [04:14<00:40,  3.48it/s]"
          ]
        },
        {
          "output_type": "stream",
          "name": "stdout",
          "text": [
            "\n",
            "Saving checkpoint at batch 1119\n",
            "Successfully saved checkpoint. Processed 17920 samples so far\n"
          ]
        },
        {
          "output_type": "stream",
          "name": "stderr",
          "text": [
            "Processing:  90%|████████▉ | 1129/1261 [04:16<00:29,  4.50it/s]"
          ]
        },
        {
          "output_type": "stream",
          "name": "stdout",
          "text": [
            "\n",
            "Saving checkpoint at batch 1129\n"
          ]
        },
        {
          "output_type": "stream",
          "name": "stderr",
          "text": [
            "\rProcessing:  90%|████████▉ | 1130/1261 [04:17<00:37,  3.48it/s]"
          ]
        },
        {
          "output_type": "stream",
          "name": "stdout",
          "text": [
            "Successfully saved checkpoint. Processed 18080 samples so far\n"
          ]
        },
        {
          "output_type": "stream",
          "name": "stderr",
          "text": [
            "Processing:  90%|█████████ | 1139/1261 [04:19<00:27,  4.47it/s]"
          ]
        },
        {
          "output_type": "stream",
          "name": "stdout",
          "text": [
            "\n",
            "Saving checkpoint at batch 1139\n"
          ]
        },
        {
          "output_type": "stream",
          "name": "stderr",
          "text": [
            "\rProcessing:  90%|█████████ | 1140/1261 [04:19<00:35,  3.43it/s]"
          ]
        },
        {
          "output_type": "stream",
          "name": "stdout",
          "text": [
            "Successfully saved checkpoint. Processed 18240 samples so far\n"
          ]
        },
        {
          "output_type": "stream",
          "name": "stderr",
          "text": [
            "Processing:  91%|█████████ | 1149/1261 [04:21<00:26,  4.30it/s]"
          ]
        },
        {
          "output_type": "stream",
          "name": "stdout",
          "text": [
            "\n",
            "Saving checkpoint at batch 1149\n"
          ]
        },
        {
          "output_type": "stream",
          "name": "stderr",
          "text": [
            "\rProcessing:  91%|█████████ | 1150/1261 [04:22<00:37,  2.97it/s]"
          ]
        },
        {
          "output_type": "stream",
          "name": "stdout",
          "text": [
            "Successfully saved checkpoint. Processed 18400 samples so far\n"
          ]
        },
        {
          "output_type": "stream",
          "name": "stderr",
          "text": [
            "Processing:  92%|█████████▏| 1159/1261 [04:24<00:23,  4.37it/s]"
          ]
        },
        {
          "output_type": "stream",
          "name": "stdout",
          "text": [
            "\n",
            "Saving checkpoint at batch 1159\n"
          ]
        },
        {
          "output_type": "stream",
          "name": "stderr",
          "text": [
            "\rProcessing:  92%|█████████▏| 1160/1261 [04:24<00:29,  3.44it/s]"
          ]
        },
        {
          "output_type": "stream",
          "name": "stdout",
          "text": [
            "Successfully saved checkpoint. Processed 18560 samples so far\n"
          ]
        },
        {
          "output_type": "stream",
          "name": "stderr",
          "text": [
            "Processing:  93%|█████████▎| 1169/1261 [04:26<00:20,  4.45it/s]"
          ]
        },
        {
          "output_type": "stream",
          "name": "stdout",
          "text": [
            "\n",
            "Saving checkpoint at batch 1169\n"
          ]
        },
        {
          "output_type": "stream",
          "name": "stderr",
          "text": [
            "\rProcessing:  93%|█████████▎| 1170/1261 [04:27<00:26,  3.44it/s]"
          ]
        },
        {
          "output_type": "stream",
          "name": "stdout",
          "text": [
            "Successfully saved checkpoint. Processed 18720 samples so far\n"
          ]
        },
        {
          "output_type": "stream",
          "name": "stderr",
          "text": [
            "Processing:  93%|█████████▎| 1179/1261 [04:29<00:18,  4.49it/s]"
          ]
        },
        {
          "output_type": "stream",
          "name": "stdout",
          "text": [
            "\n",
            "Saving checkpoint at batch 1179\n"
          ]
        },
        {
          "output_type": "stream",
          "name": "stderr",
          "text": [
            "\rProcessing:  94%|█████████▎| 1180/1261 [04:29<00:23,  3.45it/s]"
          ]
        },
        {
          "output_type": "stream",
          "name": "stdout",
          "text": [
            "Successfully saved checkpoint. Processed 18880 samples so far\n"
          ]
        },
        {
          "output_type": "stream",
          "name": "stderr",
          "text": [
            "Processing:  94%|█████████▍| 1189/1261 [04:31<00:16,  4.46it/s]"
          ]
        },
        {
          "output_type": "stream",
          "name": "stdout",
          "text": [
            "\n",
            "Saving checkpoint at batch 1189\n"
          ]
        },
        {
          "output_type": "stream",
          "name": "stderr",
          "text": [
            "\rProcessing:  94%|█████████▍| 1190/1261 [04:31<00:20,  3.39it/s]"
          ]
        },
        {
          "output_type": "stream",
          "name": "stdout",
          "text": [
            "Successfully saved checkpoint. Processed 19040 samples so far\n"
          ]
        },
        {
          "output_type": "stream",
          "name": "stderr",
          "text": [
            "Processing:  95%|█████████▌| 1199/1261 [04:33<00:14,  4.36it/s]"
          ]
        },
        {
          "output_type": "stream",
          "name": "stdout",
          "text": [
            "\n",
            "Saving checkpoint at batch 1199\n"
          ]
        },
        {
          "output_type": "stream",
          "name": "stderr",
          "text": [
            "\rProcessing:  95%|█████████▌| 1200/1261 [04:34<00:20,  2.97it/s]"
          ]
        },
        {
          "output_type": "stream",
          "name": "stdout",
          "text": [
            "Successfully saved checkpoint. Processed 19200 samples so far\n"
          ]
        },
        {
          "output_type": "stream",
          "name": "stderr",
          "text": [
            "Processing:  96%|█████████▌| 1209/1261 [04:36<00:12,  4.21it/s]"
          ]
        },
        {
          "output_type": "stream",
          "name": "stdout",
          "text": [
            "\n",
            "Saving checkpoint at batch 1209\n"
          ]
        },
        {
          "output_type": "stream",
          "name": "stderr",
          "text": [
            "\rProcessing:  96%|█████████▌| 1210/1261 [04:37<00:15,  3.28it/s]"
          ]
        },
        {
          "output_type": "stream",
          "name": "stdout",
          "text": [
            "Successfully saved checkpoint. Processed 19360 samples so far\n"
          ]
        },
        {
          "output_type": "stream",
          "name": "stderr",
          "text": [
            "Processing:  97%|█████████▋| 1219/1261 [04:39<00:09,  4.44it/s]"
          ]
        },
        {
          "output_type": "stream",
          "name": "stdout",
          "text": [
            "\n",
            "Saving checkpoint at batch 1219\n"
          ]
        },
        {
          "output_type": "stream",
          "name": "stderr",
          "text": [
            "\rProcessing:  97%|█████████▋| 1220/1261 [04:39<00:12,  3.38it/s]"
          ]
        },
        {
          "output_type": "stream",
          "name": "stdout",
          "text": [
            "Successfully saved checkpoint. Processed 19520 samples so far\n"
          ]
        },
        {
          "output_type": "stream",
          "name": "stderr",
          "text": [
            "Processing:  97%|█████████▋| 1229/1261 [04:41<00:07,  4.40it/s]"
          ]
        },
        {
          "output_type": "stream",
          "name": "stdout",
          "text": [
            "\n",
            "Saving checkpoint at batch 1229\n"
          ]
        },
        {
          "output_type": "stream",
          "name": "stderr",
          "text": [
            "\rProcessing:  98%|█████████▊| 1230/1261 [04:41<00:09,  3.43it/s]"
          ]
        },
        {
          "output_type": "stream",
          "name": "stdout",
          "text": [
            "Successfully saved checkpoint. Processed 19680 samples so far\n"
          ]
        },
        {
          "output_type": "stream",
          "name": "stderr",
          "text": [
            "Processing:  98%|█████████▊| 1239/1261 [04:43<00:04,  4.45it/s]"
          ]
        },
        {
          "output_type": "stream",
          "name": "stdout",
          "text": [
            "\n",
            "Saving checkpoint at batch 1239\n"
          ]
        },
        {
          "output_type": "stream",
          "name": "stderr",
          "text": [
            "\rProcessing:  98%|█████████▊| 1240/1261 [04:44<00:06,  3.42it/s]"
          ]
        },
        {
          "output_type": "stream",
          "name": "stdout",
          "text": [
            "Successfully saved checkpoint. Processed 19840 samples so far\n"
          ]
        },
        {
          "output_type": "stream",
          "name": "stderr",
          "text": [
            "Processing:  99%|█████████▉| 1249/1261 [04:46<00:02,  4.44it/s]"
          ]
        },
        {
          "output_type": "stream",
          "name": "stdout",
          "text": [
            "\n",
            "Saving checkpoint at batch 1249\n"
          ]
        },
        {
          "output_type": "stream",
          "name": "stderr",
          "text": [
            "\rProcessing:  99%|█████████▉| 1250/1261 [04:46<00:03,  3.18it/s]"
          ]
        },
        {
          "output_type": "stream",
          "name": "stdout",
          "text": [
            "Successfully saved checkpoint. Processed 20000 samples so far\n"
          ]
        },
        {
          "output_type": "stream",
          "name": "stderr",
          "text": [
            "Processing: 100%|█████████▉| 1259/1261 [04:48<00:00,  4.30it/s]"
          ]
        },
        {
          "output_type": "stream",
          "name": "stdout",
          "text": [
            "\n",
            "Saving checkpoint at batch 1259\n"
          ]
        },
        {
          "output_type": "stream",
          "name": "stderr",
          "text": [
            "Processing: 100%|██████████| 1261/1261 [04:49<00:00,  4.35it/s]"
          ]
        },
        {
          "output_type": "stream",
          "name": "stdout",
          "text": [
            "Successfully saved checkpoint. Processed 20160 samples so far\n"
          ]
        },
        {
          "output_type": "stream",
          "name": "stderr",
          "text": [
            "\n"
          ]
        },
        {
          "output_type": "stream",
          "name": "stdout",
          "text": [
            "\n",
            "Saved final results to: /content/checkpoint_full_dataset/full_dataset_results.csv\n",
            "Saved final checkpoint\n"
          ]
        }
      ],
      "source": [
        "# Run analysis on full dataset\n",
        "full_results = analyze_full_dataset(df)"
      ]
    },
    {
      "cell_type": "code",
      "execution_count": null,
      "metadata": {
        "id": "viAuGF-v0lNi"
      },
      "outputs": [],
      "source": [
        "# Labels:\n",
        "# Very Low: Least severe complaints (lowest negative sentiment)\n",
        "# Low: Slightly negative complaints\n",
        "# Medium: Neutral or mildly negative complaints\n",
        "# High: More significantly negative complaints\n",
        "# Very High: Most severe complaints (highest negative sentiment)"
      ]
    },
    {
      "cell_type": "code",
      "source": [
        "train = pd.read_csv('/content/train.csv', names=['_id', 'sentence', 'target', 'aspect', 'score', 'type'])"
      ],
      "metadata": {
        "id": "QVTLv-Cl9GaS"
      },
      "execution_count": 36,
      "outputs": []
    },
    {
      "cell_type": "code",
      "source": [
        "train.info()"
      ],
      "metadata": {
        "colab": {
          "base_uri": "https://localhost:8080/"
        },
        "id": "OU5KcPEc9MSh",
        "outputId": "ffc76f2e-a7fc-4e5b-d7ad-adec602ce84d"
      },
      "execution_count": 38,
      "outputs": [
        {
          "output_type": "stream",
          "name": "stdout",
          "text": [
            "<class 'pandas.core.frame.DataFrame'>\n",
            "RangeIndex: 823 entries, 0 to 822\n",
            "Data columns (total 6 columns):\n",
            " #   Column    Non-Null Count  Dtype \n",
            "---  ------    --------------  ----- \n",
            " 0   _id       823 non-null    object\n",
            " 1   sentence  823 non-null    object\n",
            " 2   target    823 non-null    object\n",
            " 3   aspect    823 non-null    object\n",
            " 4   score     823 non-null    object\n",
            " 5   type      823 non-null    object\n",
            "dtypes: object(6)\n",
            "memory usage: 38.7+ KB\n"
          ]
        }
      ]
    },
    {
      "cell_type": "markdown",
      "source": [
        "#Finetuning FinBERT"
      ],
      "metadata": {
        "id": "jm_jIbjDgyxd"
      }
    },
    {
      "cell_type": "code",
      "source": [
        "import torch\n",
        "import numpy as np\n",
        "import pandas as pd\n",
        "import transformers\n",
        "from sklearn.model_selection import train_test_split\n",
        "from sklearn.metrics import mean_squared_error\n",
        "from transformers import AutoTokenizer, BertConfig, BertModel, BertPreTrainedModel\n",
        "from torch.utils.data import Dataset, DataLoader\n",
        "from transformers.optimization import get_linear_schedule_with_warmup\n",
        "import torch.nn as nn\n",
        "import torch.optim\n",
        "from tqdm import tqdm\n",
        "import os\n",
        "from datetime import datetime\n",
        "\n",
        "class MetricsLogger:\n",
        "    def __init__(self, output_dir):\n",
        "        self.output_dir = output_dir\n",
        "        # Initialize empty lists for each metric\n",
        "        self.datasets = []\n",
        "        self.counts = []\n",
        "        self.means = []\n",
        "        self.stds = []\n",
        "        self.mins = []\n",
        "        self.maxs = []\n",
        "        self.percentile_25 = []\n",
        "        self.medians = []\n",
        "        self.percentile_75 = []\n",
        "\n",
        "        self.training_metrics = []\n",
        "        os.makedirs(output_dir, exist_ok=True)\n",
        "        print(f\"Initialized MetricsLogger with output directory: {output_dir}\")\n",
        "\n",
        "    def log_dataset_stats(self, name, scores):\n",
        "        print(f\"\\nLogging stats for dataset: {name}\")\n",
        "        stats = scores.describe()\n",
        "        print(\"Statistics computed:\")\n",
        "        print(stats)\n",
        "\n",
        "        # Append each statistic to its respective list\n",
        "        self.datasets.append(name)\n",
        "        self.counts.append(float(stats['count']))  # Convert to float\n",
        "        self.means.append(float(stats['mean']))\n",
        "        self.stds.append(float(stats['std']))\n",
        "        self.mins.append(float(stats['min']))\n",
        "        self.maxs.append(float(stats['max']))\n",
        "        self.percentile_25.append(float(stats['25%']))\n",
        "        self.medians.append(float(stats['50%']))\n",
        "        self.percentile_75.append(float(stats['75%']))\n",
        "\n",
        "        print(\"Current state of metrics:\")\n",
        "        print(f\"Datasets: {self.datasets}\")\n",
        "        print(f\"Counts: {self.counts}\")\n",
        "\n",
        "    def log_training_metrics(self, epoch, train_loss, val_loss, learning_rate):\n",
        "        self.training_metrics.append({\n",
        "            'epoch': epoch,\n",
        "            'avg_train_loss': train_loss,\n",
        "            'val_loss': val_loss,\n",
        "            'learning_rate': learning_rate,\n",
        "            'timestamp': datetime.now().strftime('%Y-%m-%d %H:%M:%S')\n",
        "        })\n",
        "\n",
        "    def save_metrics(self):\n",
        "        print(\"\\nSaving metrics...\")\n",
        "        print(f\"Number of datasets: {len(self.datasets)}\")\n",
        "        print(f\"Current datasets: {self.datasets}\")\n",
        "\n",
        "        try:\n",
        "            # Create dataset statistics DataFrame\n",
        "            dataset_stats = pd.DataFrame({\n",
        "                'dataset': self.datasets,\n",
        "                'count': self.counts,\n",
        "                'mean': self.means,\n",
        "                'std': self.stds,\n",
        "                'min': self.mins,\n",
        "                'max': self.maxs,\n",
        "                '25th_percentile': self.percentile_25,\n",
        "                'median': self.medians,\n",
        "                '75th_percentile': self.percentile_75\n",
        "            })\n",
        "\n",
        "            # Save dataset statistics\n",
        "            stats_path = os.path.join(self.output_dir, 'dataset_statistics.csv')\n",
        "            dataset_stats.to_csv(stats_path, index=False)\n",
        "            print(f\"Saved dataset statistics to: {stats_path}\")\n",
        "            print(\"Dataset statistics content:\")\n",
        "            print(dataset_stats)\n",
        "\n",
        "            # Save training metrics\n",
        "            training_df = pd.DataFrame(self.training_metrics)\n",
        "            metrics_path = os.path.join(self.output_dir, 'training_metrics.csv')\n",
        "            training_df.to_csv(metrics_path, index=False)\n",
        "            print(f\"Saved training metrics to: {metrics_path}\")\n",
        "\n",
        "            print(\"\\nFinal Training Metrics Summary:\")\n",
        "            print(training_df)\n",
        "            print(\"\\nDataset Statistics Summary:\")\n",
        "            print(dataset_stats)\n",
        "\n",
        "        except Exception as e:\n",
        "            print(f\"Error saving metrics: {str(e)}\")\n",
        "            raise\n",
        "\n",
        "def load_finbert_data(data_dir, metrics_logger=None):\n",
        "    try:\n",
        "        print(f\"\\nLoading data from directory: {data_dir}\")\n",
        "\n",
        "        train_df = pd.read_csv(os.path.join(data_dir, 'train.csv'))\n",
        "        valid_df = pd.read_csv(os.path.join(data_dir, 'valid.csv'))\n",
        "        test_df = pd.read_csv(os.path.join(data_dir, 'test.csv'))\n",
        "\n",
        "        # Convert score column to float\n",
        "        train_df['score'] = pd.to_numeric(train_df['score'], errors='coerce')\n",
        "        valid_df['score'] = pd.to_numeric(valid_df['score'], errors='coerce')\n",
        "        test_df['score'] = pd.to_numeric(test_df['score'], errors='coerce')\n",
        "\n",
        "        # Process each dataset\n",
        "        datasets = [\n",
        "            (train_df, 'Train'),\n",
        "            (valid_df, 'Validation'),\n",
        "            (test_df, 'Test')\n",
        "        ]\n",
        "\n",
        "        for df, name in datasets:\n",
        "            print(f\"\\n{name} Dataset Information:\")\n",
        "            print(f\"Shape: {df.shape}\")\n",
        "            print(\"\\nScore statistics:\")\n",
        "            print(df['score'].describe())\n",
        "            print(\"\\nSample data:\")\n",
        "            print(df[['sentence', 'score']].head())\n",
        "\n",
        "        return train_df, valid_df, test_df\n",
        "\n",
        "    except Exception as e:\n",
        "        print(f\"Error loading data: {str(e)}\")\n",
        "        raise\n",
        "\n",
        "class FinBertDataset(Dataset):\n",
        "    def __init__(self, df, tokenizer, max_length=128):\n",
        "        self.sentences = df['sentence']\n",
        "        self.scores = df['score']\n",
        "        self.tokenizer = tokenizer\n",
        "        self.max_length = max_length\n",
        "\n",
        "    def __len__(self):\n",
        "        return len(self.sentences)\n",
        "\n",
        "    def __getitem__(self, idx):\n",
        "        text = str(self.sentences.iloc[idx])\n",
        "        score = float(self.scores.iloc[idx])\n",
        "\n",
        "        encoding = self.tokenizer(\n",
        "            text,\n",
        "            add_special_tokens=True,\n",
        "            max_length=self.max_length,\n",
        "            padding='max_length',\n",
        "            truncation=True,\n",
        "            return_tensors='pt'\n",
        "        )\n",
        "\n",
        "        return {\n",
        "            'input_ids': encoding['input_ids'].flatten(),\n",
        "            'attention_mask': encoding['attention_mask'].flatten(),\n",
        "            'labels': torch.tensor(score, dtype=torch.float)\n",
        "        }\n",
        "\n",
        "class FinBertSentimentRegression(BertPreTrainedModel):\n",
        "    def __init__(self, config):\n",
        "        super().__init__(config)\n",
        "        self.bert = BertModel(config)\n",
        "        self.regressor = nn.Sequential(\n",
        "            nn.Linear(config.hidden_size, 256),\n",
        "            nn.ReLU(),\n",
        "            nn.Dropout(0.2),\n",
        "            nn.Linear(256, 1),\n",
        "            nn.Tanh()\n",
        "        )\n",
        "        self.init_weights()\n",
        "\n",
        "    def forward(self, input_ids, attention_mask=None, token_type_ids=None, labels=None):\n",
        "        outputs = self.bert(input_ids, attention_mask=attention_mask, token_type_ids=token_type_ids)\n",
        "        pooled_output = outputs[1]\n",
        "        regression_output = self.regressor(pooled_output)\n",
        "\n",
        "        loss = None\n",
        "        if labels is not None:\n",
        "            labels = torch.clamp(labels, min=-1, max=1)\n",
        "            loss_fct = nn.MSELoss()\n",
        "            loss = loss_fct(regression_output.view(-1), labels.view(-1))\n",
        "        else:\n",
        "            loss = torch.mean(regression_output)\n",
        "\n",
        "        return loss, regression_output\n",
        "\n",
        "class FinBertTrainer:\n",
        "    def __init__(self, model, config):\n",
        "        self.model = model\n",
        "        self.config = config\n",
        "        self.device = torch.device(\"cuda\" if torch.cuda.is_available() else \"cpu\")\n",
        "        self.model.to(self.device)\n",
        "\n",
        "        no_decay = ['bias', 'LayerNorm.weight']\n",
        "        optimizer_grouped_parameters = [\n",
        "            {'params': [p for n, p in model.named_parameters()\n",
        "                       if not any(nd in n for nd in no_decay) and p.requires_grad],\n",
        "             'weight_decay': 0.01},\n",
        "            {'params': [p for n, p in model.named_parameters()\n",
        "                       if any(nd in n for nd in no_decay) and p.requires_grad],\n",
        "             'weight_decay': 0.0}\n",
        "        ]\n",
        "        self.optimizer = torch.optim.AdamW(optimizer_grouped_parameters, lr=config.learning_rate)\n",
        "\n",
        "    def freeze_layers(self, num_layers_to_freeze=9):\n",
        "        for param in self.model.bert.embeddings.parameters():\n",
        "            param.requires_grad = False\n",
        "\n",
        "        for i in range(num_layers_to_freeze):\n",
        "            for param in self.model.bert.encoder.layer[i].parameters():\n",
        "                param.requires_grad = False\n",
        "\n",
        "        print(f\"Froze {num_layers_to_freeze} layers plus embeddings\")\n",
        "\n",
        "    def train_epoch(self, train_loader, epoch):\n",
        "        self.model.train()\n",
        "        total_loss = 0\n",
        "\n",
        "        for batch in tqdm(train_loader, desc=f\"Epoch {epoch + 1}/{self.config.num_epochs}\"):\n",
        "            self.optimizer.zero_grad()\n",
        "\n",
        "            input_ids = batch['input_ids'].to(self.device)\n",
        "            attention_mask = batch['attention_mask'].to(self.device)\n",
        "            labels = batch['labels'].to(self.device)\n",
        "\n",
        "            loss, _ = self.model(\n",
        "                input_ids=input_ids,\n",
        "                attention_mask=attention_mask,\n",
        "                labels=labels\n",
        "            )\n",
        "\n",
        "            loss.backward()\n",
        "            torch.nn.utils.clip_grad_norm_(self.model.parameters(), 1.0)\n",
        "            self.optimizer.step()\n",
        "\n",
        "            total_loss += loss.item()\n",
        "\n",
        "        return total_loss / len(train_loader)\n",
        "\n",
        "    def evaluate(self, eval_dataloader):\n",
        "        self.model.eval()\n",
        "        total_loss = 0\n",
        "\n",
        "        with torch.no_grad():\n",
        "            for batch in tqdm(eval_dataloader, desc=\"Evaluating\"):\n",
        "                input_ids = batch['input_ids'].to(self.device)\n",
        "                attention_mask = batch['attention_mask'].to(self.device)\n",
        "                labels = batch['labels'].to(self.device)\n",
        "\n",
        "                loss, _ = self.model(\n",
        "                    input_ids=input_ids,\n",
        "                    attention_mask=attention_mask,\n",
        "                    labels=labels\n",
        "                )\n",
        "\n",
        "                total_loss += loss.item()\n",
        "\n",
        "        return total_loss / len(eval_dataloader)\n",
        "\n",
        "def prepare_dataloaders(train_df, valid_df, test_df, tokenizer, config):\n",
        "    train_dataset = FinBertDataset(train_df, tokenizer, max_length=config.max_seq_length)\n",
        "    valid_dataset = FinBertDataset(valid_df, tokenizer, max_length=config.max_seq_length)\n",
        "    test_dataset = FinBertDataset(test_df, tokenizer, max_length=config.max_seq_length)\n",
        "\n",
        "    train_loader = DataLoader(\n",
        "        train_dataset,\n",
        "        batch_size=config.train_batch_size,\n",
        "        shuffle=True\n",
        "    )\n",
        "\n",
        "    valid_loader = DataLoader(\n",
        "        valid_dataset,\n",
        "        batch_size=config.eval_batch_size,\n",
        "        shuffle=False\n",
        "    )\n",
        "\n",
        "    test_loader = DataLoader(\n",
        "        test_dataset,\n",
        "        batch_size=config.eval_batch_size,\n",
        "        shuffle=False\n",
        "    )\n",
        "\n",
        "    return train_loader, valid_loader, test_loader\n",
        "\n",
        "class Config:\n",
        "    def __init__(self):\n",
        "        self.data_dir = \"/content\"  # Data is in content directory\n",
        "        self.model_dir = \"/content/finbert_sentiment_regression_model\"  # Updated model directory\n",
        "        self.max_seq_length = 128\n",
        "        self.train_batch_size = 32\n",
        "        self.eval_batch_size = 32\n",
        "        self.learning_rate = 2e-5\n",
        "        self.warmup_proportion = 0.1\n",
        "        self.num_epochs = 4\n",
        "        self.num_frozen_layers = 9\n",
        "\n",
        "def train_with_logging(trainer, train_loader, valid_loader, config):\n",
        "    metrics_logger = MetricsLogger(config.model_dir)\n",
        "    best_val_loss = float('inf')\n",
        "    best_model_state = None\n",
        "\n",
        "    for epoch in range(config.num_epochs):\n",
        "        train_loss = trainer.train_epoch(train_loader, epoch)\n",
        "        val_loss = trainer.evaluate(valid_loader)\n",
        "\n",
        "        metrics_logger.log_training_metrics(\n",
        "            epoch + 1,\n",
        "            train_loss,\n",
        "            val_loss,\n",
        "            trainer.optimizer.param_groups[0]['lr']\n",
        "        )\n",
        "\n",
        "        print(f\"\\nEpoch {epoch + 1}/{config.num_epochs}\")\n",
        "        print(f\"Average training loss: {train_loss:.4f}\")\n",
        "        print(f\"Validation loss: {val_loss:.4f}\")\n",
        "\n",
        "        # Save best model\n",
        "        if val_loss < best_val_loss:\n",
        "            best_val_loss = val_loss\n",
        "            best_model_state = {\n",
        "                'epoch': epoch + 1,\n",
        "                'model_state_dict': trainer.model.state_dict(),\n",
        "                'optimizer_state_dict': trainer.optimizer.state_dict(),\n",
        "                'val_loss': val_loss,\n",
        "            }\n",
        "            torch.save(best_model_state, os.path.join(config.model_dir, \"best_model.pt\"))\n",
        "\n",
        "    # Save final metrics\n",
        "    metrics_logger.save_metrics()\n",
        "\n",
        "    # Save final model\n",
        "    torch.save({\n",
        "        'epoch': config.num_epochs,\n",
        "        'model_state_dict': trainer.model.state_dict(),\n",
        "        'optimizer_state_dict': trainer.optimizer.state_dict(),\n",
        "        'final_val_loss': best_val_loss,\n",
        "    }, os.path.join(config.model_dir, \"final_model.pt\"))\n",
        "\n",
        "    return metrics_logger\n"
      ],
      "metadata": {
        "id": "mhYZ0mz26SFr"
      },
      "execution_count": 58,
      "outputs": []
    },
    {
      "cell_type": "code",
      "source": [
        "if __name__ == \"__main__\":\n",
        "    # Initialize configuration\n",
        "    config = Config()\n",
        "\n",
        "    # Create single metrics logger instance\n",
        "    metrics_logger = MetricsLogger(config.model_dir)\n",
        "    print(f\"Created metrics logger with output directory: {config.model_dir}\")\n",
        "\n",
        "    # Load datasets\n",
        "    print(\"Loading datasets...\")\n",
        "    train_df, valid_df, test_df = load_finbert_data(config.data_dir)\n",
        "\n",
        "    # Log dataset statistics\n",
        "    print(\"\\nLogging dataset statistics...\")\n",
        "    for df, name in [(train_df, 'Train'), (valid_df, 'Validation'), (test_df, 'Test')]:\n",
        "        print(f\"Processing {name} dataset...\")\n",
        "        metrics_logger.log_dataset_stats(name, df['score'])\n",
        "\n",
        "    # Initialize tokenizer and prepare dataloaders\n",
        "    print(\"\\nPreparing dataloaders...\")\n",
        "    tokenizer = AutoTokenizer.from_pretrained(\"ProsusAI/finbert\")\n",
        "    train_loader, valid_loader, test_loader = prepare_dataloaders(\n",
        "        train_df, valid_df, test_df, tokenizer, config\n",
        "    )\n",
        "\n",
        "    # Initialize model and trainer\n",
        "    print(\"\\nInitializing model...\")\n",
        "    model = FinBertSentimentRegression.from_pretrained(\n",
        "        \"ProsusAI/finbert\",\n",
        "        num_labels=1\n",
        "    )\n",
        "\n",
        "    trainer = FinBertTrainer(model, config)\n",
        "\n",
        "    # Freeze layers\n",
        "    print(f\"\\nFreezing {config.num_frozen_layers} layers...\")\n",
        "    trainer.freeze_layers(config.num_frozen_layers)\n",
        "\n",
        "    # Train model\n",
        "    print(\"\\nStarting training...\")\n",
        "    best_val_loss = float('inf')\n",
        "    best_model_state = None\n",
        "\n",
        "    # Training loop\n",
        "    for epoch in range(config.num_epochs):\n",
        "        train_loss = trainer.train_epoch(train_loader, epoch)\n",
        "        val_loss = trainer.evaluate(valid_loader)\n",
        "\n",
        "        metrics_logger.log_training_metrics(\n",
        "            epoch + 1,\n",
        "            train_loss,\n",
        "            val_loss,\n",
        "            trainer.optimizer.param_groups[0]['lr']\n",
        "        )\n",
        "\n",
        "        print(f\"\\nEpoch {epoch + 1}/{config.num_epochs}\")\n",
        "        print(f\"Average training loss: {train_loss:.4f}\")\n",
        "        print(f\"Validation loss: {val_loss:.4f}\")\n",
        "\n",
        "        # Save best model\n",
        "        if val_loss < best_val_loss:\n",
        "            best_val_loss = val_loss\n",
        "            best_model_state = {\n",
        "                'epoch': epoch + 1,\n",
        "                'model_state_dict': trainer.model.state_dict(),\n",
        "                'optimizer_state_dict': trainer.optimizer.state_dict(),\n",
        "                'val_loss': val_loss,\n",
        "            }\n",
        "            torch.save(best_model_state, os.path.join(config.model_dir, \"best_model.pt\"))\n",
        "\n",
        "    # Evaluate on test set\n",
        "    print(\"\\nEvaluating on test set...\")\n",
        "    test_loss = trainer.evaluate(test_loader)\n",
        "    print(f\"Test loss: {test_loss:.4f}\")\n",
        "\n",
        "    # Save final metrics\n",
        "    metrics_logger.save_metrics()\n",
        "    print(\"\\nMetrics saved successfully.\")\n",
        "\n",
        "    # Save final model\n",
        "    final_model_path = os.path.join(config.model_dir, \"final_model.pt\")\n",
        "    torch.save({\n",
        "        'epoch': config.num_epochs,\n",
        "        'model_state_dict': trainer.model.state_dict(),\n",
        "        'optimizer_state_dict': trainer.optimizer.state_dict(),\n",
        "        'test_loss': test_loss,\n",
        "        'val_loss': val_loss\n",
        "    }, final_model_path)\n",
        "    print(f\"\\nFinal model saved to: {final_model_path}\")\n",
        "\n",
        "    # Verify saved metrics\n",
        "    print(\"\\nVerifying saved metrics...\")\n",
        "    stats_path = os.path.join(config.model_dir, 'dataset_statistics.csv')\n",
        "    metrics_path = os.path.join(config.model_dir, 'training_metrics.csv')\n",
        "\n",
        "    try:\n",
        "        if os.path.exists(stats_path):\n",
        "            saved_stats = pd.read_csv(stats_path)\n",
        "            print(\"\\nSaved dataset statistics:\")\n",
        "            print(saved_stats)\n",
        "        else:\n",
        "            print(f\"Error: {stats_path} was not created!\")\n",
        "\n",
        "        if os.path.exists(metrics_path):\n",
        "            saved_metrics = pd.read_csv(metrics_path)\n",
        "            print(\"\\nSaved training metrics:\")\n",
        "            print(saved_metrics)\n",
        "        else:\n",
        "            print(f\"Error: {metrics_path} was not created!\")\n",
        "    except Exception as e:\n",
        "        print(f\"Error verifying metrics: {str(e)}\")"
      ],
      "metadata": {
        "colab": {
          "base_uri": "https://localhost:8080/"
        },
        "id": "KUWoolfTsX8b",
        "outputId": "6f00556f-88f4-40dd-9a19-1181890fec7e"
      },
      "execution_count": 59,
      "outputs": [
        {
          "output_type": "stream",
          "name": "stdout",
          "text": [
            "Initialized MetricsLogger with output directory: /content/finbert_sentiment_regression_model\n",
            "Created metrics logger with output directory: /content/finbert_sentiment_regression_model\n",
            "Loading datasets...\n",
            "\n",
            "Loading data from directory: /content\n",
            "\n",
            "Train Dataset Information:\n",
            "Shape: (822, 6)\n",
            "\n",
            "Score statistics:\n",
            "count    822.000000\n",
            "mean       0.142332\n",
            "std        0.397904\n",
            "min       -0.938000\n",
            "25%       -0.197500\n",
            "50%        0.252500\n",
            "75%        0.447500\n",
            "max        0.937000\n",
            "Name: score, dtype: float64\n",
            "\n",
            "Sample data:\n",
            "                                            sentence  score\n",
            "0  Royal Mail chairman Donald Brydon set to step ... -0.374\n",
            "1     Slump in Weir leads FTSE down from record high -0.827\n",
            "2  AstraZeneca wins FDA approval for key new lung...  0.549\n",
            "3  UPDATE 1-Lloyds to cut 945 jobs as part of 3-y... -0.266\n",
            "4  Standard Chartered Shifts Emerging-Markets Str... -0.461\n",
            "\n",
            "Validation Dataset Information:\n",
            "Shape: (117, 6)\n",
            "\n",
            "Score statistics:\n",
            "count    117.000000\n",
            "mean       0.072453\n",
            "std        0.374280\n",
            "min       -0.626000\n",
            "25%       -0.310000\n",
            "50%        0.214000\n",
            "75%        0.390000\n",
            "max        0.721000\n",
            "Name: score, dtype: float64\n",
            "\n",
            "Sample data:\n",
            "                                            sentence  score\n",
            "0          Passengers rise at EasyJet and Aer Lingus  0.329\n",
            "1  Tesco Abandons Video-Streaming Ambitions in Bl... -0.195\n",
            "2  Tesco Abandons Video-Streaming Ambitions in Bl... -0.335\n",
            "3  FDA approves NPS drug, in move validating Shir...  0.332\n",
            "4  Ocwen Reaches Settlement With California Regul...  0.171\n",
            "\n",
            "Test Dataset Information:\n",
            "Shape: (234, 6)\n",
            "\n",
            "Score statistics:\n",
            "count    234.000000\n",
            "mean       0.074842\n",
            "std        0.409802\n",
            "min       -0.812000\n",
            "25%       -0.350750\n",
            "50%        0.224500\n",
            "75%        0.423500\n",
            "max        0.975000\n",
            "Name: score, dtype: float64\n",
            "\n",
            "Sample data:\n",
            "                                            sentence  score\n",
            "0  Britain's FTSE steadies, supported by Dixons C...  0.329\n",
            "1  Glaxo's ViiV Healthcare Signs China Manufactur...  0.284\n",
            "2   AstraZeneca sells Caprelsa rights to Sanofi unit  0.233\n",
            "3  UPDATE 5-Barclays Chairman McFarlane axes CEO ... -0.229\n",
            "4  Miners Meltdown as BHP to Rio Tinto Sink in Co... -0.665\n",
            "\n",
            "Logging dataset statistics...\n",
            "Processing Train dataset...\n",
            "\n",
            "Logging stats for dataset: Train\n",
            "Statistics computed:\n",
            "count    822.000000\n",
            "mean       0.142332\n",
            "std        0.397904\n",
            "min       -0.938000\n",
            "25%       -0.197500\n",
            "50%        0.252500\n",
            "75%        0.447500\n",
            "max        0.937000\n",
            "Name: score, dtype: float64\n",
            "Current state of metrics:\n",
            "Datasets: ['Train']\n",
            "Counts: [822.0]\n",
            "Processing Validation dataset...\n",
            "\n",
            "Logging stats for dataset: Validation\n",
            "Statistics computed:\n",
            "count    117.000000\n",
            "mean       0.072453\n",
            "std        0.374280\n",
            "min       -0.626000\n",
            "25%       -0.310000\n",
            "50%        0.214000\n",
            "75%        0.390000\n",
            "max        0.721000\n",
            "Name: score, dtype: float64\n",
            "Current state of metrics:\n",
            "Datasets: ['Train', 'Validation']\n",
            "Counts: [822.0, 117.0]\n",
            "Processing Test dataset...\n",
            "\n",
            "Logging stats for dataset: Test\n",
            "Statistics computed:\n",
            "count    234.000000\n",
            "mean       0.074842\n",
            "std        0.409802\n",
            "min       -0.812000\n",
            "25%       -0.350750\n",
            "50%        0.224500\n",
            "75%        0.423500\n",
            "max        0.975000\n",
            "Name: score, dtype: float64\n",
            "Current state of metrics:\n",
            "Datasets: ['Train', 'Validation', 'Test']\n",
            "Counts: [822.0, 117.0, 234.0]\n",
            "\n",
            "Preparing dataloaders...\n",
            "\n",
            "Initializing model...\n"
          ]
        },
        {
          "output_type": "stream",
          "name": "stderr",
          "text": [
            "Some weights of FinBertSentimentRegression were not initialized from the model checkpoint at ProsusAI/finbert and are newly initialized: ['regressor.0.bias', 'regressor.0.weight', 'regressor.3.bias', 'regressor.3.weight']\n",
            "You should probably TRAIN this model on a down-stream task to be able to use it for predictions and inference.\n"
          ]
        },
        {
          "output_type": "stream",
          "name": "stdout",
          "text": [
            "\n",
            "Freezing 9 layers...\n",
            "Froze 9 layers plus embeddings\n",
            "\n",
            "Starting training...\n"
          ]
        },
        {
          "output_type": "stream",
          "name": "stderr",
          "text": [
            "Epoch 1/4: 100%|██████████| 26/26 [00:08<00:00,  3.12it/s]\n",
            "Evaluating: 100%|██████████| 4/4 [00:00<00:00,  4.94it/s]\n"
          ]
        },
        {
          "output_type": "stream",
          "name": "stdout",
          "text": [
            "\n",
            "Epoch 1/4\n",
            "Average training loss: 0.1152\n",
            "Validation loss: 0.0900\n"
          ]
        },
        {
          "output_type": "stream",
          "name": "stderr",
          "text": [
            "Epoch 2/4: 100%|██████████| 26/26 [00:08<00:00,  3.05it/s]\n",
            "Evaluating: 100%|██████████| 4/4 [00:00<00:00,  4.70it/s]\n"
          ]
        },
        {
          "output_type": "stream",
          "name": "stdout",
          "text": [
            "\n",
            "Epoch 2/4\n",
            "Average training loss: 0.0909\n",
            "Validation loss: 0.0842\n"
          ]
        },
        {
          "output_type": "stream",
          "name": "stderr",
          "text": [
            "Epoch 3/4: 100%|██████████| 26/26 [00:08<00:00,  2.95it/s]\n",
            "Evaluating: 100%|██████████| 4/4 [00:00<00:00,  4.74it/s]\n"
          ]
        },
        {
          "output_type": "stream",
          "name": "stdout",
          "text": [
            "\n",
            "Epoch 3/4\n",
            "Average training loss: 0.0835\n",
            "Validation loss: 0.0907\n"
          ]
        },
        {
          "output_type": "stream",
          "name": "stderr",
          "text": [
            "Epoch 4/4: 100%|██████████| 26/26 [00:08<00:00,  2.95it/s]\n",
            "Evaluating: 100%|██████████| 4/4 [00:00<00:00,  4.54it/s]\n"
          ]
        },
        {
          "output_type": "stream",
          "name": "stdout",
          "text": [
            "\n",
            "Epoch 4/4\n",
            "Average training loss: 0.0745\n",
            "Validation loss: 0.0938\n",
            "\n",
            "Evaluating on test set...\n"
          ]
        },
        {
          "output_type": "stream",
          "name": "stderr",
          "text": [
            "Evaluating: 100%|██████████| 8/8 [00:01<00:00,  4.67it/s]\n"
          ]
        },
        {
          "output_type": "stream",
          "name": "stdout",
          "text": [
            "Test loss: 0.0759\n",
            "\n",
            "Saving metrics...\n",
            "Number of datasets: 3\n",
            "Current datasets: ['Train', 'Validation', 'Test']\n",
            "Saved dataset statistics to: /content/finbert_sentiment_regression_model/dataset_statistics.csv\n",
            "Dataset statistics content:\n",
            "      dataset  count      mean       std    min    max  25th_percentile  \\\n",
            "0       Train  822.0  0.142332  0.397904 -0.938  0.937         -0.19750   \n",
            "1  Validation  117.0  0.072453  0.374280 -0.626  0.721         -0.31000   \n",
            "2        Test  234.0  0.074842  0.409802 -0.812  0.975         -0.35075   \n",
            "\n",
            "   median  75th_percentile  \n",
            "0  0.2525           0.4475  \n",
            "1  0.2140           0.3900  \n",
            "2  0.2245           0.4235  \n",
            "Saved training metrics to: /content/finbert_sentiment_regression_model/training_metrics.csv\n",
            "\n",
            "Final Training Metrics Summary:\n",
            "   epoch  avg_train_loss  val_loss  learning_rate            timestamp\n",
            "0      1        0.115172  0.090013        0.00002  2025-01-09 03:40:25\n",
            "1      2        0.090946  0.084223        0.00002  2025-01-09 03:40:46\n",
            "2      3        0.083466  0.090724        0.00002  2025-01-09 03:41:05\n",
            "3      4        0.074492  0.093835        0.00002  2025-01-09 03:41:15\n",
            "\n",
            "Dataset Statistics Summary:\n",
            "      dataset  count      mean       std    min    max  25th_percentile  \\\n",
            "0       Train  822.0  0.142332  0.397904 -0.938  0.937         -0.19750   \n",
            "1  Validation  117.0  0.072453  0.374280 -0.626  0.721         -0.31000   \n",
            "2        Test  234.0  0.074842  0.409802 -0.812  0.975         -0.35075   \n",
            "\n",
            "   median  75th_percentile  \n",
            "0  0.2525           0.4475  \n",
            "1  0.2140           0.3900  \n",
            "2  0.2245           0.4235  \n",
            "\n",
            "Metrics saved successfully.\n",
            "\n",
            "Final model saved to: /content/finbert_sentiment_regression_model/final_model.pt\n",
            "\n",
            "Verifying saved metrics...\n",
            "\n",
            "Saved dataset statistics:\n",
            "      dataset  count      mean       std    min    max  25th_percentile  \\\n",
            "0       Train  822.0  0.142332  0.397904 -0.938  0.937         -0.19750   \n",
            "1  Validation  117.0  0.072453  0.374280 -0.626  0.721         -0.31000   \n",
            "2        Test  234.0  0.074842  0.409802 -0.812  0.975         -0.35075   \n",
            "\n",
            "   median  75th_percentile  \n",
            "0  0.2525           0.4475  \n",
            "1  0.2140           0.3900  \n",
            "2  0.2245           0.4235  \n",
            "\n",
            "Saved training metrics:\n",
            "   epoch  avg_train_loss  val_loss  learning_rate            timestamp\n",
            "0      1        0.115172  0.090013        0.00002  2025-01-09 03:40:25\n",
            "1      2        0.090946  0.084223        0.00002  2025-01-09 03:40:46\n",
            "2      3        0.083466  0.090724        0.00002  2025-01-09 03:41:05\n",
            "3      4        0.074492  0.093835        0.00002  2025-01-09 03:41:15\n"
          ]
        }
      ]
    },
    {
      "cell_type": "code",
      "source": [
        "def analyze_with_finbert(df, model_path, batch_size=16):\n",
        "    \"\"\"\n",
        "    Analyze complaint data using trained FinBERT regression model\n",
        "\n",
        "    Parameters:\n",
        "    df: pandas DataFrame with columns 'Date', 'Product', 'Complaint'\n",
        "    model_path: path to the saved model checkpoint\n",
        "    batch_size: batch size for inference\n",
        "    \"\"\"\n",
        "    device = torch.device(\"cuda\" if torch.cuda.is_available() else \"cpu\")\n",
        "\n",
        "    # Load tokenizer and model\n",
        "    tokenizer = AutoTokenizer.from_pretrained(\"ProsusAI/finbert\")\n",
        "    config = BertConfig.from_pretrained(\"ProsusAI/finbert\", num_labels=1)\n",
        "    model = FinBertSentimentRegression.from_pretrained(\"ProsusAI/finbert\", config=config)\n",
        "\n",
        "    # Load trained weights\n",
        "    checkpoint = torch.load(model_path, map_location=device)\n",
        "    model.load_state_dict(checkpoint['model_state_dict'])\n",
        "    model.to(device)\n",
        "\n",
        "    # Create dataset\n",
        "    class TextDataset(Dataset):\n",
        "        def __init__(self, texts, tokenizer, max_length=128):\n",
        "            self.texts = texts\n",
        "            self.tokenizer = tokenizer\n",
        "            self.max_length = max_length\n",
        "\n",
        "        def __len__(self):\n",
        "            return len(self.texts)\n",
        "\n",
        "        def __getitem__(self, idx):\n",
        "            text = str(self.texts.iloc[idx])\n",
        "\n",
        "            encoding = self.tokenizer(\n",
        "                text,\n",
        "                add_special_tokens=True,\n",
        "                max_length=self.max_length,\n",
        "                padding='max_length',\n",
        "                truncation=True,\n",
        "                return_tensors='pt'\n",
        "            )\n",
        "\n",
        "            return {\n",
        "                'text': text,\n",
        "                'input_ids': encoding['input_ids'].flatten(),\n",
        "                'attention_mask': encoding['attention_mask'].flatten(),\n",
        "                'token_type_ids': encoding['token_type_ids'].flatten()\n",
        "            }\n",
        "\n",
        "    # Prepare data\n",
        "    dataset = TextDataset(df['Complaint'], tokenizer)\n",
        "    dataloader = DataLoader(dataset, batch_size=batch_size, shuffle=False)\n",
        "\n",
        "    # Make predictions\n",
        "    predictions = []\n",
        "    texts_processed = []\n",
        "\n",
        "    model.eval()\n",
        "    with torch.no_grad():\n",
        "        for batch in tqdm(dataloader, desc=\"Processing complaints\"):\n",
        "            try:\n",
        "                input_ids = batch['input_ids'].to(device)\n",
        "                attention_mask = batch['attention_mask'].to(device)\n",
        "                token_type_ids = batch['token_type_ids'].to(device)\n",
        "\n",
        "                _, outputs = model(\n",
        "                    input_ids=input_ids,\n",
        "                    attention_mask=attention_mask,\n",
        "                    token_type_ids=token_type_ids\n",
        "                )\n",
        "\n",
        "                batch_predictions = outputs.cpu().numpy().flatten()\n",
        "                batch_texts = batch['text']\n",
        "\n",
        "                predictions.extend(batch_predictions)\n",
        "                texts_processed.extend(batch_texts)\n",
        "\n",
        "            except Exception as e:\n",
        "                print(f\"Error processing batch: {e}\")\n",
        "                continue\n",
        "\n",
        "    # Create results DataFrame with original data\n",
        "    results_df = df.copy()\n",
        "    results_df['sentiment_score'] = predictions\n",
        "\n",
        "    # Add severity categories\n",
        "    results_df['sentiment_category'] = pd.cut(\n",
        "        results_df['sentiment_score'],\n",
        "        bins=5,\n",
        "        labels=['Very Negative', 'Negative', 'Neutral', 'Positive', 'Very Positive']\n",
        "    )\n",
        "\n",
        "    # Add summary by product\n",
        "    product_summary = results_df.groupby('Product').agg({\n",
        "        'sentiment_score': ['mean', 'std', 'count'],\n",
        "        'sentiment_category': lambda x: x.value_counts().to_dict()\n",
        "    }).round(4)\n",
        "\n",
        "    return results_df, product_summary"
      ],
      "metadata": {
        "id": "_bbq36SdKkHm"
      },
      "execution_count": 70,
      "outputs": []
    },
    {
      "cell_type": "code",
      "source": [
        "import pandas as pd\n",
        "def load_github_data(url):\n",
        "      \"\"\"\n",
        "      Load data from GitHub raw content URL\n",
        "      Example URL: https://raw.githubusercontent.com/samanthajmichael/machine_learning/main/data/complaints.csv\n",
        "      \"\"\"\n",
        "      return pd.read_csv(url)\n",
        "\n",
        "url = \"https://raw.githubusercontent.com/samanthajmichael/machine_learning/main/data/complaints.csv\"\n",
        "df = pd.read_csv(url)\n",
        "\n",
        "df = df.copy(deep=True)\n",
        "df = df.rename(columns={'Date received': 'Date', 'Consumer complaint narrative': 'Complaint'})\n",
        "df = df.loc[(df['Product']=='Bank account or service') |\n",
        "          (df['Product']=='Checking or savings account') |\n",
        "          (df['Product']=='Money transfers') |\n",
        "          (df['Product']=='Money transfer, virtual currency, or money service')]\n",
        "df = df[['Date', 'Product', 'Complaint']]\n",
        "df = df.set_index(pd.to_datetime(df['Date'], format='mixed'))\n",
        "df.drop(['Date'], axis=1, inplace=True)"
      ],
      "metadata": {
        "id": "e5kmBLj3LKCr"
      },
      "execution_count": 71,
      "outputs": []
    },
    {
      "cell_type": "code",
      "source": [
        "df.head()"
      ],
      "metadata": {
        "colab": {
          "base_uri": "https://localhost:8080/",
          "height": 238
        },
        "id": "kJqygxDmMJVL",
        "outputId": "a992ddf2-00f3-4270-cc05-da3e2e413b71"
      },
      "execution_count": 72,
      "outputs": [
        {
          "output_type": "execute_result",
          "data": {
            "text/plain": [
              "                                Product  \\\n",
              "Date                                      \n",
              "2022-08-22  Checking or savings account   \n",
              "2024-11-25  Checking or savings account   \n",
              "2023-10-31  Checking or savings account   \n",
              "2022-10-18  Checking or savings account   \n",
              "2023-11-08  Checking or savings account   \n",
              "\n",
              "                                                    Complaint  \n",
              "Date                                                           \n",
              "2022-08-22  On XX/XX/2022 I moved {$500.00} from my XXXX X...  \n",
              "2024-11-25  I had XXXX accounts opened on Wells Fargo and ...  \n",
              "2023-10-31  I was the victim of false charges to my accoun...  \n",
              "2022-10-18  I received four emails on XX/XX/XXXX about a W...  \n",
              "2023-11-08  On XX/XX/, I reached out to Wells Fargo in reg...  "
            ],
            "text/html": [
              "\n",
              "  <div id=\"df-e31ce027-b29f-421c-be5a-4cc93233c4ce\" class=\"colab-df-container\">\n",
              "    <div>\n",
              "<style scoped>\n",
              "    .dataframe tbody tr th:only-of-type {\n",
              "        vertical-align: middle;\n",
              "    }\n",
              "\n",
              "    .dataframe tbody tr th {\n",
              "        vertical-align: top;\n",
              "    }\n",
              "\n",
              "    .dataframe thead th {\n",
              "        text-align: right;\n",
              "    }\n",
              "</style>\n",
              "<table border=\"1\" class=\"dataframe\">\n",
              "  <thead>\n",
              "    <tr style=\"text-align: right;\">\n",
              "      <th></th>\n",
              "      <th>Product</th>\n",
              "      <th>Complaint</th>\n",
              "    </tr>\n",
              "    <tr>\n",
              "      <th>Date</th>\n",
              "      <th></th>\n",
              "      <th></th>\n",
              "    </tr>\n",
              "  </thead>\n",
              "  <tbody>\n",
              "    <tr>\n",
              "      <th>2022-08-22</th>\n",
              "      <td>Checking or savings account</td>\n",
              "      <td>On XX/XX/2022 I moved {$500.00} from my XXXX X...</td>\n",
              "    </tr>\n",
              "    <tr>\n",
              "      <th>2024-11-25</th>\n",
              "      <td>Checking or savings account</td>\n",
              "      <td>I had XXXX accounts opened on Wells Fargo and ...</td>\n",
              "    </tr>\n",
              "    <tr>\n",
              "      <th>2023-10-31</th>\n",
              "      <td>Checking or savings account</td>\n",
              "      <td>I was the victim of false charges to my accoun...</td>\n",
              "    </tr>\n",
              "    <tr>\n",
              "      <th>2022-10-18</th>\n",
              "      <td>Checking or savings account</td>\n",
              "      <td>I received four emails on XX/XX/XXXX about a W...</td>\n",
              "    </tr>\n",
              "    <tr>\n",
              "      <th>2023-11-08</th>\n",
              "      <td>Checking or savings account</td>\n",
              "      <td>On XX/XX/, I reached out to Wells Fargo in reg...</td>\n",
              "    </tr>\n",
              "  </tbody>\n",
              "</table>\n",
              "</div>\n",
              "    <div class=\"colab-df-buttons\">\n",
              "\n",
              "  <div class=\"colab-df-container\">\n",
              "    <button class=\"colab-df-convert\" onclick=\"convertToInteractive('df-e31ce027-b29f-421c-be5a-4cc93233c4ce')\"\n",
              "            title=\"Convert this dataframe to an interactive table.\"\n",
              "            style=\"display:none;\">\n",
              "\n",
              "  <svg xmlns=\"http://www.w3.org/2000/svg\" height=\"24px\" viewBox=\"0 -960 960 960\">\n",
              "    <path d=\"M120-120v-720h720v720H120Zm60-500h600v-160H180v160Zm220 220h160v-160H400v160Zm0 220h160v-160H400v160ZM180-400h160v-160H180v160Zm440 0h160v-160H620v160ZM180-180h160v-160H180v160Zm440 0h160v-160H620v160Z\"/>\n",
              "  </svg>\n",
              "    </button>\n",
              "\n",
              "  <style>\n",
              "    .colab-df-container {\n",
              "      display:flex;\n",
              "      gap: 12px;\n",
              "    }\n",
              "\n",
              "    .colab-df-convert {\n",
              "      background-color: #E8F0FE;\n",
              "      border: none;\n",
              "      border-radius: 50%;\n",
              "      cursor: pointer;\n",
              "      display: none;\n",
              "      fill: #1967D2;\n",
              "      height: 32px;\n",
              "      padding: 0 0 0 0;\n",
              "      width: 32px;\n",
              "    }\n",
              "\n",
              "    .colab-df-convert:hover {\n",
              "      background-color: #E2EBFA;\n",
              "      box-shadow: 0px 1px 2px rgba(60, 64, 67, 0.3), 0px 1px 3px 1px rgba(60, 64, 67, 0.15);\n",
              "      fill: #174EA6;\n",
              "    }\n",
              "\n",
              "    .colab-df-buttons div {\n",
              "      margin-bottom: 4px;\n",
              "    }\n",
              "\n",
              "    [theme=dark] .colab-df-convert {\n",
              "      background-color: #3B4455;\n",
              "      fill: #D2E3FC;\n",
              "    }\n",
              "\n",
              "    [theme=dark] .colab-df-convert:hover {\n",
              "      background-color: #434B5C;\n",
              "      box-shadow: 0px 1px 3px 1px rgba(0, 0, 0, 0.15);\n",
              "      filter: drop-shadow(0px 1px 2px rgba(0, 0, 0, 0.3));\n",
              "      fill: #FFFFFF;\n",
              "    }\n",
              "  </style>\n",
              "\n",
              "    <script>\n",
              "      const buttonEl =\n",
              "        document.querySelector('#df-e31ce027-b29f-421c-be5a-4cc93233c4ce button.colab-df-convert');\n",
              "      buttonEl.style.display =\n",
              "        google.colab.kernel.accessAllowed ? 'block' : 'none';\n",
              "\n",
              "      async function convertToInteractive(key) {\n",
              "        const element = document.querySelector('#df-e31ce027-b29f-421c-be5a-4cc93233c4ce');\n",
              "        const dataTable =\n",
              "          await google.colab.kernel.invokeFunction('convertToInteractive',\n",
              "                                                    [key], {});\n",
              "        if (!dataTable) return;\n",
              "\n",
              "        const docLinkHtml = 'Like what you see? Visit the ' +\n",
              "          '<a target=\"_blank\" href=https://colab.research.google.com/notebooks/data_table.ipynb>data table notebook</a>'\n",
              "          + ' to learn more about interactive tables.';\n",
              "        element.innerHTML = '';\n",
              "        dataTable['output_type'] = 'display_data';\n",
              "        await google.colab.output.renderOutput(dataTable, element);\n",
              "        const docLink = document.createElement('div');\n",
              "        docLink.innerHTML = docLinkHtml;\n",
              "        element.appendChild(docLink);\n",
              "      }\n",
              "    </script>\n",
              "  </div>\n",
              "\n",
              "\n",
              "<div id=\"df-822ce99e-66e8-4aa2-80b9-9f7e05f4b8fd\">\n",
              "  <button class=\"colab-df-quickchart\" onclick=\"quickchart('df-822ce99e-66e8-4aa2-80b9-9f7e05f4b8fd')\"\n",
              "            title=\"Suggest charts\"\n",
              "            style=\"display:none;\">\n",
              "\n",
              "<svg xmlns=\"http://www.w3.org/2000/svg\" height=\"24px\"viewBox=\"0 0 24 24\"\n",
              "     width=\"24px\">\n",
              "    <g>\n",
              "        <path d=\"M19 3H5c-1.1 0-2 .9-2 2v14c0 1.1.9 2 2 2h14c1.1 0 2-.9 2-2V5c0-1.1-.9-2-2-2zM9 17H7v-7h2v7zm4 0h-2V7h2v10zm4 0h-2v-4h2v4z\"/>\n",
              "    </g>\n",
              "</svg>\n",
              "  </button>\n",
              "\n",
              "<style>\n",
              "  .colab-df-quickchart {\n",
              "      --bg-color: #E8F0FE;\n",
              "      --fill-color: #1967D2;\n",
              "      --hover-bg-color: #E2EBFA;\n",
              "      --hover-fill-color: #174EA6;\n",
              "      --disabled-fill-color: #AAA;\n",
              "      --disabled-bg-color: #DDD;\n",
              "  }\n",
              "\n",
              "  [theme=dark] .colab-df-quickchart {\n",
              "      --bg-color: #3B4455;\n",
              "      --fill-color: #D2E3FC;\n",
              "      --hover-bg-color: #434B5C;\n",
              "      --hover-fill-color: #FFFFFF;\n",
              "      --disabled-bg-color: #3B4455;\n",
              "      --disabled-fill-color: #666;\n",
              "  }\n",
              "\n",
              "  .colab-df-quickchart {\n",
              "    background-color: var(--bg-color);\n",
              "    border: none;\n",
              "    border-radius: 50%;\n",
              "    cursor: pointer;\n",
              "    display: none;\n",
              "    fill: var(--fill-color);\n",
              "    height: 32px;\n",
              "    padding: 0;\n",
              "    width: 32px;\n",
              "  }\n",
              "\n",
              "  .colab-df-quickchart:hover {\n",
              "    background-color: var(--hover-bg-color);\n",
              "    box-shadow: 0 1px 2px rgba(60, 64, 67, 0.3), 0 1px 3px 1px rgba(60, 64, 67, 0.15);\n",
              "    fill: var(--button-hover-fill-color);\n",
              "  }\n",
              "\n",
              "  .colab-df-quickchart-complete:disabled,\n",
              "  .colab-df-quickchart-complete:disabled:hover {\n",
              "    background-color: var(--disabled-bg-color);\n",
              "    fill: var(--disabled-fill-color);\n",
              "    box-shadow: none;\n",
              "  }\n",
              "\n",
              "  .colab-df-spinner {\n",
              "    border: 2px solid var(--fill-color);\n",
              "    border-color: transparent;\n",
              "    border-bottom-color: var(--fill-color);\n",
              "    animation:\n",
              "      spin 1s steps(1) infinite;\n",
              "  }\n",
              "\n",
              "  @keyframes spin {\n",
              "    0% {\n",
              "      border-color: transparent;\n",
              "      border-bottom-color: var(--fill-color);\n",
              "      border-left-color: var(--fill-color);\n",
              "    }\n",
              "    20% {\n",
              "      border-color: transparent;\n",
              "      border-left-color: var(--fill-color);\n",
              "      border-top-color: var(--fill-color);\n",
              "    }\n",
              "    30% {\n",
              "      border-color: transparent;\n",
              "      border-left-color: var(--fill-color);\n",
              "      border-top-color: var(--fill-color);\n",
              "      border-right-color: var(--fill-color);\n",
              "    }\n",
              "    40% {\n",
              "      border-color: transparent;\n",
              "      border-right-color: var(--fill-color);\n",
              "      border-top-color: var(--fill-color);\n",
              "    }\n",
              "    60% {\n",
              "      border-color: transparent;\n",
              "      border-right-color: var(--fill-color);\n",
              "    }\n",
              "    80% {\n",
              "      border-color: transparent;\n",
              "      border-right-color: var(--fill-color);\n",
              "      border-bottom-color: var(--fill-color);\n",
              "    }\n",
              "    90% {\n",
              "      border-color: transparent;\n",
              "      border-bottom-color: var(--fill-color);\n",
              "    }\n",
              "  }\n",
              "</style>\n",
              "\n",
              "  <script>\n",
              "    async function quickchart(key) {\n",
              "      const quickchartButtonEl =\n",
              "        document.querySelector('#' + key + ' button');\n",
              "      quickchartButtonEl.disabled = true;  // To prevent multiple clicks.\n",
              "      quickchartButtonEl.classList.add('colab-df-spinner');\n",
              "      try {\n",
              "        const charts = await google.colab.kernel.invokeFunction(\n",
              "            'suggestCharts', [key], {});\n",
              "      } catch (error) {\n",
              "        console.error('Error during call to suggestCharts:', error);\n",
              "      }\n",
              "      quickchartButtonEl.classList.remove('colab-df-spinner');\n",
              "      quickchartButtonEl.classList.add('colab-df-quickchart-complete');\n",
              "    }\n",
              "    (() => {\n",
              "      let quickchartButtonEl =\n",
              "        document.querySelector('#df-822ce99e-66e8-4aa2-80b9-9f7e05f4b8fd button');\n",
              "      quickchartButtonEl.style.display =\n",
              "        google.colab.kernel.accessAllowed ? 'block' : 'none';\n",
              "    })();\n",
              "  </script>\n",
              "</div>\n",
              "\n",
              "    </div>\n",
              "  </div>\n"
            ],
            "application/vnd.google.colaboratory.intrinsic+json": {
              "type": "dataframe",
              "variable_name": "df",
              "summary": "{\n  \"name\": \"df\",\n  \"rows\": 20163,\n  \"fields\": [\n    {\n      \"column\": \"Date\",\n      \"properties\": {\n        \"dtype\": \"date\",\n        \"min\": \"2015-03-19 00:00:00\",\n        \"max\": \"2024-12-24 00:00:00\",\n        \"num_unique_values\": 3310,\n        \"samples\": [\n          \"2023-02-23 00:00:00\",\n          \"2021-10-24 00:00:00\",\n          \"2015-06-18 00:00:00\"\n        ],\n        \"semantic_type\": \"\",\n        \"description\": \"\"\n      }\n    },\n    {\n      \"column\": \"Product\",\n      \"properties\": {\n        \"dtype\": \"category\",\n        \"num_unique_values\": 4,\n        \"samples\": [\n          \"Money transfer, virtual currency, or money service\",\n          \"Money transfers\",\n          \"Checking or savings account\"\n        ],\n        \"semantic_type\": \"\",\n        \"description\": \"\"\n      }\n    },\n    {\n      \"column\": \"Complaint\",\n      \"properties\": {\n        \"dtype\": \"string\",\n        \"num_unique_values\": 20139,\n        \"samples\": [\n          \"In my original Complaint, Number XXXX, against Wells Fargo , I confirmed my identity to the first call-taker and was told that the restriction on the {$5000.00}. deposit was removed. The next day, XX/XX/2023, I again contacted Wells Fargo and this call-taker informed me that the restriction was not removed, and that she was now removing it. \\nWhile I was online with this call-taker, I checked my account and saw that the deposit was not honored, and I informed the call-taker. \\nShe then proceeded to tell me that the {$5000.00}. deposit was cancelled. \\nIn a Wells Fargo 's subsequent letter to me, it was stated that they were not able to confirm that I authorized the activity, and restricted my access to online banking, ( of my checking account ). \\nTruth be told, I informed Wells Fargo that I authorized the deposit activity. \\nI did so more than once. My acknowledgements were totally ignored. \\n\\nI had requested that the deposit be reinstated, which was also ignored.\",\n          \"I had a special XXXX account with Wells Fargo that required {$25000.00} in the account. I was charged a fee for this account for many months no matter if the account had over XXXX in it or not. The bank manager almost fell over the teller trying to sell me this and when I addressed it I was not compensated for this deception fully. \\n\\nI also noticed a extra savings/checking accounts that were added that I wanted to make sure I was n't charged for those as well. I noticed when I was closing most of my accounts with Wells Fargo. \\n\\nThank you kindly\",\n          \"Closed checking account on XX/XX/2023 and received cashier check in branch issued by wells Fargo banker, then deposited cashier check with XXXX XXXX  in ATM, few hours later received an email from XXXX  XXXX states security alert, then called bank, got transferred to security team been told they can not verify my cashier check thru wells fargo, meanwhile my XXXX XXXX account get freeze due to abnormal activity, means I can not withraw ANY fund from my XXXX XXXX checking. then called wells fargo customer service few times talked to supervisor to verify the situation been told nothing they can to. \\n\\nDate XX/XX/XXXX Amount {$4800.00}\"\n        ],\n        \"semantic_type\": \"\",\n        \"description\": \"\"\n      }\n    }\n  ]\n}"
            }
          },
          "metadata": {},
          "execution_count": 72
        }
      ]
    },
    {
      "cell_type": "code",
      "source": [
        "# Example usage:\n",
        "if __name__ == \"__main__\":\n",
        "\n",
        "    # Set date as index if it isn't already\n",
        "    if 'Date' in df.columns:\n",
        "        df.set_index(pd.to_datetime(df['Date']), inplace=True)\n",
        "\n",
        "    # Path to your trained model\n",
        "    model_path = \"/content/finbert_sentiment_regression_model/best_model.pt\"\n",
        "\n",
        "    # Analyze the data\n",
        "    results, product_summary = analyze_with_finbert(df, model_path)\n",
        "\n",
        "    # Save results\n",
        "    results.to_csv(\"sentiment_analysis_results.csv\")\n",
        "    product_summary.to_csv(\"sentiment_analysis_by_product.csv\")\n",
        "\n",
        "    # Print summary\n",
        "    print(\"\\nOverall Sentiment Analysis Summary:\")\n",
        "    print(\"\\nScore Distribution:\")\n",
        "    print(results['sentiment_score'].describe().round(4))\n",
        "\n",
        "    print(\"\\nCategory Distribution:\")\n",
        "    print(results['sentiment_category'].value_counts())\n",
        "\n",
        "    print(\"\\nSentiment Analysis by Product:\")\n",
        "    print(product_summary)\n",
        "\n",
        "    # Plot distributions if desired\n",
        "    try:\n",
        "        import matplotlib.pyplot as plt\n",
        "        import seaborn as sns\n",
        "\n",
        "        plt.figure(figsize=(10, 6))\n",
        "        sns.boxplot(x='Product', y='sentiment_score', data=results)\n",
        "        plt.xticks(rotation=45)\n",
        "        plt.title('Sentiment Scores by Product')\n",
        "        plt.tight_layout()\n",
        "        plt.savefig('sentiment_by_product.png')\n",
        "\n",
        "        plt.figure(figsize=(10, 6))\n",
        "        results.groupby('Product')['sentiment_category'].value_counts().unstack().plot(kind='bar', stacked=True)\n",
        "        plt.title('Sentiment Categories by Product')\n",
        "        plt.tight_layout()\n",
        "        plt.savefig('sentiment_categories_by_product.png')\n",
        "    except Exception as e:\n",
        "        print(f\"Error creating plots: {e}\")"
      ],
      "metadata": {
        "colab": {
          "base_uri": "https://localhost:8080/",
          "height": 1000
        },
        "id": "jv4oONtdKmmw",
        "outputId": "5564a371-698e-4ab3-ad02-8481db04248c"
      },
      "execution_count": 73,
      "outputs": [
        {
          "output_type": "stream",
          "name": "stderr",
          "text": [
            "Some weights of FinBertSentimentRegression were not initialized from the model checkpoint at ProsusAI/finbert and are newly initialized: ['regressor.0.bias', 'regressor.0.weight', 'regressor.3.bias', 'regressor.3.weight']\n",
            "You should probably TRAIN this model on a down-stream task to be able to use it for predictions and inference.\n",
            "<ipython-input-70-28f112db946e>:18: FutureWarning: You are using `torch.load` with `weights_only=False` (the current default value), which uses the default pickle module implicitly. It is possible to construct malicious pickle data which will execute arbitrary code during unpickling (See https://github.com/pytorch/pytorch/blob/main/SECURITY.md#untrusted-models for more details). In a future release, the default value for `weights_only` will be flipped to `True`. This limits the functions that could be executed during unpickling. Arbitrary objects will no longer be allowed to be loaded via this mode unless they are explicitly allowlisted by the user via `torch.serialization.add_safe_globals`. We recommend you start setting `weights_only=True` for any use case where you don't have full control of the loaded file. Please open an issue on GitHub for any issues related to this experimental feature.\n",
            "  checkpoint = torch.load(model_path, map_location=device)\n",
            "Processing complaints: 100%|██████████| 1261/1261 [02:48<00:00,  7.48it/s]\n"
          ]
        },
        {
          "output_type": "stream",
          "name": "stdout",
          "text": [
            "\n",
            "Overall Sentiment Analysis Summary:\n",
            "\n",
            "Score Distribution:\n",
            "count    20163.0000\n",
            "mean        -0.1593\n",
            "std          0.1307\n",
            "min         -0.3947\n",
            "25%         -0.2586\n",
            "50%         -0.1937\n",
            "75%         -0.0836\n",
            "max          0.4603\n",
            "Name: sentiment_score, dtype: float64\n",
            "\n",
            "Category Distribution:\n",
            "sentiment_category\n",
            "Negative         8185\n",
            "Very Negative    7913\n",
            "Neutral          3198\n",
            "Positive          841\n",
            "Very Positive      26\n",
            "Name: count, dtype: int64\n",
            "\n",
            "Sentiment Analysis by Product:\n",
            "                                                   sentiment_score          \\\n",
            "                                                              mean     std   \n",
            "Product                                                                      \n",
            "Bank account or service                                    -0.1562  0.1305   \n",
            "Checking or savings account                                -0.1687  0.1289   \n",
            "Money transfer, virtual currency, or money service         -0.1119  0.1300   \n",
            "Money transfers                                            -0.0927  0.1240   \n",
            "\n",
            "                                                           \\\n",
            "                                                    count   \n",
            "Product                                                     \n",
            "Bank account or service                              1927   \n",
            "Checking or savings account                         15328   \n",
            "Money transfer, virtual currency, or money service   2842   \n",
            "Money transfers                                        66   \n",
            "\n",
            "                                                                                   sentiment_category  \n",
            "                                                                                             <lambda>  \n",
            "Product                                                                                                \n",
            "Bank account or service                             {'Negative': 768, 'Very Negative': 742, 'Neutr...  \n",
            "Checking or savings account                         {'Very Negative': 6539, 'Negative': 6025, 'Neu...  \n",
            "Money transfer, virtual currency, or money service  {'Negative': 1361, 'Neutral': 682, 'Very Negat...  \n",
            "Money transfers                                     {'Negative': 31, 'Neutral': 23, 'Very Negative...  \n"
          ]
        },
        {
          "output_type": "display_data",
          "data": {
            "text/plain": [
              "<Figure size 1000x600 with 1 Axes>"
            ],
            "image/png": "[encoded data removed]"
          },
          "metadata": {}
        },
        {
          "output_type": "display_data",
          "data": {
            "text/plain": [
              "<Figure size 1000x600 with 0 Axes>"
            ]
          },
          "metadata": {}
        },
        {
          "output_type": "display_data",
          "data": {
            "text/plain": [
              "<Figure size 640x480 with 1 Axes>"
            ],
            "image/png": "[encoded data removed]"
          },
          "metadata": {}
        }
      ]
    },
    {
      "cell_type": "code",
      "source": [
        "results = pd.read_csv('sentiment_analysis_results.csv')"
      ],
      "metadata": {
        "id": "VLFVzRSCQBkp"
      },
      "execution_count": 113,
      "outputs": []
    },
    {
      "cell_type": "code",
      "source": [
        "results.head()"
      ],
      "metadata": {
        "colab": {
          "base_uri": "https://localhost:8080/",
          "height": 206
        },
        "id": "AeIX4LUuQL2r",
        "outputId": "e6ee937a-f7e3-4350-c7cb-0a920acf96a6"
      },
      "execution_count": 114,
      "outputs": [
        {
          "output_type": "execute_result",
          "data": {
            "text/plain": [
              "         Date                      Product  \\\n",
              "0  2022-08-22  Checking or savings account   \n",
              "1  2024-11-25  Checking or savings account   \n",
              "2  2023-10-31  Checking or savings account   \n",
              "3  2022-10-18  Checking or savings account   \n",
              "4  2023-11-08  Checking or savings account   \n",
              "\n",
              "                                           Complaint  sentiment_score  \\\n",
              "0  On XX/XX/2022 I moved {$500.00} from my XXXX X...        -0.057993   \n",
              "1  I had XXXX accounts opened on Wells Fargo and ...        -0.328350   \n",
              "2  I was the victim of false charges to my accoun...        -0.279382   \n",
              "3  I received four emails on XX/XX/XXXX about a W...        -0.134244   \n",
              "4  On XX/XX/, I reached out to Wells Fargo in reg...         0.050753   \n",
              "\n",
              "  sentiment_category  \n",
              "0           Negative  \n",
              "1      Very Negative  \n",
              "2      Very Negative  \n",
              "3           Negative  \n",
              "4            Neutral  "
            ],
            "text/html": [
              "\n",
              "  <div id=\"df-4f25c0b4-09c7-4599-8000-fd99ea5d1cae\" class=\"colab-df-container\">\n",
              "    <div>\n",
              "<style scoped>\n",
              "    .dataframe tbody tr th:only-of-type {\n",
              "        vertical-align: middle;\n",
              "    }\n",
              "\n",
              "    .dataframe tbody tr th {\n",
              "        vertical-align: top;\n",
              "    }\n",
              "\n",
              "    .dataframe thead th {\n",
              "        text-align: right;\n",
              "    }\n",
              "</style>\n",
              "<table border=\"1\" class=\"dataframe\">\n",
              "  <thead>\n",
              "    <tr style=\"text-align: right;\">\n",
              "      <th></th>\n",
              "      <th>Date</th>\n",
              "      <th>Product</th>\n",
              "      <th>Complaint</th>\n",
              "      <th>sentiment_score</th>\n",
              "      <th>sentiment_category</th>\n",
              "    </tr>\n",
              "  </thead>\n",
              "  <tbody>\n",
              "    <tr>\n",
              "      <th>0</th>\n",
              "      <td>2022-08-22</td>\n",
              "      <td>Checking or savings account</td>\n",
              "      <td>On XX/XX/2022 I moved {$500.00} from my XXXX X...</td>\n",
              "      <td>-0.057993</td>\n",
              "      <td>Negative</td>\n",
              "    </tr>\n",
              "    <tr>\n",
              "      <th>1</th>\n",
              "      <td>2024-11-25</td>\n",
              "      <td>Checking or savings account</td>\n",
              "      <td>I had XXXX accounts opened on Wells Fargo and ...</td>\n",
              "      <td>-0.328350</td>\n",
              "      <td>Very Negative</td>\n",
              "    </tr>\n",
              "    <tr>\n",
              "      <th>2</th>\n",
              "      <td>2023-10-31</td>\n",
              "      <td>Checking or savings account</td>\n",
              "      <td>I was the victim of false charges to my accoun...</td>\n",
              "      <td>-0.279382</td>\n",
              "      <td>Very Negative</td>\n",
              "    </tr>\n",
              "    <tr>\n",
              "      <th>3</th>\n",
              "      <td>2022-10-18</td>\n",
              "      <td>Checking or savings account</td>\n",
              "      <td>I received four emails on XX/XX/XXXX about a W...</td>\n",
              "      <td>-0.134244</td>\n",
              "      <td>Negative</td>\n",
              "    </tr>\n",
              "    <tr>\n",
              "      <th>4</th>\n",
              "      <td>2023-11-08</td>\n",
              "      <td>Checking or savings account</td>\n",
              "      <td>On XX/XX/, I reached out to Wells Fargo in reg...</td>\n",
              "      <td>0.050753</td>\n",
              "      <td>Neutral</td>\n",
              "    </tr>\n",
              "  </tbody>\n",
              "</table>\n",
              "</div>\n",
              "    <div class=\"colab-df-buttons\">\n",
              "\n",
              "  <div class=\"colab-df-container\">\n",
              "    <button class=\"colab-df-convert\" onclick=\"convertToInteractive('df-4f25c0b4-09c7-4599-8000-fd99ea5d1cae')\"\n",
              "            title=\"Convert this dataframe to an interactive table.\"\n",
              "            style=\"display:none;\">\n",
              "\n",
              "  <svg xmlns=\"http://www.w3.org/2000/svg\" height=\"24px\" viewBox=\"0 -960 960 960\">\n",
              "    <path d=\"M120-120v-720h720v720H120Zm60-500h600v-160H180v160Zm220 220h160v-160H400v160Zm0 220h160v-160H400v160ZM180-400h160v-160H180v160Zm440 0h160v-160H620v160ZM180-180h160v-160H180v160Zm440 0h160v-160H620v160Z\"/>\n",
              "  </svg>\n",
              "    </button>\n",
              "\n",
              "  <style>\n",
              "    .colab-df-container {\n",
              "      display:flex;\n",
              "      gap: 12px;\n",
              "    }\n",
              "\n",
              "    .colab-df-convert {\n",
              "      background-color: #E8F0FE;\n",
              "      border: none;\n",
              "      border-radius: 50%;\n",
              "      cursor: pointer;\n",
              "      display: none;\n",
              "      fill: #1967D2;\n",
              "      height: 32px;\n",
              "      padding: 0 0 0 0;\n",
              "      width: 32px;\n",
              "    }\n",
              "\n",
              "    .colab-df-convert:hover {\n",
              "      background-color: #E2EBFA;\n",
              "      box-shadow: 0px 1px 2px rgba(60, 64, 67, 0.3), 0px 1px 3px 1px rgba(60, 64, 67, 0.15);\n",
              "      fill: #174EA6;\n",
              "    }\n",
              "\n",
              "    .colab-df-buttons div {\n",
              "      margin-bottom: 4px;\n",
              "    }\n",
              "\n",
              "    [theme=dark] .colab-df-convert {\n",
              "      background-color: #3B4455;\n",
              "      fill: #D2E3FC;\n",
              "    }\n",
              "\n",
              "    [theme=dark] .colab-df-convert:hover {\n",
              "      background-color: #434B5C;\n",
              "      box-shadow: 0px 1px 3px 1px rgba(0, 0, 0, 0.15);\n",
              "      filter: drop-shadow(0px 1px 2px rgba(0, 0, 0, 0.3));\n",
              "      fill: #FFFFFF;\n",
              "    }\n",
              "  </style>\n",
              "\n",
              "    <script>\n",
              "      const buttonEl =\n",
              "        document.querySelector('#df-4f25c0b4-09c7-4599-8000-fd99ea5d1cae button.colab-df-convert');\n",
              "      buttonEl.style.display =\n",
              "        google.colab.kernel.accessAllowed ? 'block' : 'none';\n",
              "\n",
              "      async function convertToInteractive(key) {\n",
              "        const element = document.querySelector('#df-4f25c0b4-09c7-4599-8000-fd99ea5d1cae');\n",
              "        const dataTable =\n",
              "          await google.colab.kernel.invokeFunction('convertToInteractive',\n",
              "                                                    [key], {});\n",
              "        if (!dataTable) return;\n",
              "\n",
              "        const docLinkHtml = 'Like what you see? Visit the ' +\n",
              "          '<a target=\"_blank\" href=https://colab.research.google.com/notebooks/data_table.ipynb>data table notebook</a>'\n",
              "          + ' to learn more about interactive tables.';\n",
              "        element.innerHTML = '';\n",
              "        dataTable['output_type'] = 'display_data';\n",
              "        await google.colab.output.renderOutput(dataTable, element);\n",
              "        const docLink = document.createElement('div');\n",
              "        docLink.innerHTML = docLinkHtml;\n",
              "        element.appendChild(docLink);\n",
              "      }\n",
              "    </script>\n",
              "  </div>\n",
              "\n",
              "\n",
              "<div id=\"df-7a4f63a6-535c-46ee-8e80-46eda42084fa\">\n",
              "  <button class=\"colab-df-quickchart\" onclick=\"quickchart('df-7a4f63a6-535c-46ee-8e80-46eda42084fa')\"\n",
              "            title=\"Suggest charts\"\n",
              "            style=\"display:none;\">\n",
              "\n",
              "<svg xmlns=\"http://www.w3.org/2000/svg\" height=\"24px\"viewBox=\"0 0 24 24\"\n",
              "     width=\"24px\">\n",
              "    <g>\n",
              "        <path d=\"M19 3H5c-1.1 0-2 .9-2 2v14c0 1.1.9 2 2 2h14c1.1 0 2-.9 2-2V5c0-1.1-.9-2-2-2zM9 17H7v-7h2v7zm4 0h-2V7h2v10zm4 0h-2v-4h2v4z\"/>\n",
              "    </g>\n",
              "</svg>\n",
              "  </button>\n",
              "\n",
              "<style>\n",
              "  .colab-df-quickchart {\n",
              "      --bg-color: #E8F0FE;\n",
              "      --fill-color: #1967D2;\n",
              "      --hover-bg-color: #E2EBFA;\n",
              "      --hover-fill-color: #174EA6;\n",
              "      --disabled-fill-color: #AAA;\n",
              "      --disabled-bg-color: #DDD;\n",
              "  }\n",
              "\n",
              "  [theme=dark] .colab-df-quickchart {\n",
              "      --bg-color: #3B4455;\n",
              "      --fill-color: #D2E3FC;\n",
              "      --hover-bg-color: #434B5C;\n",
              "      --hover-fill-color: #FFFFFF;\n",
              "      --disabled-bg-color: #3B4455;\n",
              "      --disabled-fill-color: #666;\n",
              "  }\n",
              "\n",
              "  .colab-df-quickchart {\n",
              "    background-color: var(--bg-color);\n",
              "    border: none;\n",
              "    border-radius: 50%;\n",
              "    cursor: pointer;\n",
              "    display: none;\n",
              "    fill: var(--fill-color);\n",
              "    height: 32px;\n",
              "    padding: 0;\n",
              "    width: 32px;\n",
              "  }\n",
              "\n",
              "  .colab-df-quickchart:hover {\n",
              "    background-color: var(--hover-bg-color);\n",
              "    box-shadow: 0 1px 2px rgba(60, 64, 67, 0.3), 0 1px 3px 1px rgba(60, 64, 67, 0.15);\n",
              "    fill: var(--button-hover-fill-color);\n",
              "  }\n",
              "\n",
              "  .colab-df-quickchart-complete:disabled,\n",
              "  .colab-df-quickchart-complete:disabled:hover {\n",
              "    background-color: var(--disabled-bg-color);\n",
              "    fill: var(--disabled-fill-color);\n",
              "    box-shadow: none;\n",
              "  }\n",
              "\n",
              "  .colab-df-spinner {\n",
              "    border: 2px solid var(--fill-color);\n",
              "    border-color: transparent;\n",
              "    border-bottom-color: var(--fill-color);\n",
              "    animation:\n",
              "      spin 1s steps(1) infinite;\n",
              "  }\n",
              "\n",
              "  @keyframes spin {\n",
              "    0% {\n",
              "      border-color: transparent;\n",
              "      border-bottom-color: var(--fill-color);\n",
              "      border-left-color: var(--fill-color);\n",
              "    }\n",
              "    20% {\n",
              "      border-color: transparent;\n",
              "      border-left-color: var(--fill-color);\n",
              "      border-top-color: var(--fill-color);\n",
              "    }\n",
              "    30% {\n",
              "      border-color: transparent;\n",
              "      border-left-color: var(--fill-color);\n",
              "      border-top-color: var(--fill-color);\n",
              "      border-right-color: var(--fill-color);\n",
              "    }\n",
              "    40% {\n",
              "      border-color: transparent;\n",
              "      border-right-color: var(--fill-color);\n",
              "      border-top-color: var(--fill-color);\n",
              "    }\n",
              "    60% {\n",
              "      border-color: transparent;\n",
              "      border-right-color: var(--fill-color);\n",
              "    }\n",
              "    80% {\n",
              "      border-color: transparent;\n",
              "      border-right-color: var(--fill-color);\n",
              "      border-bottom-color: var(--fill-color);\n",
              "    }\n",
              "    90% {\n",
              "      border-color: transparent;\n",
              "      border-bottom-color: var(--fill-color);\n",
              "    }\n",
              "  }\n",
              "</style>\n",
              "\n",
              "  <script>\n",
              "    async function quickchart(key) {\n",
              "      const quickchartButtonEl =\n",
              "        document.querySelector('#' + key + ' button');\n",
              "      quickchartButtonEl.disabled = true;  // To prevent multiple clicks.\n",
              "      quickchartButtonEl.classList.add('colab-df-spinner');\n",
              "      try {\n",
              "        const charts = await google.colab.kernel.invokeFunction(\n",
              "            'suggestCharts', [key], {});\n",
              "      } catch (error) {\n",
              "        console.error('Error during call to suggestCharts:', error);\n",
              "      }\n",
              "      quickchartButtonEl.classList.remove('colab-df-spinner');\n",
              "      quickchartButtonEl.classList.add('colab-df-quickchart-complete');\n",
              "    }\n",
              "    (() => {\n",
              "      let quickchartButtonEl =\n",
              "        document.querySelector('#df-7a4f63a6-535c-46ee-8e80-46eda42084fa button');\n",
              "      quickchartButtonEl.style.display =\n",
              "        google.colab.kernel.accessAllowed ? 'block' : 'none';\n",
              "    })();\n",
              "  </script>\n",
              "</div>\n",
              "\n",
              "    </div>\n",
              "  </div>\n"
            ],
            "application/vnd.google.colaboratory.intrinsic+json": {
              "type": "dataframe",
              "variable_name": "results",
              "summary": "{\n  \"name\": \"results\",\n  \"rows\": 20163,\n  \"fields\": [\n    {\n      \"column\": \"Date\",\n      \"properties\": {\n        \"dtype\": \"object\",\n        \"num_unique_values\": 3310,\n        \"samples\": [\n          \"2023-02-23\",\n          \"2021-10-24\",\n          \"2015-06-18\"\n        ],\n        \"semantic_type\": \"\",\n        \"description\": \"\"\n      }\n    },\n    {\n      \"column\": \"Product\",\n      \"properties\": {\n        \"dtype\": \"category\",\n        \"num_unique_values\": 4,\n        \"samples\": [\n          \"Money transfer, virtual currency, or money service\",\n          \"Money transfers\",\n          \"Checking or savings account\"\n        ],\n        \"semantic_type\": \"\",\n        \"description\": \"\"\n      }\n    },\n    {\n      \"column\": \"Complaint\",\n      \"properties\": {\n        \"dtype\": \"string\",\n        \"num_unique_values\": 20139,\n        \"samples\": [\n          \"In my original Complaint, Number XXXX, against Wells Fargo , I confirmed my identity to the first call-taker and was told that the restriction on the {$5000.00}. deposit was removed. The next day, XX/XX/2023, I again contacted Wells Fargo and this call-taker informed me that the restriction was not removed, and that she was now removing it. \\nWhile I was online with this call-taker, I checked my account and saw that the deposit was not honored, and I informed the call-taker. \\nShe then proceeded to tell me that the {$5000.00}. deposit was cancelled. \\nIn a Wells Fargo 's subsequent letter to me, it was stated that they were not able to confirm that I authorized the activity, and restricted my access to online banking, ( of my checking account ). \\nTruth be told, I informed Wells Fargo that I authorized the deposit activity. \\nI did so more than once. My acknowledgements were totally ignored. \\n\\nI had requested that the deposit be reinstated, which was also ignored.\",\n          \"I had a special XXXX account with Wells Fargo that required {$25000.00} in the account. I was charged a fee for this account for many months no matter if the account had over XXXX in it or not. The bank manager almost fell over the teller trying to sell me this and when I addressed it I was not compensated for this deception fully. \\n\\nI also noticed a extra savings/checking accounts that were added that I wanted to make sure I was n't charged for those as well. I noticed when I was closing most of my accounts with Wells Fargo. \\n\\nThank you kindly\",\n          \"Closed checking account on XX/XX/2023 and received cashier check in branch issued by wells Fargo banker, then deposited cashier check with XXXX XXXX  in ATM, few hours later received an email from XXXX  XXXX states security alert, then called bank, got transferred to security team been told they can not verify my cashier check thru wells fargo, meanwhile my XXXX XXXX account get freeze due to abnormal activity, means I can not withraw ANY fund from my XXXX XXXX checking. then called wells fargo customer service few times talked to supervisor to verify the situation been told nothing they can to. \\n\\nDate XX/XX/XXXX Amount {$4800.00}\"\n        ],\n        \"semantic_type\": \"\",\n        \"description\": \"\"\n      }\n    },\n    {\n      \"column\": \"sentiment_score\",\n      \"properties\": {\n        \"dtype\": \"number\",\n        \"std\": 0.1307361795588129,\n        \"min\": -0.39469358,\n        \"max\": 0.4602817,\n        \"num_unique_values\": 20090,\n        \"samples\": [\n          -0.08291351,\n          -0.23269312,\n          -0.11738487\n        ],\n        \"semantic_type\": \"\",\n        \"description\": \"\"\n      }\n    },\n    {\n      \"column\": \"sentiment_category\",\n      \"properties\": {\n        \"dtype\": \"category\",\n        \"num_unique_values\": 5,\n        \"samples\": [\n          \"Very Negative\",\n          \"Very Positive\",\n          \"Neutral\"\n        ],\n        \"semantic_type\": \"\",\n        \"description\": \"\"\n      }\n    }\n  ]\n}"
            }
          },
          "metadata": {},
          "execution_count": 114
        }
      ]
    },
    {
      "cell_type": "code",
      "source": [
        "results = results.set_index(pd.to_datetime(results['Date']))"
      ],
      "metadata": {
        "id": "ql2mrLw0QPm-"
      },
      "execution_count": 115,
      "outputs": []
    },
    {
      "cell_type": "code",
      "source": [
        "results = results.sort_index(ascending=True)"
      ],
      "metadata": {
        "id": "oOAmsQ7SQjou"
      },
      "execution_count": 116,
      "outputs": []
    },
    {
      "cell_type": "code",
      "source": [
        "results.head()"
      ],
      "metadata": {
        "colab": {
          "base_uri": "https://localhost:8080/",
          "height": 238
        },
        "id": "lUMP8YflQofM",
        "outputId": "e983b5cf-40cc-4b16-905c-0918913ca8fa"
      },
      "execution_count": 117,
      "outputs": [
        {
          "output_type": "execute_result",
          "data": {
            "text/plain": [
              "                  Date                  Product  \\\n",
              "Date                                              \n",
              "2015-03-19  2015-03-19  Bank account or service   \n",
              "2015-03-20  2015-03-20  Bank account or service   \n",
              "2015-03-20  2015-03-20  Bank account or service   \n",
              "2015-03-21  2015-03-21  Bank account or service   \n",
              "2015-03-22  2015-03-22  Bank account or service   \n",
              "\n",
              "                                                    Complaint  \\\n",
              "Date                                                            \n",
              "2015-03-19  On XXXX XXXX around XXXX XXXX I called Wells F...   \n",
              "2015-03-20  On XXXX XXXX, 2014, I went into a Wells Fargo ...   \n",
              "2015-03-20  My mother XXXX XXXX was a XXXX and has been a ...   \n",
              "2015-03-21  Wells Fargo has recently began charging fees t...   \n",
              "2015-03-22  Wells Fargo failed to stop debits from XXXX af...   \n",
              "\n",
              "            sentiment_score sentiment_category  \n",
              "Date                                            \n",
              "2015-03-19         0.049050            Neutral  \n",
              "2015-03-20         0.110627            Neutral  \n",
              "2015-03-20        -0.201956           Negative  \n",
              "2015-03-21        -0.239625      Very Negative  \n",
              "2015-03-22        -0.251414      Very Negative  "
            ],
            "text/html": [
              "\n",
              "  <div id=\"df-255aeafb-3344-4ffb-a766-77727f9aeec7\" class=\"colab-df-container\">\n",
              "    <div>\n",
              "<style scoped>\n",
              "    .dataframe tbody tr th:only-of-type {\n",
              "        vertical-align: middle;\n",
              "    }\n",
              "\n",
              "    .dataframe tbody tr th {\n",
              "        vertical-align: top;\n",
              "    }\n",
              "\n",
              "    .dataframe thead th {\n",
              "        text-align: right;\n",
              "    }\n",
              "</style>\n",
              "<table border=\"1\" class=\"dataframe\">\n",
              "  <thead>\n",
              "    <tr style=\"text-align: right;\">\n",
              "      <th></th>\n",
              "      <th>Date</th>\n",
              "      <th>Product</th>\n",
              "      <th>Complaint</th>\n",
              "      <th>sentiment_score</th>\n",
              "      <th>sentiment_category</th>\n",
              "    </tr>\n",
              "    <tr>\n",
              "      <th>Date</th>\n",
              "      <th></th>\n",
              "      <th></th>\n",
              "      <th></th>\n",
              "      <th></th>\n",
              "      <th></th>\n",
              "    </tr>\n",
              "  </thead>\n",
              "  <tbody>\n",
              "    <tr>\n",
              "      <th>2015-03-19</th>\n",
              "      <td>2015-03-19</td>\n",
              "      <td>Bank account or service</td>\n",
              "      <td>On XXXX XXXX around XXXX XXXX I called Wells F...</td>\n",
              "      <td>0.049050</td>\n",
              "      <td>Neutral</td>\n",
              "    </tr>\n",
              "    <tr>\n",
              "      <th>2015-03-20</th>\n",
              "      <td>2015-03-20</td>\n",
              "      <td>Bank account or service</td>\n",
              "      <td>On XXXX XXXX, 2014, I went into a Wells Fargo ...</td>\n",
              "      <td>0.110627</td>\n",
              "      <td>Neutral</td>\n",
              "    </tr>\n",
              "    <tr>\n",
              "      <th>2015-03-20</th>\n",
              "      <td>2015-03-20</td>\n",
              "      <td>Bank account or service</td>\n",
              "      <td>My mother XXXX XXXX was a XXXX and has been a ...</td>\n",
              "      <td>-0.201956</td>\n",
              "      <td>Negative</td>\n",
              "    </tr>\n",
              "    <tr>\n",
              "      <th>2015-03-21</th>\n",
              "      <td>2015-03-21</td>\n",
              "      <td>Bank account or service</td>\n",
              "      <td>Wells Fargo has recently began charging fees t...</td>\n",
              "      <td>-0.239625</td>\n",
              "      <td>Very Negative</td>\n",
              "    </tr>\n",
              "    <tr>\n",
              "      <th>2015-03-22</th>\n",
              "      <td>2015-03-22</td>\n",
              "      <td>Bank account or service</td>\n",
              "      <td>Wells Fargo failed to stop debits from XXXX af...</td>\n",
              "      <td>-0.251414</td>\n",
              "      <td>Very Negative</td>\n",
              "    </tr>\n",
              "  </tbody>\n",
              "</table>\n",
              "</div>\n",
              "    <div class=\"colab-df-buttons\">\n",
              "\n",
              "  <div class=\"colab-df-container\">\n",
              "    <button class=\"colab-df-convert\" onclick=\"convertToInteractive('df-255aeafb-3344-4ffb-a766-77727f9aeec7')\"\n",
              "            title=\"Convert this dataframe to an interactive table.\"\n",
              "            style=\"display:none;\">\n",
              "\n",
              "  <svg xmlns=\"http://www.w3.org/2000/svg\" height=\"24px\" viewBox=\"0 -960 960 960\">\n",
              "    <path d=\"M120-120v-720h720v720H120Zm60-500h600v-160H180v160Zm220 220h160v-160H400v160Zm0 220h160v-160H400v160ZM180-400h160v-160H180v160Zm440 0h160v-160H620v160ZM180-180h160v-160H180v160Zm440 0h160v-160H620v160Z\"/>\n",
              "  </svg>\n",
              "    </button>\n",
              "\n",
              "  <style>\n",
              "    .colab-df-container {\n",
              "      display:flex;\n",
              "      gap: 12px;\n",
              "    }\n",
              "\n",
              "    .colab-df-convert {\n",
              "      background-color: #E8F0FE;\n",
              "      border: none;\n",
              "      border-radius: 50%;\n",
              "      cursor: pointer;\n",
              "      display: none;\n",
              "      fill: #1967D2;\n",
              "      height: 32px;\n",
              "      padding: 0 0 0 0;\n",
              "      width: 32px;\n",
              "    }\n",
              "\n",
              "    .colab-df-convert:hover {\n",
              "      background-color: #E2EBFA;\n",
              "      box-shadow: 0px 1px 2px rgba(60, 64, 67, 0.3), 0px 1px 3px 1px rgba(60, 64, 67, 0.15);\n",
              "      fill: #174EA6;\n",
              "    }\n",
              "\n",
              "    .colab-df-buttons div {\n",
              "      margin-bottom: 4px;\n",
              "    }\n",
              "\n",
              "    [theme=dark] .colab-df-convert {\n",
              "      background-color: #3B4455;\n",
              "      fill: #D2E3FC;\n",
              "    }\n",
              "\n",
              "    [theme=dark] .colab-df-convert:hover {\n",
              "      background-color: #434B5C;\n",
              "      box-shadow: 0px 1px 3px 1px rgba(0, 0, 0, 0.15);\n",
              "      filter: drop-shadow(0px 1px 2px rgba(0, 0, 0, 0.3));\n",
              "      fill: #FFFFFF;\n",
              "    }\n",
              "  </style>\n",
              "\n",
              "    <script>\n",
              "      const buttonEl =\n",
              "        document.querySelector('#df-255aeafb-3344-4ffb-a766-77727f9aeec7 button.colab-df-convert');\n",
              "      buttonEl.style.display =\n",
              "        google.colab.kernel.accessAllowed ? 'block' : 'none';\n",
              "\n",
              "      async function convertToInteractive(key) {\n",
              "        const element = document.querySelector('#df-255aeafb-3344-4ffb-a766-77727f9aeec7');\n",
              "        const dataTable =\n",
              "          await google.colab.kernel.invokeFunction('convertToInteractive',\n",
              "                                                    [key], {});\n",
              "        if (!dataTable) return;\n",
              "\n",
              "        const docLinkHtml = 'Like what you see? Visit the ' +\n",
              "          '<a target=\"_blank\" href=https://colab.research.google.com/notebooks/data_table.ipynb>data table notebook</a>'\n",
              "          + ' to learn more about interactive tables.';\n",
              "        element.innerHTML = '';\n",
              "        dataTable['output_type'] = 'display_data';\n",
              "        await google.colab.output.renderOutput(dataTable, element);\n",
              "        const docLink = document.createElement('div');\n",
              "        docLink.innerHTML = docLinkHtml;\n",
              "        element.appendChild(docLink);\n",
              "      }\n",
              "    </script>\n",
              "  </div>\n",
              "\n",
              "\n",
              "<div id=\"df-942aea10-0b71-43bc-934c-1fbf711af44c\">\n",
              "  <button class=\"colab-df-quickchart\" onclick=\"quickchart('df-942aea10-0b71-43bc-934c-1fbf711af44c')\"\n",
              "            title=\"Suggest charts\"\n",
              "            style=\"display:none;\">\n",
              "\n",
              "<svg xmlns=\"http://www.w3.org/2000/svg\" height=\"24px\"viewBox=\"0 0 24 24\"\n",
              "     width=\"24px\">\n",
              "    <g>\n",
              "        <path d=\"M19 3H5c-1.1 0-2 .9-2 2v14c0 1.1.9 2 2 2h14c1.1 0 2-.9 2-2V5c0-1.1-.9-2-2-2zM9 17H7v-7h2v7zm4 0h-2V7h2v10zm4 0h-2v-4h2v4z\"/>\n",
              "    </g>\n",
              "</svg>\n",
              "  </button>\n",
              "\n",
              "<style>\n",
              "  .colab-df-quickchart {\n",
              "      --bg-color: #E8F0FE;\n",
              "      --fill-color: #1967D2;\n",
              "      --hover-bg-color: #E2EBFA;\n",
              "      --hover-fill-color: #174EA6;\n",
              "      --disabled-fill-color: #AAA;\n",
              "      --disabled-bg-color: #DDD;\n",
              "  }\n",
              "\n",
              "  [theme=dark] .colab-df-quickchart {\n",
              "      --bg-color: #3B4455;\n",
              "      --fill-color: #D2E3FC;\n",
              "      --hover-bg-color: #434B5C;\n",
              "      --hover-fill-color: #FFFFFF;\n",
              "      --disabled-bg-color: #3B4455;\n",
              "      --disabled-fill-color: #666;\n",
              "  }\n",
              "\n",
              "  .colab-df-quickchart {\n",
              "    background-color: var(--bg-color);\n",
              "    border: none;\n",
              "    border-radius: 50%;\n",
              "    cursor: pointer;\n",
              "    display: none;\n",
              "    fill: var(--fill-color);\n",
              "    height: 32px;\n",
              "    padding: 0;\n",
              "    width: 32px;\n",
              "  }\n",
              "\n",
              "  .colab-df-quickchart:hover {\n",
              "    background-color: var(--hover-bg-color);\n",
              "    box-shadow: 0 1px 2px rgba(60, 64, 67, 0.3), 0 1px 3px 1px rgba(60, 64, 67, 0.15);\n",
              "    fill: var(--button-hover-fill-color);\n",
              "  }\n",
              "\n",
              "  .colab-df-quickchart-complete:disabled,\n",
              "  .colab-df-quickchart-complete:disabled:hover {\n",
              "    background-color: var(--disabled-bg-color);\n",
              "    fill: var(--disabled-fill-color);\n",
              "    box-shadow: none;\n",
              "  }\n",
              "\n",
              "  .colab-df-spinner {\n",
              "    border: 2px solid var(--fill-color);\n",
              "    border-color: transparent;\n",
              "    border-bottom-color: var(--fill-color);\n",
              "    animation:\n",
              "      spin 1s steps(1) infinite;\n",
              "  }\n",
              "\n",
              "  @keyframes spin {\n",
              "    0% {\n",
              "      border-color: transparent;\n",
              "      border-bottom-color: var(--fill-color);\n",
              "      border-left-color: var(--fill-color);\n",
              "    }\n",
              "    20% {\n",
              "      border-color: transparent;\n",
              "      border-left-color: var(--fill-color);\n",
              "      border-top-color: var(--fill-color);\n",
              "    }\n",
              "    30% {\n",
              "      border-color: transparent;\n",
              "      border-left-color: var(--fill-color);\n",
              "      border-top-color: var(--fill-color);\n",
              "      border-right-color: var(--fill-color);\n",
              "    }\n",
              "    40% {\n",
              "      border-color: transparent;\n",
              "      border-right-color: var(--fill-color);\n",
              "      border-top-color: var(--fill-color);\n",
              "    }\n",
              "    60% {\n",
              "      border-color: transparent;\n",
              "      border-right-color: var(--fill-color);\n",
              "    }\n",
              "    80% {\n",
              "      border-color: transparent;\n",
              "      border-right-color: var(--fill-color);\n",
              "      border-bottom-color: var(--fill-color);\n",
              "    }\n",
              "    90% {\n",
              "      border-color: transparent;\n",
              "      border-bottom-color: var(--fill-color);\n",
              "    }\n",
              "  }\n",
              "</style>\n",
              "\n",
              "  <script>\n",
              "    async function quickchart(key) {\n",
              "      const quickchartButtonEl =\n",
              "        document.querySelector('#' + key + ' button');\n",
              "      quickchartButtonEl.disabled = true;  // To prevent multiple clicks.\n",
              "      quickchartButtonEl.classList.add('colab-df-spinner');\n",
              "      try {\n",
              "        const charts = await google.colab.kernel.invokeFunction(\n",
              "            'suggestCharts', [key], {});\n",
              "      } catch (error) {\n",
              "        console.error('Error during call to suggestCharts:', error);\n",
              "      }\n",
              "      quickchartButtonEl.classList.remove('colab-df-spinner');\n",
              "      quickchartButtonEl.classList.add('colab-df-quickchart-complete');\n",
              "    }\n",
              "    (() => {\n",
              "      let quickchartButtonEl =\n",
              "        document.querySelector('#df-942aea10-0b71-43bc-934c-1fbf711af44c button');\n",
              "      quickchartButtonEl.style.display =\n",
              "        google.colab.kernel.accessAllowed ? 'block' : 'none';\n",
              "    })();\n",
              "  </script>\n",
              "</div>\n",
              "\n",
              "    </div>\n",
              "  </div>\n"
            ],
            "application/vnd.google.colaboratory.intrinsic+json": {
              "type": "dataframe",
              "variable_name": "results",
              "repr_error": "cannot insert Date, already exists"
            }
          },
          "metadata": {},
          "execution_count": 117
        }
      ]
    },
    {
      "cell_type": "code",
      "source": [
        "results = results.drop(['Date', 'Product'], axis=1)"
      ],
      "metadata": {
        "id": "O7O6_tjcSqfv"
      },
      "execution_count": 119,
      "outputs": []
    },
    {
      "cell_type": "code",
      "source": [
        "results.info()"
      ],
      "metadata": {
        "colab": {
          "base_uri": "https://localhost:8080/"
        },
        "id": "f1pEpBCOS_lw",
        "outputId": "98f1475b-ca95-4aeb-8e1a-4f7986be63a6"
      },
      "execution_count": 120,
      "outputs": [
        {
          "output_type": "stream",
          "name": "stdout",
          "text": [
            "<class 'pandas.core.frame.DataFrame'>\n",
            "DatetimeIndex: 20163 entries, 2015-03-19 to 2024-12-24\n",
            "Data columns (total 3 columns):\n",
            " #   Column              Non-Null Count  Dtype  \n",
            "---  ------              --------------  -----  \n",
            " 0   Complaint           20163 non-null  object \n",
            " 1   sentiment_score     20163 non-null  float64\n",
            " 2   sentiment_category  20163 non-null  object \n",
            "dtypes: float64(1), object(2)\n",
            "memory usage: 630.1+ KB\n"
          ]
        }
      ]
    },
    {
      "cell_type": "code",
      "source": [
        "results.index = results.index.strftime('%Y-%m')"
      ],
      "metadata": {
        "id": "Al6CtYs9TORy"
      },
      "execution_count": 121,
      "outputs": []
    },
    {
      "cell_type": "code",
      "source": [
        "results.head()"
      ],
      "metadata": {
        "colab": {
          "base_uri": "https://localhost:8080/",
          "height": 238
        },
        "id": "OpwXirjZVGYZ",
        "outputId": "cc06c172-703c-43f3-e279-b8b309d4429c"
      },
      "execution_count": 122,
      "outputs": [
        {
          "output_type": "execute_result",
          "data": {
            "text/plain": [
              "                                                 Complaint  sentiment_score  \\\n",
              "Date                                                                          \n",
              "2015-03  On XXXX XXXX around XXXX XXXX I called Wells F...         0.049050   \n",
              "2015-03  On XXXX XXXX, 2014, I went into a Wells Fargo ...         0.110627   \n",
              "2015-03  My mother XXXX XXXX was a XXXX and has been a ...        -0.201956   \n",
              "2015-03  Wells Fargo has recently began charging fees t...        -0.239625   \n",
              "2015-03  Wells Fargo failed to stop debits from XXXX af...        -0.251414   \n",
              "\n",
              "        sentiment_category  \n",
              "Date                        \n",
              "2015-03            Neutral  \n",
              "2015-03            Neutral  \n",
              "2015-03           Negative  \n",
              "2015-03      Very Negative  \n",
              "2015-03      Very Negative  "
            ],
            "text/html": [
              "\n",
              "  <div id=\"df-51b276fe-1e58-4c0a-8a6c-93c8d9995f4b\" class=\"colab-df-container\">\n",
              "    <div>\n",
              "<style scoped>\n",
              "    .dataframe tbody tr th:only-of-type {\n",
              "        vertical-align: middle;\n",
              "    }\n",
              "\n",
              "    .dataframe tbody tr th {\n",
              "        vertical-align: top;\n",
              "    }\n",
              "\n",
              "    .dataframe thead th {\n",
              "        text-align: right;\n",
              "    }\n",
              "</style>\n",
              "<table border=\"1\" class=\"dataframe\">\n",
              "  <thead>\n",
              "    <tr style=\"text-align: right;\">\n",
              "      <th></th>\n",
              "      <th>Complaint</th>\n",
              "      <th>sentiment_score</th>\n",
              "      <th>sentiment_category</th>\n",
              "    </tr>\n",
              "    <tr>\n",
              "      <th>Date</th>\n",
              "      <th></th>\n",
              "      <th></th>\n",
              "      <th></th>\n",
              "    </tr>\n",
              "  </thead>\n",
              "  <tbody>\n",
              "    <tr>\n",
              "      <th>2015-03</th>\n",
              "      <td>On XXXX XXXX around XXXX XXXX I called Wells F...</td>\n",
              "      <td>0.049050</td>\n",
              "      <td>Neutral</td>\n",
              "    </tr>\n",
              "    <tr>\n",
              "      <th>2015-03</th>\n",
              "      <td>On XXXX XXXX, 2014, I went into a Wells Fargo ...</td>\n",
              "      <td>0.110627</td>\n",
              "      <td>Neutral</td>\n",
              "    </tr>\n",
              "    <tr>\n",
              "      <th>2015-03</th>\n",
              "      <td>My mother XXXX XXXX was a XXXX and has been a ...</td>\n",
              "      <td>-0.201956</td>\n",
              "      <td>Negative</td>\n",
              "    </tr>\n",
              "    <tr>\n",
              "      <th>2015-03</th>\n",
              "      <td>Wells Fargo has recently began charging fees t...</td>\n",
              "      <td>-0.239625</td>\n",
              "      <td>Very Negative</td>\n",
              "    </tr>\n",
              "    <tr>\n",
              "      <th>2015-03</th>\n",
              "      <td>Wells Fargo failed to stop debits from XXXX af...</td>\n",
              "      <td>-0.251414</td>\n",
              "      <td>Very Negative</td>\n",
              "    </tr>\n",
              "  </tbody>\n",
              "</table>\n",
              "</div>\n",
              "    <div class=\"colab-df-buttons\">\n",
              "\n",
              "  <div class=\"colab-df-container\">\n",
              "    <button class=\"colab-df-convert\" onclick=\"convertToInteractive('df-51b276fe-1e58-4c0a-8a6c-93c8d9995f4b')\"\n",
              "            title=\"Convert this dataframe to an interactive table.\"\n",
              "            style=\"display:none;\">\n",
              "\n",
              "  <svg xmlns=\"http://www.w3.org/2000/svg\" height=\"24px\" viewBox=\"0 -960 960 960\">\n",
              "    <path d=\"M120-120v-720h720v720H120Zm60-500h600v-160H180v160Zm220 220h160v-160H400v160Zm0 220h160v-160H400v160ZM180-400h160v-160H180v160Zm440 0h160v-160H620v160ZM180-180h160v-160H180v160Zm440 0h160v-160H620v160Z\"/>\n",
              "  </svg>\n",
              "    </button>\n",
              "\n",
              "  <style>\n",
              "    .colab-df-container {\n",
              "      display:flex;\n",
              "      gap: 12px;\n",
              "    }\n",
              "\n",
              "    .colab-df-convert {\n",
              "      background-color: #E8F0FE;\n",
              "      border: none;\n",
              "      border-radius: 50%;\n",
              "      cursor: pointer;\n",
              "      display: none;\n",
              "      fill: #1967D2;\n",
              "      height: 32px;\n",
              "      padding: 0 0 0 0;\n",
              "      width: 32px;\n",
              "    }\n",
              "\n",
              "    .colab-df-convert:hover {\n",
              "      background-color: #E2EBFA;\n",
              "      box-shadow: 0px 1px 2px rgba(60, 64, 67, 0.3), 0px 1px 3px 1px rgba(60, 64, 67, 0.15);\n",
              "      fill: #174EA6;\n",
              "    }\n",
              "\n",
              "    .colab-df-buttons div {\n",
              "      margin-bottom: 4px;\n",
              "    }\n",
              "\n",
              "    [theme=dark] .colab-df-convert {\n",
              "      background-color: #3B4455;\n",
              "      fill: #D2E3FC;\n",
              "    }\n",
              "\n",
              "    [theme=dark] .colab-df-convert:hover {\n",
              "      background-color: #434B5C;\n",
              "      box-shadow: 0px 1px 3px 1px rgba(0, 0, 0, 0.15);\n",
              "      filter: drop-shadow(0px 1px 2px rgba(0, 0, 0, 0.3));\n",
              "      fill: #FFFFFF;\n",
              "    }\n",
              "  </style>\n",
              "\n",
              "    <script>\n",
              "      const buttonEl =\n",
              "        document.querySelector('#df-51b276fe-1e58-4c0a-8a6c-93c8d9995f4b button.colab-df-convert');\n",
              "      buttonEl.style.display =\n",
              "        google.colab.kernel.accessAllowed ? 'block' : 'none';\n",
              "\n",
              "      async function convertToInteractive(key) {\n",
              "        const element = document.querySelector('#df-51b276fe-1e58-4c0a-8a6c-93c8d9995f4b');\n",
              "        const dataTable =\n",
              "          await google.colab.kernel.invokeFunction('convertToInteractive',\n",
              "                                                    [key], {});\n",
              "        if (!dataTable) return;\n",
              "\n",
              "        const docLinkHtml = 'Like what you see? Visit the ' +\n",
              "          '<a target=\"_blank\" href=https://colab.research.google.com/notebooks/data_table.ipynb>data table notebook</a>'\n",
              "          + ' to learn more about interactive tables.';\n",
              "        element.innerHTML = '';\n",
              "        dataTable['output_type'] = 'display_data';\n",
              "        await google.colab.output.renderOutput(dataTable, element);\n",
              "        const docLink = document.createElement('div');\n",
              "        docLink.innerHTML = docLinkHtml;\n",
              "        element.appendChild(docLink);\n",
              "      }\n",
              "    </script>\n",
              "  </div>\n",
              "\n",
              "\n",
              "<div id=\"df-952687ee-17c8-45a4-a052-314aa0303e49\">\n",
              "  <button class=\"colab-df-quickchart\" onclick=\"quickchart('df-952687ee-17c8-45a4-a052-314aa0303e49')\"\n",
              "            title=\"Suggest charts\"\n",
              "            style=\"display:none;\">\n",
              "\n",
              "<svg xmlns=\"http://www.w3.org/2000/svg\" height=\"24px\"viewBox=\"0 0 24 24\"\n",
              "     width=\"24px\">\n",
              "    <g>\n",
              "        <path d=\"M19 3H5c-1.1 0-2 .9-2 2v14c0 1.1.9 2 2 2h14c1.1 0 2-.9 2-2V5c0-1.1-.9-2-2-2zM9 17H7v-7h2v7zm4 0h-2V7h2v10zm4 0h-2v-4h2v4z\"/>\n",
              "    </g>\n",
              "</svg>\n",
              "  </button>\n",
              "\n",
              "<style>\n",
              "  .colab-df-quickchart {\n",
              "      --bg-color: #E8F0FE;\n",
              "      --fill-color: #1967D2;\n",
              "      --hover-bg-color: #E2EBFA;\n",
              "      --hover-fill-color: #174EA6;\n",
              "      --disabled-fill-color: #AAA;\n",
              "      --disabled-bg-color: #DDD;\n",
              "  }\n",
              "\n",
              "  [theme=dark] .colab-df-quickchart {\n",
              "      --bg-color: #3B4455;\n",
              "      --fill-color: #D2E3FC;\n",
              "      --hover-bg-color: #434B5C;\n",
              "      --hover-fill-color: #FFFFFF;\n",
              "      --disabled-bg-color: #3B4455;\n",
              "      --disabled-fill-color: #666;\n",
              "  }\n",
              "\n",
              "  .colab-df-quickchart {\n",
              "    background-color: var(--bg-color);\n",
              "    border: none;\n",
              "    border-radius: 50%;\n",
              "    cursor: pointer;\n",
              "    display: none;\n",
              "    fill: var(--fill-color);\n",
              "    height: 32px;\n",
              "    padding: 0;\n",
              "    width: 32px;\n",
              "  }\n",
              "\n",
              "  .colab-df-quickchart:hover {\n",
              "    background-color: var(--hover-bg-color);\n",
              "    box-shadow: 0 1px 2px rgba(60, 64, 67, 0.3), 0 1px 3px 1px rgba(60, 64, 67, 0.15);\n",
              "    fill: var(--button-hover-fill-color);\n",
              "  }\n",
              "\n",
              "  .colab-df-quickchart-complete:disabled,\n",
              "  .colab-df-quickchart-complete:disabled:hover {\n",
              "    background-color: var(--disabled-bg-color);\n",
              "    fill: var(--disabled-fill-color);\n",
              "    box-shadow: none;\n",
              "  }\n",
              "\n",
              "  .colab-df-spinner {\n",
              "    border: 2px solid var(--fill-color);\n",
              "    border-color: transparent;\n",
              "    border-bottom-color: var(--fill-color);\n",
              "    animation:\n",
              "      spin 1s steps(1) infinite;\n",
              "  }\n",
              "\n",
              "  @keyframes spin {\n",
              "    0% {\n",
              "      border-color: transparent;\n",
              "      border-bottom-color: var(--fill-color);\n",
              "      border-left-color: var(--fill-color);\n",
              "    }\n",
              "    20% {\n",
              "      border-color: transparent;\n",
              "      border-left-color: var(--fill-color);\n",
              "      border-top-color: var(--fill-color);\n",
              "    }\n",
              "    30% {\n",
              "      border-color: transparent;\n",
              "      border-left-color: var(--fill-color);\n",
              "      border-top-color: var(--fill-color);\n",
              "      border-right-color: var(--fill-color);\n",
              "    }\n",
              "    40% {\n",
              "      border-color: transparent;\n",
              "      border-right-color: var(--fill-color);\n",
              "      border-top-color: var(--fill-color);\n",
              "    }\n",
              "    60% {\n",
              "      border-color: transparent;\n",
              "      border-right-color: var(--fill-color);\n",
              "    }\n",
              "    80% {\n",
              "      border-color: transparent;\n",
              "      border-right-color: var(--fill-color);\n",
              "      border-bottom-color: var(--fill-color);\n",
              "    }\n",
              "    90% {\n",
              "      border-color: transparent;\n",
              "      border-bottom-color: var(--fill-color);\n",
              "    }\n",
              "  }\n",
              "</style>\n",
              "\n",
              "  <script>\n",
              "    async function quickchart(key) {\n",
              "      const quickchartButtonEl =\n",
              "        document.querySelector('#' + key + ' button');\n",
              "      quickchartButtonEl.disabled = true;  // To prevent multiple clicks.\n",
              "      quickchartButtonEl.classList.add('colab-df-spinner');\n",
              "      try {\n",
              "        const charts = await google.colab.kernel.invokeFunction(\n",
              "            'suggestCharts', [key], {});\n",
              "      } catch (error) {\n",
              "        console.error('Error during call to suggestCharts:', error);\n",
              "      }\n",
              "      quickchartButtonEl.classList.remove('colab-df-spinner');\n",
              "      quickchartButtonEl.classList.add('colab-df-quickchart-complete');\n",
              "    }\n",
              "    (() => {\n",
              "      let quickchartButtonEl =\n",
              "        document.querySelector('#df-952687ee-17c8-45a4-a052-314aa0303e49 button');\n",
              "      quickchartButtonEl.style.display =\n",
              "        google.colab.kernel.accessAllowed ? 'block' : 'none';\n",
              "    })();\n",
              "  </script>\n",
              "</div>\n",
              "\n",
              "    </div>\n",
              "  </div>\n"
            ],
            "application/vnd.google.colaboratory.intrinsic+json": {
              "type": "dataframe",
              "variable_name": "results",
              "summary": "{\n  \"name\": \"results\",\n  \"rows\": 20163,\n  \"fields\": [\n    {\n      \"column\": \"Date\",\n      \"properties\": {\n        \"dtype\": \"object\",\n        \"num_unique_values\": 118,\n        \"samples\": [\n          \"2019-11\",\n          \"2022-08\",\n          \"2015-07\"\n        ],\n        \"semantic_type\": \"\",\n        \"description\": \"\"\n      }\n    },\n    {\n      \"column\": \"Complaint\",\n      \"properties\": {\n        \"dtype\": \"string\",\n        \"num_unique_values\": 20139,\n        \"samples\": [\n          \"Dear Wells Fargo Bank, I am writing to inform you that I am a victim of fraud. I have not deposited any checks into my account in the last 30 days. I was made aware of the fraud when your bank called me to confirm the deposits. \\n\\nI understand that under the Fair Credit Billing Act, I have the right to dispute any unauthorized charges or credits made to my account. I am asking that you take immediate action to investigate and reverse any fraudulent charges made to my account. \\n\\nI am also requesting that you place a fraud alert on my account to prevent any further fraud. I would also like to be informed of any other measures you can take to ensure that my account is secure. \\n\\nI appreciate your prompt attention to this matter.\",\n          \"I have been a member of Wells Fargo since 2004, and have not, until recently, had issues to the extent that I have had with the company. I have chosen to handle the majority of my banking online for convenience but also because the employees working at several of the locations I have visited have been extremely unprofessional while handling my account. For example, I have had tellers read my personal information out loud while handling transactions ( i.e. current balance ). The company has also been uncooperative while dealing with automatic payments on my account. I submitted a request to have a payment stopped until I could research the company taken the automatic payments out of my account. However, Wells Fargo refused, and insisted on the continuation of the withdrawals refusing to negotiate via my online account. More recently, the company fraudulently submitted several transactions sending my account into the negative. The company refuses to acknowledge that these charges were fraudulently placed on my account, and does not give the option to dispute online. I have reached out to several representatives to no avail, and have been misguided and misdirected. The bank also deleted several emails sent to me from representatives in regards to my account. One email was from a representative strongly suggesting that I  do not dispute the charges and that I call rather than email. The email was threatening and suggestive. Several other emails contained messages that they would not stop the automatic payments.The recent transactions are fraudulent, I am now concerned regarding my vulnerability to the company as they are using my personal information, and the company 's refusal to assist with the discontinuance of the automatic payments is unprofessional and unethical.\",\n          \"I am a XXXX citizen. I paid for a room rental on XXXX but they did not give me the room or my refund.\"\n        ],\n        \"semantic_type\": \"\",\n        \"description\": \"\"\n      }\n    },\n    {\n      \"column\": \"sentiment_score\",\n      \"properties\": {\n        \"dtype\": \"number\",\n        \"std\": 0.13073617955881292,\n        \"min\": -0.39469358,\n        \"max\": 0.4602817,\n        \"num_unique_values\": 20090,\n        \"samples\": [\n          0.008110888,\n          -0.24472056,\n          -0.27900282\n        ],\n        \"semantic_type\": \"\",\n        \"description\": \"\"\n      }\n    },\n    {\n      \"column\": \"sentiment_category\",\n      \"properties\": {\n        \"dtype\": \"category\",\n        \"num_unique_values\": 5,\n        \"samples\": [\n          \"Negative\",\n          \"Very Positive\",\n          \"Very Negative\"\n        ],\n        \"semantic_type\": \"\",\n        \"description\": \"\"\n      }\n    }\n  ]\n}"
            }
          },
          "metadata": {},
          "execution_count": 122
        }
      ]
    },
    {
      "cell_type": "code",
      "source": [
        "results['year_month'] = results.index"
      ],
      "metadata": {
        "id": "anBOxIJoTgbf"
      },
      "execution_count": 123,
      "outputs": []
    },
    {
      "cell_type": "code",
      "source": [
        "results.head()"
      ],
      "metadata": {
        "colab": {
          "base_uri": "https://localhost:8080/",
          "height": 238
        },
        "id": "357mJeQTVOap",
        "outputId": "2e26ddbd-53a0-4f55-b5fd-3b147a8271c3"
      },
      "execution_count": 124,
      "outputs": [
        {
          "output_type": "execute_result",
          "data": {
            "text/plain": [
              "                                                 Complaint  sentiment_score  \\\n",
              "Date                                                                          \n",
              "2015-03  On XXXX XXXX around XXXX XXXX I called Wells F...         0.049050   \n",
              "2015-03  On XXXX XXXX, 2014, I went into a Wells Fargo ...         0.110627   \n",
              "2015-03  My mother XXXX XXXX was a XXXX and has been a ...        -0.201956   \n",
              "2015-03  Wells Fargo has recently began charging fees t...        -0.239625   \n",
              "2015-03  Wells Fargo failed to stop debits from XXXX af...        -0.251414   \n",
              "\n",
              "        sentiment_category year_month  \n",
              "Date                                   \n",
              "2015-03            Neutral    2015-03  \n",
              "2015-03            Neutral    2015-03  \n",
              "2015-03           Negative    2015-03  \n",
              "2015-03      Very Negative    2015-03  \n",
              "2015-03      Very Negative    2015-03  "
            ],
            "text/html": [
              "\n",
              "  <div id=\"df-d693413f-1b25-432e-849b-2b7da16229a6\" class=\"colab-df-container\">\n",
              "    <div>\n",
              "<style scoped>\n",
              "    .dataframe tbody tr th:only-of-type {\n",
              "        vertical-align: middle;\n",
              "    }\n",
              "\n",
              "    .dataframe tbody tr th {\n",
              "        vertical-align: top;\n",
              "    }\n",
              "\n",
              "    .dataframe thead th {\n",
              "        text-align: right;\n",
              "    }\n",
              "</style>\n",
              "<table border=\"1\" class=\"dataframe\">\n",
              "  <thead>\n",
              "    <tr style=\"text-align: right;\">\n",
              "      <th></th>\n",
              "      <th>Complaint</th>\n",
              "      <th>sentiment_score</th>\n",
              "      <th>sentiment_category</th>\n",
              "      <th>year_month</th>\n",
              "    </tr>\n",
              "    <tr>\n",
              "      <th>Date</th>\n",
              "      <th></th>\n",
              "      <th></th>\n",
              "      <th></th>\n",
              "      <th></th>\n",
              "    </tr>\n",
              "  </thead>\n",
              "  <tbody>\n",
              "    <tr>\n",
              "      <th>2015-03</th>\n",
              "      <td>On XXXX XXXX around XXXX XXXX I called Wells F...</td>\n",
              "      <td>0.049050</td>\n",
              "      <td>Neutral</td>\n",
              "      <td>2015-03</td>\n",
              "    </tr>\n",
              "    <tr>\n",
              "      <th>2015-03</th>\n",
              "      <td>On XXXX XXXX, 2014, I went into a Wells Fargo ...</td>\n",
              "      <td>0.110627</td>\n",
              "      <td>Neutral</td>\n",
              "      <td>2015-03</td>\n",
              "    </tr>\n",
              "    <tr>\n",
              "      <th>2015-03</th>\n",
              "      <td>My mother XXXX XXXX was a XXXX and has been a ...</td>\n",
              "      <td>-0.201956</td>\n",
              "      <td>Negative</td>\n",
              "      <td>2015-03</td>\n",
              "    </tr>\n",
              "    <tr>\n",
              "      <th>2015-03</th>\n",
              "      <td>Wells Fargo has recently began charging fees t...</td>\n",
              "      <td>-0.239625</td>\n",
              "      <td>Very Negative</td>\n",
              "      <td>2015-03</td>\n",
              "    </tr>\n",
              "    <tr>\n",
              "      <th>2015-03</th>\n",
              "      <td>Wells Fargo failed to stop debits from XXXX af...</td>\n",
              "      <td>-0.251414</td>\n",
              "      <td>Very Negative</td>\n",
              "      <td>2015-03</td>\n",
              "    </tr>\n",
              "  </tbody>\n",
              "</table>\n",
              "</div>\n",
              "    <div class=\"colab-df-buttons\">\n",
              "\n",
              "  <div class=\"colab-df-container\">\n",
              "    <button class=\"colab-df-convert\" onclick=\"convertToInteractive('df-d693413f-1b25-432e-849b-2b7da16229a6')\"\n",
              "            title=\"Convert this dataframe to an interactive table.\"\n",
              "            style=\"display:none;\">\n",
              "\n",
              "  <svg xmlns=\"http://www.w3.org/2000/svg\" height=\"24px\" viewBox=\"0 -960 960 960\">\n",
              "    <path d=\"M120-120v-720h720v720H120Zm60-500h600v-160H180v160Zm220 220h160v-160H400v160Zm0 220h160v-160H400v160ZM180-400h160v-160H180v160Zm440 0h160v-160H620v160ZM180-180h160v-160H180v160Zm440 0h160v-160H620v160Z\"/>\n",
              "  </svg>\n",
              "    </button>\n",
              "\n",
              "  <style>\n",
              "    .colab-df-container {\n",
              "      display:flex;\n",
              "      gap: 12px;\n",
              "    }\n",
              "\n",
              "    .colab-df-convert {\n",
              "      background-color: #E8F0FE;\n",
              "      border: none;\n",
              "      border-radius: 50%;\n",
              "      cursor: pointer;\n",
              "      display: none;\n",
              "      fill: #1967D2;\n",
              "      height: 32px;\n",
              "      padding: 0 0 0 0;\n",
              "      width: 32px;\n",
              "    }\n",
              "\n",
              "    .colab-df-convert:hover {\n",
              "      background-color: #E2EBFA;\n",
              "      box-shadow: 0px 1px 2px rgba(60, 64, 67, 0.3), 0px 1px 3px 1px rgba(60, 64, 67, 0.15);\n",
              "      fill: #174EA6;\n",
              "    }\n",
              "\n",
              "    .colab-df-buttons div {\n",
              "      margin-bottom: 4px;\n",
              "    }\n",
              "\n",
              "    [theme=dark] .colab-df-convert {\n",
              "      background-color: #3B4455;\n",
              "      fill: #D2E3FC;\n",
              "    }\n",
              "\n",
              "    [theme=dark] .colab-df-convert:hover {\n",
              "      background-color: #434B5C;\n",
              "      box-shadow: 0px 1px 3px 1px rgba(0, 0, 0, 0.15);\n",
              "      filter: drop-shadow(0px 1px 2px rgba(0, 0, 0, 0.3));\n",
              "      fill: #FFFFFF;\n",
              "    }\n",
              "  </style>\n",
              "\n",
              "    <script>\n",
              "      const buttonEl =\n",
              "        document.querySelector('#df-d693413f-1b25-432e-849b-2b7da16229a6 button.colab-df-convert');\n",
              "      buttonEl.style.display =\n",
              "        google.colab.kernel.accessAllowed ? 'block' : 'none';\n",
              "\n",
              "      async function convertToInteractive(key) {\n",
              "        const element = document.querySelector('#df-d693413f-1b25-432e-849b-2b7da16229a6');\n",
              "        const dataTable =\n",
              "          await google.colab.kernel.invokeFunction('convertToInteractive',\n",
              "                                                    [key], {});\n",
              "        if (!dataTable) return;\n",
              "\n",
              "        const docLinkHtml = 'Like what you see? Visit the ' +\n",
              "          '<a target=\"_blank\" href=https://colab.research.google.com/notebooks/data_table.ipynb>data table notebook</a>'\n",
              "          + ' to learn more about interactive tables.';\n",
              "        element.innerHTML = '';\n",
              "        dataTable['output_type'] = 'display_data';\n",
              "        await google.colab.output.renderOutput(dataTable, element);\n",
              "        const docLink = document.createElement('div');\n",
              "        docLink.innerHTML = docLinkHtml;\n",
              "        element.appendChild(docLink);\n",
              "      }\n",
              "    </script>\n",
              "  </div>\n",
              "\n",
              "\n",
              "<div id=\"df-f8fa7362-fe67-479b-b2c4-63cd8be800af\">\n",
              "  <button class=\"colab-df-quickchart\" onclick=\"quickchart('df-f8fa7362-fe67-479b-b2c4-63cd8be800af')\"\n",
              "            title=\"Suggest charts\"\n",
              "            style=\"display:none;\">\n",
              "\n",
              "<svg xmlns=\"http://www.w3.org/2000/svg\" height=\"24px\"viewBox=\"0 0 24 24\"\n",
              "     width=\"24px\">\n",
              "    <g>\n",
              "        <path d=\"M19 3H5c-1.1 0-2 .9-2 2v14c0 1.1.9 2 2 2h14c1.1 0 2-.9 2-2V5c0-1.1-.9-2-2-2zM9 17H7v-7h2v7zm4 0h-2V7h2v10zm4 0h-2v-4h2v4z\"/>\n",
              "    </g>\n",
              "</svg>\n",
              "  </button>\n",
              "\n",
              "<style>\n",
              "  .colab-df-quickchart {\n",
              "      --bg-color: #E8F0FE;\n",
              "      --fill-color: #1967D2;\n",
              "      --hover-bg-color: #E2EBFA;\n",
              "      --hover-fill-color: #174EA6;\n",
              "      --disabled-fill-color: #AAA;\n",
              "      --disabled-bg-color: #DDD;\n",
              "  }\n",
              "\n",
              "  [theme=dark] .colab-df-quickchart {\n",
              "      --bg-color: #3B4455;\n",
              "      --fill-color: #D2E3FC;\n",
              "      --hover-bg-color: #434B5C;\n",
              "      --hover-fill-color: #FFFFFF;\n",
              "      --disabled-bg-color: #3B4455;\n",
              "      --disabled-fill-color: #666;\n",
              "  }\n",
              "\n",
              "  .colab-df-quickchart {\n",
              "    background-color: var(--bg-color);\n",
              "    border: none;\n",
              "    border-radius: 50%;\n",
              "    cursor: pointer;\n",
              "    display: none;\n",
              "    fill: var(--fill-color);\n",
              "    height: 32px;\n",
              "    padding: 0;\n",
              "    width: 32px;\n",
              "  }\n",
              "\n",
              "  .colab-df-quickchart:hover {\n",
              "    background-color: var(--hover-bg-color);\n",
              "    box-shadow: 0 1px 2px rgba(60, 64, 67, 0.3), 0 1px 3px 1px rgba(60, 64, 67, 0.15);\n",
              "    fill: var(--button-hover-fill-color);\n",
              "  }\n",
              "\n",
              "  .colab-df-quickchart-complete:disabled,\n",
              "  .colab-df-quickchart-complete:disabled:hover {\n",
              "    background-color: var(--disabled-bg-color);\n",
              "    fill: var(--disabled-fill-color);\n",
              "    box-shadow: none;\n",
              "  }\n",
              "\n",
              "  .colab-df-spinner {\n",
              "    border: 2px solid var(--fill-color);\n",
              "    border-color: transparent;\n",
              "    border-bottom-color: var(--fill-color);\n",
              "    animation:\n",
              "      spin 1s steps(1) infinite;\n",
              "  }\n",
              "\n",
              "  @keyframes spin {\n",
              "    0% {\n",
              "      border-color: transparent;\n",
              "      border-bottom-color: var(--fill-color);\n",
              "      border-left-color: var(--fill-color);\n",
              "    }\n",
              "    20% {\n",
              "      border-color: transparent;\n",
              "      border-left-color: var(--fill-color);\n",
              "      border-top-color: var(--fill-color);\n",
              "    }\n",
              "    30% {\n",
              "      border-color: transparent;\n",
              "      border-left-color: var(--fill-color);\n",
              "      border-top-color: var(--fill-color);\n",
              "      border-right-color: var(--fill-color);\n",
              "    }\n",
              "    40% {\n",
              "      border-color: transparent;\n",
              "      border-right-color: var(--fill-color);\n",
              "      border-top-color: var(--fill-color);\n",
              "    }\n",
              "    60% {\n",
              "      border-color: transparent;\n",
              "      border-right-color: var(--fill-color);\n",
              "    }\n",
              "    80% {\n",
              "      border-color: transparent;\n",
              "      border-right-color: var(--fill-color);\n",
              "      border-bottom-color: var(--fill-color);\n",
              "    }\n",
              "    90% {\n",
              "      border-color: transparent;\n",
              "      border-bottom-color: var(--fill-color);\n",
              "    }\n",
              "  }\n",
              "</style>\n",
              "\n",
              "  <script>\n",
              "    async function quickchart(key) {\n",
              "      const quickchartButtonEl =\n",
              "        document.querySelector('#' + key + ' button');\n",
              "      quickchartButtonEl.disabled = true;  // To prevent multiple clicks.\n",
              "      quickchartButtonEl.classList.add('colab-df-spinner');\n",
              "      try {\n",
              "        const charts = await google.colab.kernel.invokeFunction(\n",
              "            'suggestCharts', [key], {});\n",
              "      } catch (error) {\n",
              "        console.error('Error during call to suggestCharts:', error);\n",
              "      }\n",
              "      quickchartButtonEl.classList.remove('colab-df-spinner');\n",
              "      quickchartButtonEl.classList.add('colab-df-quickchart-complete');\n",
              "    }\n",
              "    (() => {\n",
              "      let quickchartButtonEl =\n",
              "        document.querySelector('#df-f8fa7362-fe67-479b-b2c4-63cd8be800af button');\n",
              "      quickchartButtonEl.style.display =\n",
              "        google.colab.kernel.accessAllowed ? 'block' : 'none';\n",
              "    })();\n",
              "  </script>\n",
              "</div>\n",
              "\n",
              "    </div>\n",
              "  </div>\n"
            ],
            "application/vnd.google.colaboratory.intrinsic+json": {
              "type": "dataframe",
              "variable_name": "results",
              "summary": "{\n  \"name\": \"results\",\n  \"rows\": 20163,\n  \"fields\": [\n    {\n      \"column\": \"Date\",\n      \"properties\": {\n        \"dtype\": \"object\",\n        \"num_unique_values\": 118,\n        \"samples\": [\n          \"2019-11\",\n          \"2022-08\",\n          \"2015-07\"\n        ],\n        \"semantic_type\": \"\",\n        \"description\": \"\"\n      }\n    },\n    {\n      \"column\": \"Complaint\",\n      \"properties\": {\n        \"dtype\": \"string\",\n        \"num_unique_values\": 20139,\n        \"samples\": [\n          \"Dear Wells Fargo Bank, I am writing to inform you that I am a victim of fraud. I have not deposited any checks into my account in the last 30 days. I was made aware of the fraud when your bank called me to confirm the deposits. \\n\\nI understand that under the Fair Credit Billing Act, I have the right to dispute any unauthorized charges or credits made to my account. I am asking that you take immediate action to investigate and reverse any fraudulent charges made to my account. \\n\\nI am also requesting that you place a fraud alert on my account to prevent any further fraud. I would also like to be informed of any other measures you can take to ensure that my account is secure. \\n\\nI appreciate your prompt attention to this matter.\",\n          \"I have been a member of Wells Fargo since 2004, and have not, until recently, had issues to the extent that I have had with the company. I have chosen to handle the majority of my banking online for convenience but also because the employees working at several of the locations I have visited have been extremely unprofessional while handling my account. For example, I have had tellers read my personal information out loud while handling transactions ( i.e. current balance ). The company has also been uncooperative while dealing with automatic payments on my account. I submitted a request to have a payment stopped until I could research the company taken the automatic payments out of my account. However, Wells Fargo refused, and insisted on the continuation of the withdrawals refusing to negotiate via my online account. More recently, the company fraudulently submitted several transactions sending my account into the negative. The company refuses to acknowledge that these charges were fraudulently placed on my account, and does not give the option to dispute online. I have reached out to several representatives to no avail, and have been misguided and misdirected. The bank also deleted several emails sent to me from representatives in regards to my account. One email was from a representative strongly suggesting that I  do not dispute the charges and that I call rather than email. The email was threatening and suggestive. Several other emails contained messages that they would not stop the automatic payments.The recent transactions are fraudulent, I am now concerned regarding my vulnerability to the company as they are using my personal information, and the company 's refusal to assist with the discontinuance of the automatic payments is unprofessional and unethical.\",\n          \"I am a XXXX citizen. I paid for a room rental on XXXX but they did not give me the room or my refund.\"\n        ],\n        \"semantic_type\": \"\",\n        \"description\": \"\"\n      }\n    },\n    {\n      \"column\": \"sentiment_score\",\n      \"properties\": {\n        \"dtype\": \"number\",\n        \"std\": 0.13073617955881292,\n        \"min\": -0.39469358,\n        \"max\": 0.4602817,\n        \"num_unique_values\": 20090,\n        \"samples\": [\n          0.008110888,\n          -0.24472056,\n          -0.27900282\n        ],\n        \"semantic_type\": \"\",\n        \"description\": \"\"\n      }\n    },\n    {\n      \"column\": \"sentiment_category\",\n      \"properties\": {\n        \"dtype\": \"category\",\n        \"num_unique_values\": 5,\n        \"samples\": [\n          \"Negative\",\n          \"Very Positive\",\n          \"Very Negative\"\n        ],\n        \"semantic_type\": \"\",\n        \"description\": \"\"\n      }\n    },\n    {\n      \"column\": \"year_month\",\n      \"properties\": {\n        \"dtype\": \"object\",\n        \"num_unique_values\": 118,\n        \"samples\": [\n          \"2019-11\",\n          \"2022-08\",\n          \"2015-07\"\n        ],\n        \"semantic_type\": \"\",\n        \"description\": \"\"\n      }\n    }\n  ]\n}"
            }
          },
          "metadata": {},
          "execution_count": 124
        }
      ]
    },
    {
      "cell_type": "code",
      "source": [
        "monthly_results = results.groupby([\n",
        "    results.year_month\n",
        "]).agg({'sentiment_score': ['mean', 'count']\n",
        "\n",
        "}).round(4)"
      ],
      "metadata": {
        "id": "hjZ3I0SQTlKm"
      },
      "execution_count": 126,
      "outputs": []
    },
    {
      "cell_type": "code",
      "source": [
        "monthly_results"
      ],
      "metadata": {
        "colab": {
          "base_uri": "https://localhost:8080/",
          "height": 487
        },
        "id": "36agul03UYMc",
        "outputId": "91d47580-af75-4485-dcff-098b32dc4d75"
      },
      "execution_count": 127,
      "outputs": [
        {
          "output_type": "execute_result",
          "data": {
            "text/plain": [
              "           sentiment_score      \n",
              "                      mean count\n",
              "year_month                      \n",
              "2015-03            -0.1544    16\n",
              "2015-04            -0.1558    47\n",
              "2015-05            -0.1454    58\n",
              "2015-06            -0.1673    68\n",
              "2015-07            -0.1713    69\n",
              "...                    ...   ...\n",
              "2024-08            -0.1691   401\n",
              "2024-09            -0.1552   314\n",
              "2024-10            -0.1613   394\n",
              "2024-11            -0.1563   268\n",
              "2024-12            -0.1588   175\n",
              "\n",
              "[118 rows x 2 columns]"
            ],
            "text/html": [
              "\n",
              "  <div id=\"df-97b9b26f-6d6c-4e34-8c39-87295135965c\" class=\"colab-df-container\">\n",
              "    <div>\n",
              "<style scoped>\n",
              "    .dataframe tbody tr th:only-of-type {\n",
              "        vertical-align: middle;\n",
              "    }\n",
              "\n",
              "    .dataframe tbody tr th {\n",
              "        vertical-align: top;\n",
              "    }\n",
              "\n",
              "    .dataframe thead tr th {\n",
              "        text-align: left;\n",
              "    }\n",
              "\n",
              "    .dataframe thead tr:last-of-type th {\n",
              "        text-align: right;\n",
              "    }\n",
              "</style>\n",
              "<table border=\"1\" class=\"dataframe\">\n",
              "  <thead>\n",
              "    <tr>\n",
              "      <th></th>\n",
              "      <th colspan=\"2\" halign=\"left\">sentiment_score</th>\n",
              "    </tr>\n",
              "    <tr>\n",
              "      <th></th>\n",
              "      <th>mean</th>\n",
              "      <th>count</th>\n",
              "    </tr>\n",
              "    <tr>\n",
              "      <th>year_month</th>\n",
              "      <th></th>\n",
              "      <th></th>\n",
              "    </tr>\n",
              "  </thead>\n",
              "  <tbody>\n",
              "    <tr>\n",
              "      <th>2015-03</th>\n",
              "      <td>-0.1544</td>\n",
              "      <td>16</td>\n",
              "    </tr>\n",
              "    <tr>\n",
              "      <th>2015-04</th>\n",
              "      <td>-0.1558</td>\n",
              "      <td>47</td>\n",
              "    </tr>\n",
              "    <tr>\n",
              "      <th>2015-05</th>\n",
              "      <td>-0.1454</td>\n",
              "      <td>58</td>\n",
              "    </tr>\n",
              "    <tr>\n",
              "      <th>2015-06</th>\n",
              "      <td>-0.1673</td>\n",
              "      <td>68</td>\n",
              "    </tr>\n",
              "    <tr>\n",
              "      <th>2015-07</th>\n",
              "      <td>-0.1713</td>\n",
              "      <td>69</td>\n",
              "    </tr>\n",
              "    <tr>\n",
              "      <th>...</th>\n",
              "      <td>...</td>\n",
              "      <td>...</td>\n",
              "    </tr>\n",
              "    <tr>\n",
              "      <th>2024-08</th>\n",
              "      <td>-0.1691</td>\n",
              "      <td>401</td>\n",
              "    </tr>\n",
              "    <tr>\n",
              "      <th>2024-09</th>\n",
              "      <td>-0.1552</td>\n",
              "      <td>314</td>\n",
              "    </tr>\n",
              "    <tr>\n",
              "      <th>2024-10</th>\n",
              "      <td>-0.1613</td>\n",
              "      <td>394</td>\n",
              "    </tr>\n",
              "    <tr>\n",
              "      <th>2024-11</th>\n",
              "      <td>-0.1563</td>\n",
              "      <td>268</td>\n",
              "    </tr>\n",
              "    <tr>\n",
              "      <th>2024-12</th>\n",
              "      <td>-0.1588</td>\n",
              "      <td>175</td>\n",
              "    </tr>\n",
              "  </tbody>\n",
              "</table>\n",
              "<p>118 rows × 2 columns</p>\n",
              "</div>\n",
              "    <div class=\"colab-df-buttons\">\n",
              "\n",
              "  <div class=\"colab-df-container\">\n",
              "    <button class=\"colab-df-convert\" onclick=\"convertToInteractive('df-97b9b26f-6d6c-4e34-8c39-87295135965c')\"\n",
              "            title=\"Convert this dataframe to an interactive table.\"\n",
              "            style=\"display:none;\">\n",
              "\n",
              "  <svg xmlns=\"http://www.w3.org/2000/svg\" height=\"24px\" viewBox=\"0 -960 960 960\">\n",
              "    <path d=\"M120-120v-720h720v720H120Zm60-500h600v-160H180v160Zm220 220h160v-160H400v160Zm0 220h160v-160H400v160ZM180-400h160v-160H180v160Zm440 0h160v-160H620v160ZM180-180h160v-160H180v160Zm440 0h160v-160H620v160Z\"/>\n",
              "  </svg>\n",
              "    </button>\n",
              "\n",
              "  <style>\n",
              "    .colab-df-container {\n",
              "      display:flex;\n",
              "      gap: 12px;\n",
              "    }\n",
              "\n",
              "    .colab-df-convert {\n",
              "      background-color: #E8F0FE;\n",
              "      border: none;\n",
              "      border-radius: 50%;\n",
              "      cursor: pointer;\n",
              "      display: none;\n",
              "      fill: #1967D2;\n",
              "      height: 32px;\n",
              "      padding: 0 0 0 0;\n",
              "      width: 32px;\n",
              "    }\n",
              "\n",
              "    .colab-df-convert:hover {\n",
              "      background-color: #E2EBFA;\n",
              "      box-shadow: 0px 1px 2px rgba(60, 64, 67, 0.3), 0px 1px 3px 1px rgba(60, 64, 67, 0.15);\n",
              "      fill: #174EA6;\n",
              "    }\n",
              "\n",
              "    .colab-df-buttons div {\n",
              "      margin-bottom: 4px;\n",
              "    }\n",
              "\n",
              "    [theme=dark] .colab-df-convert {\n",
              "      background-color: #3B4455;\n",
              "      fill: #D2E3FC;\n",
              "    }\n",
              "\n",
              "    [theme=dark] .colab-df-convert:hover {\n",
              "      background-color: #434B5C;\n",
              "      box-shadow: 0px 1px 3px 1px rgba(0, 0, 0, 0.15);\n",
              "      filter: drop-shadow(0px 1px 2px rgba(0, 0, 0, 0.3));\n",
              "      fill: #FFFFFF;\n",
              "    }\n",
              "  </style>\n",
              "\n",
              "    <script>\n",
              "      const buttonEl =\n",
              "        document.querySelector('#df-97b9b26f-6d6c-4e34-8c39-87295135965c button.colab-df-convert');\n",
              "      buttonEl.style.display =\n",
              "        google.colab.kernel.accessAllowed ? 'block' : 'none';\n",
              "\n",
              "      async function convertToInteractive(key) {\n",
              "        const element = document.querySelector('#df-97b9b26f-6d6c-4e34-8c39-87295135965c');\n",
              "        const dataTable =\n",
              "          await google.colab.kernel.invokeFunction('convertToInteractive',\n",
              "                                                    [key], {});\n",
              "        if (!dataTable) return;\n",
              "\n",
              "        const docLinkHtml = 'Like what you see? Visit the ' +\n",
              "          '<a target=\"_blank\" href=https://colab.research.google.com/notebooks/data_table.ipynb>data table notebook</a>'\n",
              "          + ' to learn more about interactive tables.';\n",
              "        element.innerHTML = '';\n",
              "        dataTable['output_type'] = 'display_data';\n",
              "        await google.colab.output.renderOutput(dataTable, element);\n",
              "        const docLink = document.createElement('div');\n",
              "        docLink.innerHTML = docLinkHtml;\n",
              "        element.appendChild(docLink);\n",
              "      }\n",
              "    </script>\n",
              "  </div>\n",
              "\n",
              "\n",
              "<div id=\"df-268daec6-7ac3-411d-891f-cdb92c3a84da\">\n",
              "  <button class=\"colab-df-quickchart\" onclick=\"quickchart('df-268daec6-7ac3-411d-891f-cdb92c3a84da')\"\n",
              "            title=\"Suggest charts\"\n",
              "            style=\"display:none;\">\n",
              "\n",
              "<svg xmlns=\"http://www.w3.org/2000/svg\" height=\"24px\"viewBox=\"0 0 24 24\"\n",
              "     width=\"24px\">\n",
              "    <g>\n",
              "        <path d=\"M19 3H5c-1.1 0-2 .9-2 2v14c0 1.1.9 2 2 2h14c1.1 0 2-.9 2-2V5c0-1.1-.9-2-2-2zM9 17H7v-7h2v7zm4 0h-2V7h2v10zm4 0h-2v-4h2v4z\"/>\n",
              "    </g>\n",
              "</svg>\n",
              "  </button>\n",
              "\n",
              "<style>\n",
              "  .colab-df-quickchart {\n",
              "      --bg-color: #E8F0FE;\n",
              "      --fill-color: #1967D2;\n",
              "      --hover-bg-color: #E2EBFA;\n",
              "      --hover-fill-color: #174EA6;\n",
              "      --disabled-fill-color: #AAA;\n",
              "      --disabled-bg-color: #DDD;\n",
              "  }\n",
              "\n",
              "  [theme=dark] .colab-df-quickchart {\n",
              "      --bg-color: #3B4455;\n",
              "      --fill-color: #D2E3FC;\n",
              "      --hover-bg-color: #434B5C;\n",
              "      --hover-fill-color: #FFFFFF;\n",
              "      --disabled-bg-color: #3B4455;\n",
              "      --disabled-fill-color: #666;\n",
              "  }\n",
              "\n",
              "  .colab-df-quickchart {\n",
              "    background-color: var(--bg-color);\n",
              "    border: none;\n",
              "    border-radius: 50%;\n",
              "    cursor: pointer;\n",
              "    display: none;\n",
              "    fill: var(--fill-color);\n",
              "    height: 32px;\n",
              "    padding: 0;\n",
              "    width: 32px;\n",
              "  }\n",
              "\n",
              "  .colab-df-quickchart:hover {\n",
              "    background-color: var(--hover-bg-color);\n",
              "    box-shadow: 0 1px 2px rgba(60, 64, 67, 0.3), 0 1px 3px 1px rgba(60, 64, 67, 0.15);\n",
              "    fill: var(--button-hover-fill-color);\n",
              "  }\n",
              "\n",
              "  .colab-df-quickchart-complete:disabled,\n",
              "  .colab-df-quickchart-complete:disabled:hover {\n",
              "    background-color: var(--disabled-bg-color);\n",
              "    fill: var(--disabled-fill-color);\n",
              "    box-shadow: none;\n",
              "  }\n",
              "\n",
              "  .colab-df-spinner {\n",
              "    border: 2px solid var(--fill-color);\n",
              "    border-color: transparent;\n",
              "    border-bottom-color: var(--fill-color);\n",
              "    animation:\n",
              "      spin 1s steps(1) infinite;\n",
              "  }\n",
              "\n",
              "  @keyframes spin {\n",
              "    0% {\n",
              "      border-color: transparent;\n",
              "      border-bottom-color: var(--fill-color);\n",
              "      border-left-color: var(--fill-color);\n",
              "    }\n",
              "    20% {\n",
              "      border-color: transparent;\n",
              "      border-left-color: var(--fill-color);\n",
              "      border-top-color: var(--fill-color);\n",
              "    }\n",
              "    30% {\n",
              "      border-color: transparent;\n",
              "      border-left-color: var(--fill-color);\n",
              "      border-top-color: var(--fill-color);\n",
              "      border-right-color: var(--fill-color);\n",
              "    }\n",
              "    40% {\n",
              "      border-color: transparent;\n",
              "      border-right-color: var(--fill-color);\n",
              "      border-top-color: var(--fill-color);\n",
              "    }\n",
              "    60% {\n",
              "      border-color: transparent;\n",
              "      border-right-color: var(--fill-color);\n",
              "    }\n",
              "    80% {\n",
              "      border-color: transparent;\n",
              "      border-right-color: var(--fill-color);\n",
              "      border-bottom-color: var(--fill-color);\n",
              "    }\n",
              "    90% {\n",
              "      border-color: transparent;\n",
              "      border-bottom-color: var(--fill-color);\n",
              "    }\n",
              "  }\n",
              "</style>\n",
              "\n",
              "  <script>\n",
              "    async function quickchart(key) {\n",
              "      const quickchartButtonEl =\n",
              "        document.querySelector('#' + key + ' button');\n",
              "      quickchartButtonEl.disabled = true;  // To prevent multiple clicks.\n",
              "      quickchartButtonEl.classList.add('colab-df-spinner');\n",
              "      try {\n",
              "        const charts = await google.colab.kernel.invokeFunction(\n",
              "            'suggestCharts', [key], {});\n",
              "      } catch (error) {\n",
              "        console.error('Error during call to suggestCharts:', error);\n",
              "      }\n",
              "      quickchartButtonEl.classList.remove('colab-df-spinner');\n",
              "      quickchartButtonEl.classList.add('colab-df-quickchart-complete');\n",
              "    }\n",
              "    (() => {\n",
              "      let quickchartButtonEl =\n",
              "        document.querySelector('#df-268daec6-7ac3-411d-891f-cdb92c3a84da button');\n",
              "      quickchartButtonEl.style.display =\n",
              "        google.colab.kernel.accessAllowed ? 'block' : 'none';\n",
              "    })();\n",
              "  </script>\n",
              "</div>\n",
              "\n",
              "  <div id=\"id_70d27f58-0d00-4156-abae-fe4107b6cd45\">\n",
              "    <style>\n",
              "      .colab-df-generate {\n",
              "        background-color: #E8F0FE;\n",
              "        border: none;\n",
              "        border-radius: 50%;\n",
              "        cursor: pointer;\n",
              "        display: none;\n",
              "        fill: #1967D2;\n",
              "        height: 32px;\n",
              "        padding: 0 0 0 0;\n",
              "        width: 32px;\n",
              "      }\n",
              "\n",
              "      .colab-df-generate:hover {\n",
              "        background-color: #E2EBFA;\n",
              "        box-shadow: 0px 1px 2px rgba(60, 64, 67, 0.3), 0px 1px 3px 1px rgba(60, 64, 67, 0.15);\n",
              "        fill: #174EA6;\n",
              "      }\n",
              "\n",
              "      [theme=dark] .colab-df-generate {\n",
              "        background-color: #3B4455;\n",
              "        fill: #D2E3FC;\n",
              "      }\n",
              "\n",
              "      [theme=dark] .colab-df-generate:hover {\n",
              "        background-color: #434B5C;\n",
              "        box-shadow: 0px 1px 3px 1px rgba(0, 0, 0, 0.15);\n",
              "        filter: drop-shadow(0px 1px 2px rgba(0, 0, 0, 0.3));\n",
              "        fill: #FFFFFF;\n",
              "      }\n",
              "    </style>\n",
              "    <button class=\"colab-df-generate\" onclick=\"generateWithVariable('monthly_results')\"\n",
              "            title=\"Generate code using this dataframe.\"\n",
              "            style=\"display:none;\">\n",
              "\n",
              "  <svg xmlns=\"http://www.w3.org/2000/svg\" height=\"24px\"viewBox=\"0 0 24 24\"\n",
              "       width=\"24px\">\n",
              "    <path d=\"M7,19H8.4L18.45,9,17,7.55,7,17.6ZM5,21V16.75L18.45,3.32a2,2,0,0,1,2.83,0l1.4,1.43a1.91,1.91,0,0,1,.58,1.4,1.91,1.91,0,0,1-.58,1.4L9.25,21ZM18.45,9,17,7.55Zm-12,3A5.31,5.31,0,0,0,4.9,8.1,5.31,5.31,0,0,0,1,6.5,5.31,5.31,0,0,0,4.9,4.9,5.31,5.31,0,0,0,6.5,1,5.31,5.31,0,0,0,8.1,4.9,5.31,5.31,0,0,0,12,6.5,5.46,5.46,0,0,0,6.5,12Z\"/>\n",
              "  </svg>\n",
              "    </button>\n",
              "    <script>\n",
              "      (() => {\n",
              "      const buttonEl =\n",
              "        document.querySelector('#id_70d27f58-0d00-4156-abae-fe4107b6cd45 button.colab-df-generate');\n",
              "      buttonEl.style.display =\n",
              "        google.colab.kernel.accessAllowed ? 'block' : 'none';\n",
              "\n",
              "      buttonEl.onclick = () => {\n",
              "        google.colab.notebook.generateWithVariable('monthly_results');\n",
              "      }\n",
              "      })();\n",
              "    </script>\n",
              "  </div>\n",
              "\n",
              "    </div>\n",
              "  </div>\n"
            ],
            "application/vnd.google.colaboratory.intrinsic+json": {
              "type": "dataframe",
              "variable_name": "monthly_results",
              "summary": "{\n  \"name\": \"monthly_results\",\n  \"rows\": 118,\n  \"fields\": [\n    {\n      \"column\": [\n        \"year_month\",\n        \"\"\n      ],\n      \"properties\": {\n        \"dtype\": \"object\",\n        \"num_unique_values\": 118,\n        \"samples\": [\n          \"2019-11\",\n          \"2022-08\",\n          \"2015-07\"\n        ],\n        \"semantic_type\": \"\",\n        \"description\": \"\"\n      }\n    },\n    {\n      \"column\": [\n        \"sentiment_score\",\n        \"mean\"\n      ],\n      \"properties\": {\n        \"dtype\": \"number\",\n        \"std\": 0.016966410903384625,\n        \"min\": -0.1859,\n        \"max\": -0.0897,\n        \"num_unique_values\": 108,\n        \"samples\": [\n          -0.1709,\n          -0.1859,\n          -0.1713\n        ],\n        \"semantic_type\": \"\",\n        \"description\": \"\"\n      }\n    },\n    {\n      \"column\": [\n        \"sentiment_score\",\n        \"count\"\n      ],\n      \"properties\": {\n        \"dtype\": \"number\",\n        \"std\": 211,\n        \"min\": 16,\n        \"max\": 2069,\n        \"num_unique_values\": 87,\n        \"samples\": [\n          308,\n          16,\n          93\n        ],\n        \"semantic_type\": \"\",\n        \"description\": \"\"\n      }\n    }\n  ]\n}"
            }
          },
          "metadata": {},
          "execution_count": 127
        }
      ]
    },
    {
      "cell_type": "code",
      "source": [
        "monthly_results.to_csv('monthly_results.csv')"
      ],
      "metadata": {
        "id": "19yQzSFAVf5N"
      },
      "execution_count": 128,
      "outputs": []
    }
  ],
  "metadata": {
    "accelerator": "GPU",
    "colab": {
      "gpuType": "T4",
      "provenance": [],
      "authorship_tag": "ABX9TyMifvW5v9JwfO6N0sWhFoPm",
      "include_colab_link": true
    },
    "kernelspec": {
      "display_name": "Python 3",
      "name": "python3"
    },
    "language_info": {
      "name": "python"
    }
  },
  "nbformat": 4,
  "nbformat_minor": 0
}